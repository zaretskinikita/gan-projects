{
 "cells": [
  {
   "cell_type": "markdown",
   "metadata": {},
   "source": [
    "# Random forest\n",
    "## Обучение дерева на синтезированных данных -> проверка на реальных \n",
    "## Это будет являться критерием, по которому можно оценить соответствие синтезированных данных реальным. \n",
    "## (Задача бинарной классификации)\n",
    "###  Обучение и проверка дерева на реальных данных дает дает разделение с roc_auc = 0.68, accuracy = 0.68. Возьмем эти данные за эталон"
   ]
  },
  {
   "cell_type": "code",
   "execution_count": 1,
   "metadata": {},
   "outputs": [],
   "source": [
    "import pandas as pd\n",
    "import uproot\n",
    "import numpy as np\n",
    "import seaborn as sns\n",
    "import matplotlib.pyplot as plt\n",
    "from sklearn import model_selection\n",
    "from sklearn import metrics\n",
    "import torch\n",
    "import torch.nn as nn\n",
    "import torch.optim as optim\n",
    "from torch.utils.data import Dataset, DataLoader\n",
    "import time\n",
    "from sklearn.utils import shuffle\n",
    "from sklearn.preprocessing import StandardScaler    \n",
    "from sklearn.model_selection import train_test_split\n",
    "from sklearn.metrics import confusion_matrix, classification_report\n",
    "from sklearn.metrics import auc\n",
    "from sklearn.utils import shuffle\n",
    "import matplotlib\n",
    "from xgboost import XGBClassifier\n",
    "from sklearn.model_selection import cross_val_score, KFold\n",
    "import sklearn.metrics\n",
    "from sklearn.ensemble import RandomForestClassifier"
   ]
  },
  {
   "cell_type": "code",
   "execution_count": 2,
   "metadata": {},
   "outputs": [],
   "source": [
    "data = pd.read_csv('example.csv')\n",
    "\n",
    "\n",
    "data.drop(data.columns[[0]], axis  =1, inplace = True)\n",
    "\n",
    "data = data.reset_index()\n",
    "data.drop(data.columns[[0]], axis  =1, inplace = True)"
   ]
  },
  {
   "cell_type": "code",
   "execution_count": 3,
   "metadata": {},
   "outputs": [],
   "source": [
    "data.drop('TimeAtHeightX1', axis = 1, inplace = True)\n",
    "data.drop('TimeAtHeightX50', axis = 1, inplace = True)\n",
    "\n",
    "\n",
    "for i in range(1, 49):\n",
    "    data.drop('derivative'+str(i), axis = 1, inplace = True)"
   ]
  },
  {
   "cell_type": "code",
   "execution_count": 4,
   "metadata": {},
   "outputs": [
    {
     "data": {
      "text/html": [
       "<div>\n",
       "<style scoped>\n",
       "    .dataframe tbody tr th:only-of-type {\n",
       "        vertical-align: middle;\n",
       "    }\n",
       "\n",
       "    .dataframe tbody tr th {\n",
       "        vertical-align: top;\n",
       "    }\n",
       "\n",
       "    .dataframe thead th {\n",
       "        text-align: right;\n",
       "    }\n",
       "</style>\n",
       "<table border=\"1\" class=\"dataframe\">\n",
       "  <thead>\n",
       "    <tr style=\"text-align: right;\">\n",
       "      <th></th>\n",
       "      <th>TimeAtHeightX2</th>\n",
       "      <th>TimeAtHeightX3</th>\n",
       "      <th>TimeAtHeightX4</th>\n",
       "      <th>TimeAtHeightX5</th>\n",
       "      <th>TimeAtHeightX6</th>\n",
       "      <th>TimeAtHeightX7</th>\n",
       "      <th>TimeAtHeightX8</th>\n",
       "      <th>TimeAtHeightX9</th>\n",
       "      <th>TimeAtHeightX10</th>\n",
       "      <th>TimeAtHeightX11</th>\n",
       "      <th>...</th>\n",
       "      <th>TimeAtHeightX41</th>\n",
       "      <th>TimeAtHeightX42</th>\n",
       "      <th>TimeAtHeightX43</th>\n",
       "      <th>TimeAtHeightX44</th>\n",
       "      <th>TimeAtHeightX45</th>\n",
       "      <th>TimeAtHeightX46</th>\n",
       "      <th>TimeAtHeightX47</th>\n",
       "      <th>TimeAtHeightX48</th>\n",
       "      <th>TimeAtHeightX49</th>\n",
       "      <th>label</th>\n",
       "    </tr>\n",
       "  </thead>\n",
       "  <tbody>\n",
       "    <tr>\n",
       "      <th>0</th>\n",
       "      <td>0.047859</td>\n",
       "      <td>0.084551</td>\n",
       "      <td>0.119299</td>\n",
       "      <td>0.155299</td>\n",
       "      <td>0.188761</td>\n",
       "      <td>0.223149</td>\n",
       "      <td>0.255443</td>\n",
       "      <td>0.288945</td>\n",
       "      <td>0.321843</td>\n",
       "      <td>0.357933</td>\n",
       "      <td>...</td>\n",
       "      <td>0.761236</td>\n",
       "      <td>0.775216</td>\n",
       "      <td>0.790953</td>\n",
       "      <td>0.808080</td>\n",
       "      <td>0.827855</td>\n",
       "      <td>0.851578</td>\n",
       "      <td>0.879867</td>\n",
       "      <td>0.914935</td>\n",
       "      <td>0.957423</td>\n",
       "      <td>1</td>\n",
       "    </tr>\n",
       "    <tr>\n",
       "      <th>1</th>\n",
       "      <td>0.066097</td>\n",
       "      <td>0.122598</td>\n",
       "      <td>0.178579</td>\n",
       "      <td>0.227855</td>\n",
       "      <td>0.260765</td>\n",
       "      <td>0.286020</td>\n",
       "      <td>0.308475</td>\n",
       "      <td>0.330446</td>\n",
       "      <td>0.353333</td>\n",
       "      <td>0.377823</td>\n",
       "      <td>...</td>\n",
       "      <td>0.708679</td>\n",
       "      <td>0.717790</td>\n",
       "      <td>0.727728</td>\n",
       "      <td>0.738878</td>\n",
       "      <td>0.751607</td>\n",
       "      <td>0.767009</td>\n",
       "      <td>0.787676</td>\n",
       "      <td>0.819713</td>\n",
       "      <td>0.871028</td>\n",
       "      <td>1</td>\n",
       "    </tr>\n",
       "    <tr>\n",
       "      <th>2</th>\n",
       "      <td>0.042451</td>\n",
       "      <td>0.080758</td>\n",
       "      <td>0.109641</td>\n",
       "      <td>0.133549</td>\n",
       "      <td>0.159071</td>\n",
       "      <td>0.185241</td>\n",
       "      <td>0.207271</td>\n",
       "      <td>0.228389</td>\n",
       "      <td>0.250128</td>\n",
       "      <td>0.272917</td>\n",
       "      <td>...</td>\n",
       "      <td>0.673597</td>\n",
       "      <td>0.685386</td>\n",
       "      <td>0.698527</td>\n",
       "      <td>0.713532</td>\n",
       "      <td>0.729706</td>\n",
       "      <td>0.748626</td>\n",
       "      <td>0.770700</td>\n",
       "      <td>0.801208</td>\n",
       "      <td>0.845046</td>\n",
       "      <td>1</td>\n",
       "    </tr>\n",
       "    <tr>\n",
       "      <th>3</th>\n",
       "      <td>0.050162</td>\n",
       "      <td>0.081531</td>\n",
       "      <td>0.107799</td>\n",
       "      <td>0.136899</td>\n",
       "      <td>0.165083</td>\n",
       "      <td>0.188978</td>\n",
       "      <td>0.211104</td>\n",
       "      <td>0.232359</td>\n",
       "      <td>0.250481</td>\n",
       "      <td>0.268702</td>\n",
       "      <td>...</td>\n",
       "      <td>0.649186</td>\n",
       "      <td>0.666570</td>\n",
       "      <td>0.685623</td>\n",
       "      <td>0.705195</td>\n",
       "      <td>0.725774</td>\n",
       "      <td>0.748908</td>\n",
       "      <td>0.780669</td>\n",
       "      <td>0.841105</td>\n",
       "      <td>0.926148</td>\n",
       "      <td>1</td>\n",
       "    </tr>\n",
       "    <tr>\n",
       "      <th>4</th>\n",
       "      <td>0.051562</td>\n",
       "      <td>0.084981</td>\n",
       "      <td>0.113827</td>\n",
       "      <td>0.140121</td>\n",
       "      <td>0.164231</td>\n",
       "      <td>0.187563</td>\n",
       "      <td>0.209352</td>\n",
       "      <td>0.231103</td>\n",
       "      <td>0.252877</td>\n",
       "      <td>0.276163</td>\n",
       "      <td>...</td>\n",
       "      <td>0.651205</td>\n",
       "      <td>0.665931</td>\n",
       "      <td>0.683183</td>\n",
       "      <td>0.702438</td>\n",
       "      <td>0.725369</td>\n",
       "      <td>0.754619</td>\n",
       "      <td>0.791443</td>\n",
       "      <td>0.835863</td>\n",
       "      <td>0.895991</td>\n",
       "      <td>1</td>\n",
       "    </tr>\n",
       "    <tr>\n",
       "      <th>...</th>\n",
       "      <td>...</td>\n",
       "      <td>...</td>\n",
       "      <td>...</td>\n",
       "      <td>...</td>\n",
       "      <td>...</td>\n",
       "      <td>...</td>\n",
       "      <td>...</td>\n",
       "      <td>...</td>\n",
       "      <td>...</td>\n",
       "      <td>...</td>\n",
       "      <td>...</td>\n",
       "      <td>...</td>\n",
       "      <td>...</td>\n",
       "      <td>...</td>\n",
       "      <td>...</td>\n",
       "      <td>...</td>\n",
       "      <td>...</td>\n",
       "      <td>...</td>\n",
       "      <td>...</td>\n",
       "      <td>...</td>\n",
       "      <td>...</td>\n",
       "    </tr>\n",
       "    <tr>\n",
       "      <th>105261</th>\n",
       "      <td>0.035229</td>\n",
       "      <td>0.060083</td>\n",
       "      <td>0.080566</td>\n",
       "      <td>0.099828</td>\n",
       "      <td>0.118521</td>\n",
       "      <td>0.137276</td>\n",
       "      <td>0.157294</td>\n",
       "      <td>0.177510</td>\n",
       "      <td>0.197362</td>\n",
       "      <td>0.217133</td>\n",
       "      <td>...</td>\n",
       "      <td>0.578607</td>\n",
       "      <td>0.590717</td>\n",
       "      <td>0.604348</td>\n",
       "      <td>0.621260</td>\n",
       "      <td>0.642887</td>\n",
       "      <td>0.667255</td>\n",
       "      <td>0.692885</td>\n",
       "      <td>0.721531</td>\n",
       "      <td>0.757906</td>\n",
       "      <td>0</td>\n",
       "    </tr>\n",
       "    <tr>\n",
       "      <th>105262</th>\n",
       "      <td>0.028220</td>\n",
       "      <td>0.044297</td>\n",
       "      <td>0.056458</td>\n",
       "      <td>0.066501</td>\n",
       "      <td>0.075623</td>\n",
       "      <td>0.084557</td>\n",
       "      <td>0.092995</td>\n",
       "      <td>0.101227</td>\n",
       "      <td>0.108975</td>\n",
       "      <td>0.116525</td>\n",
       "      <td>...</td>\n",
       "      <td>0.451851</td>\n",
       "      <td>0.485193</td>\n",
       "      <td>0.519943</td>\n",
       "      <td>0.564228</td>\n",
       "      <td>0.613157</td>\n",
       "      <td>0.668433</td>\n",
       "      <td>0.718536</td>\n",
       "      <td>0.762816</td>\n",
       "      <td>0.815186</td>\n",
       "      <td>0</td>\n",
       "    </tr>\n",
       "    <tr>\n",
       "      <th>105263</th>\n",
       "      <td>0.028212</td>\n",
       "      <td>0.054477</td>\n",
       "      <td>0.076754</td>\n",
       "      <td>0.099435</td>\n",
       "      <td>0.123540</td>\n",
       "      <td>0.150332</td>\n",
       "      <td>0.179216</td>\n",
       "      <td>0.214623</td>\n",
       "      <td>0.247511</td>\n",
       "      <td>0.274846</td>\n",
       "      <td>...</td>\n",
       "      <td>0.657559</td>\n",
       "      <td>0.667250</td>\n",
       "      <td>0.677064</td>\n",
       "      <td>0.688689</td>\n",
       "      <td>0.702875</td>\n",
       "      <td>0.721197</td>\n",
       "      <td>0.747104</td>\n",
       "      <td>0.788718</td>\n",
       "      <td>0.843830</td>\n",
       "      <td>0</td>\n",
       "    </tr>\n",
       "    <tr>\n",
       "      <th>105264</th>\n",
       "      <td>0.029620</td>\n",
       "      <td>0.050797</td>\n",
       "      <td>0.067901</td>\n",
       "      <td>0.082770</td>\n",
       "      <td>0.096459</td>\n",
       "      <td>0.109997</td>\n",
       "      <td>0.122814</td>\n",
       "      <td>0.135166</td>\n",
       "      <td>0.146975</td>\n",
       "      <td>0.158749</td>\n",
       "      <td>...</td>\n",
       "      <td>0.607244</td>\n",
       "      <td>0.633785</td>\n",
       "      <td>0.660762</td>\n",
       "      <td>0.692068</td>\n",
       "      <td>0.724265</td>\n",
       "      <td>0.759192</td>\n",
       "      <td>0.795330</td>\n",
       "      <td>0.833567</td>\n",
       "      <td>0.883578</td>\n",
       "      <td>0</td>\n",
       "    </tr>\n",
       "    <tr>\n",
       "      <th>105265</th>\n",
       "      <td>0.048996</td>\n",
       "      <td>0.073531</td>\n",
       "      <td>0.092633</td>\n",
       "      <td>0.108808</td>\n",
       "      <td>0.123380</td>\n",
       "      <td>0.138108</td>\n",
       "      <td>0.152986</td>\n",
       "      <td>0.168053</td>\n",
       "      <td>0.183179</td>\n",
       "      <td>0.198239</td>\n",
       "      <td>...</td>\n",
       "      <td>0.663682</td>\n",
       "      <td>0.678427</td>\n",
       "      <td>0.693712</td>\n",
       "      <td>0.710231</td>\n",
       "      <td>0.729115</td>\n",
       "      <td>0.750737</td>\n",
       "      <td>0.775845</td>\n",
       "      <td>0.809197</td>\n",
       "      <td>0.874488</td>\n",
       "      <td>0</td>\n",
       "    </tr>\n",
       "  </tbody>\n",
       "</table>\n",
       "<p>105266 rows × 49 columns</p>\n",
       "</div>"
      ],
      "text/plain": [
       "        TimeAtHeightX2  TimeAtHeightX3  TimeAtHeightX4  TimeAtHeightX5  \\\n",
       "0             0.047859        0.084551        0.119299        0.155299   \n",
       "1             0.066097        0.122598        0.178579        0.227855   \n",
       "2             0.042451        0.080758        0.109641        0.133549   \n",
       "3             0.050162        0.081531        0.107799        0.136899   \n",
       "4             0.051562        0.084981        0.113827        0.140121   \n",
       "...                ...             ...             ...             ...   \n",
       "105261        0.035229        0.060083        0.080566        0.099828   \n",
       "105262        0.028220        0.044297        0.056458        0.066501   \n",
       "105263        0.028212        0.054477        0.076754        0.099435   \n",
       "105264        0.029620        0.050797        0.067901        0.082770   \n",
       "105265        0.048996        0.073531        0.092633        0.108808   \n",
       "\n",
       "        TimeAtHeightX6  TimeAtHeightX7  TimeAtHeightX8  TimeAtHeightX9  \\\n",
       "0             0.188761        0.223149        0.255443        0.288945   \n",
       "1             0.260765        0.286020        0.308475        0.330446   \n",
       "2             0.159071        0.185241        0.207271        0.228389   \n",
       "3             0.165083        0.188978        0.211104        0.232359   \n",
       "4             0.164231        0.187563        0.209352        0.231103   \n",
       "...                ...             ...             ...             ...   \n",
       "105261        0.118521        0.137276        0.157294        0.177510   \n",
       "105262        0.075623        0.084557        0.092995        0.101227   \n",
       "105263        0.123540        0.150332        0.179216        0.214623   \n",
       "105264        0.096459        0.109997        0.122814        0.135166   \n",
       "105265        0.123380        0.138108        0.152986        0.168053   \n",
       "\n",
       "        TimeAtHeightX10  TimeAtHeightX11  ...  TimeAtHeightX41  \\\n",
       "0              0.321843         0.357933  ...         0.761236   \n",
       "1              0.353333         0.377823  ...         0.708679   \n",
       "2              0.250128         0.272917  ...         0.673597   \n",
       "3              0.250481         0.268702  ...         0.649186   \n",
       "4              0.252877         0.276163  ...         0.651205   \n",
       "...                 ...              ...  ...              ...   \n",
       "105261         0.197362         0.217133  ...         0.578607   \n",
       "105262         0.108975         0.116525  ...         0.451851   \n",
       "105263         0.247511         0.274846  ...         0.657559   \n",
       "105264         0.146975         0.158749  ...         0.607244   \n",
       "105265         0.183179         0.198239  ...         0.663682   \n",
       "\n",
       "        TimeAtHeightX42  TimeAtHeightX43  TimeAtHeightX44  TimeAtHeightX45  \\\n",
       "0              0.775216         0.790953         0.808080         0.827855   \n",
       "1              0.717790         0.727728         0.738878         0.751607   \n",
       "2              0.685386         0.698527         0.713532         0.729706   \n",
       "3              0.666570         0.685623         0.705195         0.725774   \n",
       "4              0.665931         0.683183         0.702438         0.725369   \n",
       "...                 ...              ...              ...              ...   \n",
       "105261         0.590717         0.604348         0.621260         0.642887   \n",
       "105262         0.485193         0.519943         0.564228         0.613157   \n",
       "105263         0.667250         0.677064         0.688689         0.702875   \n",
       "105264         0.633785         0.660762         0.692068         0.724265   \n",
       "105265         0.678427         0.693712         0.710231         0.729115   \n",
       "\n",
       "        TimeAtHeightX46  TimeAtHeightX47  TimeAtHeightX48  TimeAtHeightX49  \\\n",
       "0              0.851578         0.879867         0.914935         0.957423   \n",
       "1              0.767009         0.787676         0.819713         0.871028   \n",
       "2              0.748626         0.770700         0.801208         0.845046   \n",
       "3              0.748908         0.780669         0.841105         0.926148   \n",
       "4              0.754619         0.791443         0.835863         0.895991   \n",
       "...                 ...              ...              ...              ...   \n",
       "105261         0.667255         0.692885         0.721531         0.757906   \n",
       "105262         0.668433         0.718536         0.762816         0.815186   \n",
       "105263         0.721197         0.747104         0.788718         0.843830   \n",
       "105264         0.759192         0.795330         0.833567         0.883578   \n",
       "105265         0.750737         0.775845         0.809197         0.874488   \n",
       "\n",
       "        label  \n",
       "0           1  \n",
       "1           1  \n",
       "2           1  \n",
       "3           1  \n",
       "4           1  \n",
       "...       ...  \n",
       "105261      0  \n",
       "105262      0  \n",
       "105263      0  \n",
       "105264      0  \n",
       "105265      0  \n",
       "\n",
       "[105266 rows x 49 columns]"
      ]
     },
     "execution_count": 4,
     "metadata": {},
     "output_type": "execute_result"
    }
   ],
   "source": [
    "data"
   ]
  },
  {
   "cell_type": "code",
   "execution_count": 5,
   "metadata": {},
   "outputs": [
    {
     "data": {
      "text/plain": [
       "<matplotlib.axes._subplots.AxesSubplot at 0x148bc93c408>"
      ]
     },
     "execution_count": 5,
     "metadata": {},
     "output_type": "execute_result"
    },
    {
     "data": {
      "image/png": "[encoded data removed]",
      "text/plain": [
       "<Figure size 432x288 with 1 Axes>"
      ]
     },
     "metadata": {
      "needs_background": "light"
     },
     "output_type": "display_data"
    }
   ],
   "source": [
    "sns.countplot(x = 'label', data=data)"
   ]
  },
  {
   "cell_type": "markdown",
   "metadata": {},
   "source": [
    "## Обучение"
   ]
  },
  {
   "cell_type": "code",
   "execution_count": 6,
   "metadata": {},
   "outputs": [],
   "source": [
    "train_X, test_X, train_Y, test_Y = model_selection.train_test_split(data.iloc[:,0:-1],data.iloc[:,-1],test_size=0.3, random_state=1)"
   ]
  },
  {
   "cell_type": "code",
   "execution_count": 7,
   "metadata": {},
   "outputs": [
    {
     "name": "stdout",
     "output_type": "stream",
     "text": [
      "RandomForestClassifier(bootstrap=True, ccp_alpha=0.0, class_weight=None,\n",
      "                       criterion='gini', max_depth=None, max_features='auto',\n",
      "                       max_leaf_nodes=None, max_samples=None,\n",
      "                       min_impurity_decrease=0.0, min_impurity_split=None,\n",
      "                       min_samples_leaf=1, min_samples_split=2,\n",
      "                       min_weight_fraction_leaf=0.0, n_estimators=100,\n",
      "                       n_jobs=None, oob_score=False, random_state=None,\n",
      "                       verbose=0, warm_start=False)\n"
     ]
    }
   ],
   "source": [
    "clf = RandomForestClassifier(n_estimators=100)\n",
    "print(clf)"
   ]
  },
  {
   "cell_type": "code",
   "execution_count": 8,
   "metadata": {},
   "outputs": [
    {
     "data": {
      "text/plain": [
       "RandomForestClassifier(bootstrap=True, ccp_alpha=0.0, class_weight=None,\n",
       "                       criterion='gini', max_depth=None, max_features='auto',\n",
       "                       max_leaf_nodes=None, max_samples=None,\n",
       "                       min_impurity_decrease=0.0, min_impurity_split=None,\n",
       "                       min_samples_leaf=1, min_samples_split=2,\n",
       "                       min_weight_fraction_leaf=0.0, n_estimators=100,\n",
       "                       n_jobs=None, oob_score=False, random_state=None,\n",
       "                       verbose=0, warm_start=False)"
      ]
     },
     "execution_count": 8,
     "metadata": {},
     "output_type": "execute_result"
    }
   ],
   "source": [
    "clf.fit(train_X, train_Y)"
   ]
  },
  {
   "cell_type": "markdown",
   "metadata": {},
   "source": [
    "## Тест на синтезированных данных (другой выборке)"
   ]
  },
  {
   "cell_type": "code",
   "execution_count": 9,
   "metadata": {},
   "outputs": [],
   "source": [
    "ypred = clf.predict_proba(test_X)"
   ]
  },
  {
   "cell_type": "code",
   "execution_count": 10,
   "metadata": {},
   "outputs": [],
   "source": [
    "fpr, tpr, thresholds = metrics.roc_curve(test_Y, ypred[:, 1])"
   ]
  },
  {
   "cell_type": "code",
   "execution_count": 15,
   "metadata": {},
   "outputs": [],
   "source": [
    "thrs =0.5"
   ]
  },
  {
   "cell_type": "code",
   "execution_count": 17,
   "metadata": {},
   "outputs": [],
   "source": [
    "ypred2 = (ypred[:, 1]>=thrs)"
   ]
  },
  {
   "cell_type": "code",
   "execution_count": 18,
   "metadata": {},
   "outputs": [
    {
     "name": "stdout",
     "output_type": "stream",
     "text": [
      "accuracy = 0.878435718809373\n"
     ]
    }
   ],
   "source": [
    "print ('accuracy = ' + str(metrics.accuracy_score(test_Y, ypred2)))"
   ]
  },
  {
   "cell_type": "code",
   "execution_count": 19,
   "metadata": {},
   "outputs": [
    {
     "name": "stdout",
     "output_type": "stream",
     "text": [
      "roc_auc = 0.8779209731363627\n"
     ]
    },
    {
     "data": {
      "image/png": "[encoded data removed]",
      "text/plain": [
       "<Figure size 432x288 with 1 Axes>"
      ]
     },
     "metadata": {
      "needs_background": "light"
     },
     "output_type": "display_data"
    }
   ],
   "source": [
    "plt.plot( tpr,  np.abs(1-fpr), label = 'linear model')\n",
    "plt.xlabel('Signal acceptance')\n",
    "plt.ylabel('Background rejection')\n",
    "plt.title('Simulated pulses')\n",
    "plt.grid()\n",
    "plt.legend()\n",
    "print('roc_auc = '+ str(metrics.roc_auc_score(test_Y, ypred2)))"
   ]
  },
  {
   "cell_type": "code",
   "execution_count": 20,
   "metadata": {},
   "outputs": [
    {
     "name": "stderr",
     "output_type": "stream",
     "text": [
      "C:\\Users\\zaret\\anaconda3\\lib\\site-packages\\ipykernel_launcher.py:10: FutureWarning: Using a non-tuple sequence for multidimensional indexing is deprecated; use `arr[tuple(seq)]` instead of `arr[seq]`. In the future this will be interpreted as an array index, `arr[np.array(seq)]`, which will result either in an error or a different result.\n",
      "  # Remove the CWD from sys.path while we load stuff.\n",
      "C:\\Users\\zaret\\anaconda3\\lib\\site-packages\\ipykernel_launcher.py:11: FutureWarning: Using a non-tuple sequence for multidimensional indexing is deprecated; use `arr[tuple(seq)]` instead of `arr[seq]`. In the future this will be interpreted as an array index, `arr[np.array(seq)]`, which will result either in an error or a different result.\n",
      "  # This is added back by InteractiveShellApp.init_path()\n"
     ]
    },
    {
     "data": {
      "text/plain": [
       "Text(0.5, 1.0, 'Simulated pulses')"
      ]
     },
     "execution_count": 20,
     "metadata": {},
     "output_type": "execute_result"
    },
    {
     "data": {
      "text/plain": [
       "<Figure size 2880x2160 with 0 Axes>"
      ]
     },
     "metadata": {},
     "output_type": "display_data"
    },
    {
     "data": {
      "image/png": "[encoded data removed]",
      "text/plain": [
       "<Figure size 432x288 with 1 Axes>"
      ]
     },
     "metadata": {
      "needs_background": "light"
     },
     "output_type": "display_data"
    }
   ],
   "source": [
    "A = np.array(ypred[:,1])\n",
    "idx_sig = np.where(test_Y == 1)[0] #signal\n",
    "idx_bkg = np.where(test_Y == 0)[0]# выдает номера \n",
    "\n",
    "\n",
    "# Histogram predictions without error bars: #количес\n",
    "bins = 50\n",
    "fig14 = plt.figure(figsize=(40,30))\n",
    "fig14, ax = plt.subplots()\n",
    "n1, bins1, patches1 = ax.hist(A[[idx_sig]], histtype='step', label='sig', bins = bins)\n",
    "n2, bins2, patches2 = ax.hist(A[[idx_bkg]], histtype='step', label='bkg', bins = bins)\n",
    "ax.set_xlabel('Prediction', {'fontsize': 14})\n",
    "ax.set_ylabel('Number of events', {'fontsize': 14})\n",
    "plt.yticks((10**0, 10**1, 10**2, 10**3), color='k', size=14)\n",
    "plt.xticks((0.0, 0.2, 0.4, 0.6, 0.8, 1.0), color='k', size=14)\n",
    "plt.yscale('log')\n",
    "plt.legend(loc=\"upper right\")\n",
    "#fig14.savefig(\"predictions.pdf\", bbox_inches='tight')\n",
    "plt.title('Simulated pulses')"
   ]
  },
  {
   "cell_type": "code",
   "execution_count": 21,
   "metadata": {},
   "outputs": [
    {
     "name": "stdout",
     "output_type": "stream",
     "text": [
      "f1= 0.8727417376603573\n"
     ]
    }
   ],
   "source": [
    "print ('f1= ' +str(metrics.f1_score(test_Y, ypred2)))"
   ]
  },
  {
   "cell_type": "code",
   "execution_count": 22,
   "metadata": {},
   "outputs": [
    {
     "data": {
      "text/plain": [
       "array([[14577,  1490],\n",
       "       [ 2349, 13164]], dtype=int64)"
      ]
     },
     "execution_count": 22,
     "metadata": {},
     "output_type": "execute_result"
    }
   ],
   "source": [
    "sklearn.metrics.confusion_matrix(test_Y, ypred2)"
   ]
  },
  {
   "cell_type": "code",
   "execution_count": 23,
   "metadata": {},
   "outputs": [],
   "source": [
    "# tn, fp, \n",
    "# fn, tp"
   ]
  },
  {
   "cell_type": "markdown",
   "metadata": {},
   "source": [
    "## Тест на реальных данных \n"
   ]
  },
  {
   "cell_type": "code",
   "execution_count": 24,
   "metadata": {},
   "outputs": [],
   "source": [
    "test_X = pd.read_csv('/Users/zaret/Desktop/gerda/ANG5_cal.csv')# загрузка реальных данных и удаление лишних столбцов\n",
    "test_X.drop(test_X.columns[[0]], axis  =1, inplace = True)\n",
    "test_Y = test_X['label']\n",
    "test_X = test_X.drop('label', axis  =1)\n",
    "\n",
    "test_X = test_X.drop('integral', axis = 1)\n",
    "\n",
    "for i in range (1,49):\n",
    "    test_X.drop('integral'+str(i), axis = 1, inplace = True)\n",
    "    \n",
    "test_X.drop('derivative49', axis = 1, inplace = True)\n",
    "\n",
    "\n",
    "for i in range(1, 49):\n",
    "    test_X.drop('derivative'+str(i), axis = 1, inplace = True)"
   ]
  },
  {
   "cell_type": "code",
   "execution_count": 25,
   "metadata": {},
   "outputs": [],
   "source": [
    "ypred = clf.predict_proba(test_X)"
   ]
  },
  {
   "cell_type": "code",
   "execution_count": 26,
   "metadata": {},
   "outputs": [
    {
     "data": {
      "text/plain": [
       "array([[0.76, 0.24],\n",
       "       [0.61, 0.39],\n",
       "       [0.4 , 0.6 ],\n",
       "       ...,\n",
       "       [0.22, 0.78],\n",
       "       [0.57, 0.43],\n",
       "       [0.68, 0.32]])"
      ]
     },
     "execution_count": 26,
     "metadata": {},
     "output_type": "execute_result"
    }
   ],
   "source": [
    "ypred"
   ]
  },
  {
   "cell_type": "code",
   "execution_count": 27,
   "metadata": {},
   "outputs": [],
   "source": [
    "fpr, tpr, thresholds = metrics.roc_curve(test_Y, ypred[:, 1])"
   ]
  },
  {
   "cell_type": "code",
   "execution_count": 32,
   "metadata": {},
   "outputs": [],
   "source": [
    "thrs =0.5"
   ]
  },
  {
   "cell_type": "code",
   "execution_count": 34,
   "metadata": {},
   "outputs": [],
   "source": [
    "ypred2 = (ypred[:, 1]>=thrs)"
   ]
  },
  {
   "cell_type": "code",
   "execution_count": 35,
   "metadata": {},
   "outputs": [
    {
     "name": "stdout",
     "output_type": "stream",
     "text": [
      "accuracy = 0.637888777235852\n"
     ]
    }
   ],
   "source": [
    "print ('accuracy = ' + str(metrics.accuracy_score(test_Y, ypred2)))"
   ]
  },
  {
   "cell_type": "code",
   "execution_count": 36,
   "metadata": {},
   "outputs": [
    {
     "name": "stdout",
     "output_type": "stream",
     "text": [
      "roc_auc = 0.637888777235852\n"
     ]
    },
    {
     "data": {
      "image/png": "[encoded data removed]",
      "text/plain": [
       "<Figure size 432x288 with 1 Axes>"
      ]
     },
     "metadata": {
      "needs_background": "light"
     },
     "output_type": "display_data"
    }
   ],
   "source": [
    "plt.plot( tpr,  np.abs(1-fpr), label = 'linear model')\n",
    "plt.xlabel('Signal acceptance')\n",
    "plt.ylabel('Background rejection')\n",
    "plt.title('Random Forest')\n",
    "plt.grid()\n",
    "plt.legend()\n",
    "print('roc_auc = '+ str(metrics.roc_auc_score(test_Y, ypred2)))"
   ]
  },
  {
   "cell_type": "code",
   "execution_count": 37,
   "metadata": {},
   "outputs": [
    {
     "name": "stderr",
     "output_type": "stream",
     "text": [
      "C:\\Users\\zaret\\anaconda3\\lib\\site-packages\\ipykernel_launcher.py:10: FutureWarning: Using a non-tuple sequence for multidimensional indexing is deprecated; use `arr[tuple(seq)]` instead of `arr[seq]`. In the future this will be interpreted as an array index, `arr[np.array(seq)]`, which will result either in an error or a different result.\n",
      "  # Remove the CWD from sys.path while we load stuff.\n",
      "C:\\Users\\zaret\\anaconda3\\lib\\site-packages\\ipykernel_launcher.py:11: FutureWarning: Using a non-tuple sequence for multidimensional indexing is deprecated; use `arr[tuple(seq)]` instead of `arr[seq]`. In the future this will be interpreted as an array index, `arr[np.array(seq)]`, which will result either in an error or a different result.\n",
      "  # This is added back by InteractiveShellApp.init_path()\n"
     ]
    },
    {
     "data": {
      "text/plain": [
       "Text(0.5, 1.0, 'Random Forest')"
      ]
     },
     "execution_count": 37,
     "metadata": {},
     "output_type": "execute_result"
    },
    {
     "data": {
      "text/plain": [
       "<Figure size 2880x2160 with 0 Axes>"
      ]
     },
     "metadata": {},
     "output_type": "display_data"
    },
    {
     "data": {
      "image/png": "[encoded data removed]",
      "text/plain": [
       "<Figure size 432x288 with 1 Axes>"
      ]
     },
     "metadata": {
      "needs_background": "light"
     },
     "output_type": "display_data"
    }
   ],
   "source": [
    "A = np.array(ypred[:,1])\n",
    "idx_sig = np.where(test_Y == 1)[0] #signal\n",
    "idx_bkg = np.where(test_Y == 0)[0]# выдает номера \n",
    "\n",
    "\n",
    "# Histogram predictions without error bars: #количес\n",
    "bins = 50\n",
    "fig14 = plt.figure(figsize=(40,30))\n",
    "fig14, ax = plt.subplots()\n",
    "n1, bins1, patches1 = ax.hist(A[[idx_sig]], histtype='step', label='sig', bins = bins)\n",
    "n2, bins2, patches2 = ax.hist(A[[idx_bkg]], histtype='step', label='bkg', bins = bins)\n",
    "ax.set_xlabel('Prediction', {'fontsize': 14})\n",
    "ax.set_ylabel('Number of events', {'fontsize': 14})\n",
    "plt.yticks((10**0, 10**1, 10**2, 10**3), color='k', size=14)\n",
    "plt.xticks((0.0, 0.2, 0.4, 0.6, 0.8, 1.0), color='k', size=14)\n",
    "plt.yscale('log')\n",
    "plt.legend(loc=\"upper right\")\n",
    "#fig14.savefig(\"predictions.pdf\", bbox_inches='tight')\n",
    "plt.title('Random Forest')"
   ]
  },
  {
   "cell_type": "code",
   "execution_count": 38,
   "metadata": {},
   "outputs": [
    {
     "name": "stdout",
     "output_type": "stream",
     "text": [
      "f1= 0.644480539012212\n"
     ]
    }
   ],
   "source": [
    "print ('f1= ' +str(metrics.f1_score(test_Y, ypred2)))"
   ]
  },
  {
   "cell_type": "code",
   "execution_count": 39,
   "metadata": {},
   "outputs": [
    {
     "data": {
      "text/plain": [
       "array([[25270, 15531],\n",
       "       [14018, 26783]], dtype=int64)"
      ]
     },
     "execution_count": 39,
     "metadata": {},
     "output_type": "execute_result"
    }
   ],
   "source": [
    "sklearn.metrics.confusion_matrix(test_Y, ypred2)"
   ]
  },
  {
   "cell_type": "code",
   "execution_count": 40,
   "metadata": {},
   "outputs": [],
   "source": [
    "# tn, fp, \n",
    "# fn, tp"
   ]
  },
  {
   "cell_type": "markdown",
   "metadata": {},
   "source": [
    "## Вывод: по этому критерию синтезированные данные ~ соответствуют реальным"
   ]
  },
  {
   "cell_type": "code",
   "execution_count": null,
   "metadata": {},
   "outputs": [],
   "source": []
  }
 ],
 "metadata": {
  "kernelspec": {
   "display_name": "Python 3",
   "language": "python",
   "name": "python3"
  },
  "language_info": {
   "codemirror_mode": {
    "name": "ipython",
    "version": 3
   },
   "file_extension": ".py",
   "mimetype": "text/x-python",
   "name": "python",
   "nbconvert_exporter": "python",
   "pygments_lexer": "ipython3",
   "version": "3.7.6"
  }
 },
 "nbformat": 4,
 "nbformat_minor": 4
}
