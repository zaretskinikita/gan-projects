{
 "cells": [
  {
   "cell_type": "markdown",
   "metadata": {},
   "source": [
    "# Random forest\n",
    "## Обучение дерева на синтезированных данных -> проверка на реальных \n",
    "## Это будет являться критерием, по которому можно оценить соответствие синтезированных данных реальным. \n",
    "## (Задача бинарной классификации)\n",
    "###  Обучение и проверка дерева на реальных данных дает дает разделение с roc_auc = 0.68, accuracy = 0.68. Возьмем эти данные за эталон"
   ]
  },
  {
   "cell_type": "code",
   "execution_count": 1,
   "metadata": {},
   "outputs": [],
   "source": [
    "import pandas as pd\n",
    "import uproot\n",
    "import numpy as np\n",
    "import seaborn as sns\n",
    "import matplotlib.pyplot as plt\n",
    "from sklearn import model_selection\n",
    "from sklearn import metrics\n",
    "import torch\n",
    "import torch.nn as nn\n",
    "import torch.optim as optim\n",
    "from torch.utils.data import Dataset, DataLoader\n",
    "import time\n",
    "from sklearn.utils import shuffle\n",
    "from sklearn.preprocessing import StandardScaler    \n",
    "from sklearn.model_selection import train_test_split\n",
    "from sklearn.metrics import confusion_matrix, classification_report\n",
    "from sklearn.metrics import auc\n",
    "from sklearn.utils import shuffle\n",
    "import matplotlib\n",
    "from xgboost import XGBClassifier\n",
    "from sklearn.model_selection import cross_val_score, KFold\n",
    "import sklearn.metrics\n",
    "from sklearn.ensemble import RandomForestClassifier"
   ]
  },
  {
   "cell_type": "code",
   "execution_count": 2,
   "metadata": {},
   "outputs": [],
   "source": [
    "data = pd.read_csv('example.csv')\n",
    "\n",
    "\n",
    "data.drop(data.columns[[0]], axis  =1, inplace = True)\n",
    "\n",
    "data = data.reset_index()\n",
    "data.drop(data.columns[[0]], axis  =1, inplace = True)"
   ]
  },
  {
   "cell_type": "code",
   "execution_count": 3,
   "metadata": {},
   "outputs": [],
   "source": [
    "data.drop('TimeAtHeightX1', axis = 1, inplace = True)\n",
    "data.drop('TimeAtHeightX50', axis = 1, inplace = True)\n",
    "\n",
    "\n",
    "for i in range(1, 49):\n",
    "    data.drop('derivative'+str(i), axis = 1, inplace = True)"
   ]
  },
  {
   "cell_type": "code",
   "execution_count": 4,
   "metadata": {},
   "outputs": [
    {
     "data": {
      "text/html": [
       "<div>\n",
       "<style scoped>\n",
       "    .dataframe tbody tr th:only-of-type {\n",
       "        vertical-align: middle;\n",
       "    }\n",
       "\n",
       "    .dataframe tbody tr th {\n",
       "        vertical-align: top;\n",
       "    }\n",
       "\n",
       "    .dataframe thead th {\n",
       "        text-align: right;\n",
       "    }\n",
       "</style>\n",
       "<table border=\"1\" class=\"dataframe\">\n",
       "  <thead>\n",
       "    <tr style=\"text-align: right;\">\n",
       "      <th></th>\n",
       "      <th>TimeAtHeightX2</th>\n",
       "      <th>TimeAtHeightX3</th>\n",
       "      <th>TimeAtHeightX4</th>\n",
       "      <th>TimeAtHeightX5</th>\n",
       "      <th>TimeAtHeightX6</th>\n",
       "      <th>TimeAtHeightX7</th>\n",
       "      <th>TimeAtHeightX8</th>\n",
       "      <th>TimeAtHeightX9</th>\n",
       "      <th>TimeAtHeightX10</th>\n",
       "      <th>TimeAtHeightX11</th>\n",
       "      <th>...</th>\n",
       "      <th>TimeAtHeightX41</th>\n",
       "      <th>TimeAtHeightX42</th>\n",
       "      <th>TimeAtHeightX43</th>\n",
       "      <th>TimeAtHeightX44</th>\n",
       "      <th>TimeAtHeightX45</th>\n",
       "      <th>TimeAtHeightX46</th>\n",
       "      <th>TimeAtHeightX47</th>\n",
       "      <th>TimeAtHeightX48</th>\n",
       "      <th>TimeAtHeightX49</th>\n",
       "      <th>label</th>\n",
       "    </tr>\n",
       "  </thead>\n",
       "  <tbody>\n",
       "    <tr>\n",
       "      <th>0</th>\n",
       "      <td>0.044361</td>\n",
       "      <td>0.095117</td>\n",
       "      <td>0.158157</td>\n",
       "      <td>0.213047</td>\n",
       "      <td>0.257228</td>\n",
       "      <td>0.296225</td>\n",
       "      <td>0.325614</td>\n",
       "      <td>0.346224</td>\n",
       "      <td>0.363044</td>\n",
       "      <td>0.378235</td>\n",
       "      <td>...</td>\n",
       "      <td>0.658348</td>\n",
       "      <td>0.665132</td>\n",
       "      <td>0.672506</td>\n",
       "      <td>0.680703</td>\n",
       "      <td>0.689518</td>\n",
       "      <td>0.699322</td>\n",
       "      <td>0.711355</td>\n",
       "      <td>0.726471</td>\n",
       "      <td>0.750138</td>\n",
       "      <td>1</td>\n",
       "    </tr>\n",
       "    <tr>\n",
       "      <th>1</th>\n",
       "      <td>0.008589</td>\n",
       "      <td>0.014430</td>\n",
       "      <td>0.018910</td>\n",
       "      <td>0.022891</td>\n",
       "      <td>0.026594</td>\n",
       "      <td>0.030119</td>\n",
       "      <td>0.033327</td>\n",
       "      <td>0.036419</td>\n",
       "      <td>0.039544</td>\n",
       "      <td>0.042679</td>\n",
       "      <td>...</td>\n",
       "      <td>0.163943</td>\n",
       "      <td>0.171323</td>\n",
       "      <td>0.180083</td>\n",
       "      <td>0.191627</td>\n",
       "      <td>0.204904</td>\n",
       "      <td>0.221085</td>\n",
       "      <td>0.245906</td>\n",
       "      <td>0.301545</td>\n",
       "      <td>0.378402</td>\n",
       "      <td>1</td>\n",
       "    </tr>\n",
       "    <tr>\n",
       "      <th>2</th>\n",
       "      <td>0.041737</td>\n",
       "      <td>0.073801</td>\n",
       "      <td>0.103252</td>\n",
       "      <td>0.133073</td>\n",
       "      <td>0.162863</td>\n",
       "      <td>0.190822</td>\n",
       "      <td>0.218377</td>\n",
       "      <td>0.245883</td>\n",
       "      <td>0.271225</td>\n",
       "      <td>0.294935</td>\n",
       "      <td>...</td>\n",
       "      <td>0.715044</td>\n",
       "      <td>0.724368</td>\n",
       "      <td>0.734571</td>\n",
       "      <td>0.745698</td>\n",
       "      <td>0.758919</td>\n",
       "      <td>0.774868</td>\n",
       "      <td>0.795516</td>\n",
       "      <td>0.823985</td>\n",
       "      <td>0.867863</td>\n",
       "      <td>1</td>\n",
       "    </tr>\n",
       "    <tr>\n",
       "      <th>3</th>\n",
       "      <td>0.036833</td>\n",
       "      <td>0.059463</td>\n",
       "      <td>0.077316</td>\n",
       "      <td>0.093439</td>\n",
       "      <td>0.107795</td>\n",
       "      <td>0.121003</td>\n",
       "      <td>0.133391</td>\n",
       "      <td>0.145389</td>\n",
       "      <td>0.157362</td>\n",
       "      <td>0.168961</td>\n",
       "      <td>...</td>\n",
       "      <td>0.506903</td>\n",
       "      <td>0.526141</td>\n",
       "      <td>0.547680</td>\n",
       "      <td>0.571324</td>\n",
       "      <td>0.600366</td>\n",
       "      <td>0.636143</td>\n",
       "      <td>0.677458</td>\n",
       "      <td>0.727276</td>\n",
       "      <td>0.796488</td>\n",
       "      <td>1</td>\n",
       "    </tr>\n",
       "    <tr>\n",
       "      <th>4</th>\n",
       "      <td>0.044630</td>\n",
       "      <td>0.072822</td>\n",
       "      <td>0.097708</td>\n",
       "      <td>0.121547</td>\n",
       "      <td>0.146484</td>\n",
       "      <td>0.174410</td>\n",
       "      <td>0.204121</td>\n",
       "      <td>0.236338</td>\n",
       "      <td>0.267417</td>\n",
       "      <td>0.296698</td>\n",
       "      <td>...</td>\n",
       "      <td>0.726086</td>\n",
       "      <td>0.737063</td>\n",
       "      <td>0.749703</td>\n",
       "      <td>0.764410</td>\n",
       "      <td>0.780982</td>\n",
       "      <td>0.803437</td>\n",
       "      <td>0.837578</td>\n",
       "      <td>0.894687</td>\n",
       "      <td>0.952744</td>\n",
       "      <td>1</td>\n",
       "    </tr>\n",
       "    <tr>\n",
       "      <th>...</th>\n",
       "      <td>...</td>\n",
       "      <td>...</td>\n",
       "      <td>...</td>\n",
       "      <td>...</td>\n",
       "      <td>...</td>\n",
       "      <td>...</td>\n",
       "      <td>...</td>\n",
       "      <td>...</td>\n",
       "      <td>...</td>\n",
       "      <td>...</td>\n",
       "      <td>...</td>\n",
       "      <td>...</td>\n",
       "      <td>...</td>\n",
       "      <td>...</td>\n",
       "      <td>...</td>\n",
       "      <td>...</td>\n",
       "      <td>...</td>\n",
       "      <td>...</td>\n",
       "      <td>...</td>\n",
       "      <td>...</td>\n",
       "      <td>...</td>\n",
       "    </tr>\n",
       "    <tr>\n",
       "      <th>111235</th>\n",
       "      <td>0.035990</td>\n",
       "      <td>0.058350</td>\n",
       "      <td>0.077057</td>\n",
       "      <td>0.094282</td>\n",
       "      <td>0.111318</td>\n",
       "      <td>0.127929</td>\n",
       "      <td>0.144589</td>\n",
       "      <td>0.161491</td>\n",
       "      <td>0.179448</td>\n",
       "      <td>0.198949</td>\n",
       "      <td>...</td>\n",
       "      <td>0.554418</td>\n",
       "      <td>0.567419</td>\n",
       "      <td>0.581266</td>\n",
       "      <td>0.596480</td>\n",
       "      <td>0.612773</td>\n",
       "      <td>0.631398</td>\n",
       "      <td>0.652767</td>\n",
       "      <td>0.681386</td>\n",
       "      <td>0.737488</td>\n",
       "      <td>0</td>\n",
       "    </tr>\n",
       "    <tr>\n",
       "      <th>111236</th>\n",
       "      <td>0.036452</td>\n",
       "      <td>0.059447</td>\n",
       "      <td>0.077652</td>\n",
       "      <td>0.094275</td>\n",
       "      <td>0.110435</td>\n",
       "      <td>0.126432</td>\n",
       "      <td>0.142379</td>\n",
       "      <td>0.157990</td>\n",
       "      <td>0.173635</td>\n",
       "      <td>0.188613</td>\n",
       "      <td>...</td>\n",
       "      <td>0.591379</td>\n",
       "      <td>0.612798</td>\n",
       "      <td>0.636970</td>\n",
       "      <td>0.664045</td>\n",
       "      <td>0.695117</td>\n",
       "      <td>0.730892</td>\n",
       "      <td>0.771073</td>\n",
       "      <td>0.813153</td>\n",
       "      <td>0.858648</td>\n",
       "      <td>0</td>\n",
       "    </tr>\n",
       "    <tr>\n",
       "      <th>111237</th>\n",
       "      <td>0.045551</td>\n",
       "      <td>0.075094</td>\n",
       "      <td>0.099289</td>\n",
       "      <td>0.120287</td>\n",
       "      <td>0.139726</td>\n",
       "      <td>0.157824</td>\n",
       "      <td>0.175347</td>\n",
       "      <td>0.191973</td>\n",
       "      <td>0.208276</td>\n",
       "      <td>0.224162</td>\n",
       "      <td>...</td>\n",
       "      <td>0.677829</td>\n",
       "      <td>0.705044</td>\n",
       "      <td>0.733750</td>\n",
       "      <td>0.761717</td>\n",
       "      <td>0.789050</td>\n",
       "      <td>0.817002</td>\n",
       "      <td>0.846544</td>\n",
       "      <td>0.878350</td>\n",
       "      <td>0.922902</td>\n",
       "      <td>0</td>\n",
       "    </tr>\n",
       "    <tr>\n",
       "      <th>111238</th>\n",
       "      <td>0.017389</td>\n",
       "      <td>0.033395</td>\n",
       "      <td>0.048352</td>\n",
       "      <td>0.064819</td>\n",
       "      <td>0.082793</td>\n",
       "      <td>0.103359</td>\n",
       "      <td>0.125756</td>\n",
       "      <td>0.144527</td>\n",
       "      <td>0.162204</td>\n",
       "      <td>0.178808</td>\n",
       "      <td>...</td>\n",
       "      <td>0.693225</td>\n",
       "      <td>0.711859</td>\n",
       "      <td>0.730127</td>\n",
       "      <td>0.748097</td>\n",
       "      <td>0.765897</td>\n",
       "      <td>0.785111</td>\n",
       "      <td>0.810062</td>\n",
       "      <td>0.848165</td>\n",
       "      <td>0.886060</td>\n",
       "      <td>0</td>\n",
       "    </tr>\n",
       "    <tr>\n",
       "      <th>111239</th>\n",
       "      <td>0.041836</td>\n",
       "      <td>0.083375</td>\n",
       "      <td>0.119043</td>\n",
       "      <td>0.152411</td>\n",
       "      <td>0.184107</td>\n",
       "      <td>0.213637</td>\n",
       "      <td>0.243086</td>\n",
       "      <td>0.271073</td>\n",
       "      <td>0.298280</td>\n",
       "      <td>0.323040</td>\n",
       "      <td>...</td>\n",
       "      <td>0.739374</td>\n",
       "      <td>0.750858</td>\n",
       "      <td>0.763171</td>\n",
       "      <td>0.776817</td>\n",
       "      <td>0.792197</td>\n",
       "      <td>0.810271</td>\n",
       "      <td>0.832765</td>\n",
       "      <td>0.861405</td>\n",
       "      <td>0.894477</td>\n",
       "      <td>0</td>\n",
       "    </tr>\n",
       "  </tbody>\n",
       "</table>\n",
       "<p>111240 rows × 49 columns</p>\n",
       "</div>"
      ],
      "text/plain": [
       "        TimeAtHeightX2  TimeAtHeightX3  TimeAtHeightX4  TimeAtHeightX5  \\\n",
       "0             0.044361        0.095117        0.158157        0.213047   \n",
       "1             0.008589        0.014430        0.018910        0.022891   \n",
       "2             0.041737        0.073801        0.103252        0.133073   \n",
       "3             0.036833        0.059463        0.077316        0.093439   \n",
       "4             0.044630        0.072822        0.097708        0.121547   \n",
       "...                ...             ...             ...             ...   \n",
       "111235        0.035990        0.058350        0.077057        0.094282   \n",
       "111236        0.036452        0.059447        0.077652        0.094275   \n",
       "111237        0.045551        0.075094        0.099289        0.120287   \n",
       "111238        0.017389        0.033395        0.048352        0.064819   \n",
       "111239        0.041836        0.083375        0.119043        0.152411   \n",
       "\n",
       "        TimeAtHeightX6  TimeAtHeightX7  TimeAtHeightX8  TimeAtHeightX9  \\\n",
       "0             0.257228        0.296225        0.325614        0.346224   \n",
       "1             0.026594        0.030119        0.033327        0.036419   \n",
       "2             0.162863        0.190822        0.218377        0.245883   \n",
       "3             0.107795        0.121003        0.133391        0.145389   \n",
       "4             0.146484        0.174410        0.204121        0.236338   \n",
       "...                ...             ...             ...             ...   \n",
       "111235        0.111318        0.127929        0.144589        0.161491   \n",
       "111236        0.110435        0.126432        0.142379        0.157990   \n",
       "111237        0.139726        0.157824        0.175347        0.191973   \n",
       "111238        0.082793        0.103359        0.125756        0.144527   \n",
       "111239        0.184107        0.213637        0.243086        0.271073   \n",
       "\n",
       "        TimeAtHeightX10  TimeAtHeightX11  ...  TimeAtHeightX41  \\\n",
       "0              0.363044         0.378235  ...         0.658348   \n",
       "1              0.039544         0.042679  ...         0.163943   \n",
       "2              0.271225         0.294935  ...         0.715044   \n",
       "3              0.157362         0.168961  ...         0.506903   \n",
       "4              0.267417         0.296698  ...         0.726086   \n",
       "...                 ...              ...  ...              ...   \n",
       "111235         0.179448         0.198949  ...         0.554418   \n",
       "111236         0.173635         0.188613  ...         0.591379   \n",
       "111237         0.208276         0.224162  ...         0.677829   \n",
       "111238         0.162204         0.178808  ...         0.693225   \n",
       "111239         0.298280         0.323040  ...         0.739374   \n",
       "\n",
       "        TimeAtHeightX42  TimeAtHeightX43  TimeAtHeightX44  TimeAtHeightX45  \\\n",
       "0              0.665132         0.672506         0.680703         0.689518   \n",
       "1              0.171323         0.180083         0.191627         0.204904   \n",
       "2              0.724368         0.734571         0.745698         0.758919   \n",
       "3              0.526141         0.547680         0.571324         0.600366   \n",
       "4              0.737063         0.749703         0.764410         0.780982   \n",
       "...                 ...              ...              ...              ...   \n",
       "111235         0.567419         0.581266         0.596480         0.612773   \n",
       "111236         0.612798         0.636970         0.664045         0.695117   \n",
       "111237         0.705044         0.733750         0.761717         0.789050   \n",
       "111238         0.711859         0.730127         0.748097         0.765897   \n",
       "111239         0.750858         0.763171         0.776817         0.792197   \n",
       "\n",
       "        TimeAtHeightX46  TimeAtHeightX47  TimeAtHeightX48  TimeAtHeightX49  \\\n",
       "0              0.699322         0.711355         0.726471         0.750138   \n",
       "1              0.221085         0.245906         0.301545         0.378402   \n",
       "2              0.774868         0.795516         0.823985         0.867863   \n",
       "3              0.636143         0.677458         0.727276         0.796488   \n",
       "4              0.803437         0.837578         0.894687         0.952744   \n",
       "...                 ...              ...              ...              ...   \n",
       "111235         0.631398         0.652767         0.681386         0.737488   \n",
       "111236         0.730892         0.771073         0.813153         0.858648   \n",
       "111237         0.817002         0.846544         0.878350         0.922902   \n",
       "111238         0.785111         0.810062         0.848165         0.886060   \n",
       "111239         0.810271         0.832765         0.861405         0.894477   \n",
       "\n",
       "        label  \n",
       "0           1  \n",
       "1           1  \n",
       "2           1  \n",
       "3           1  \n",
       "4           1  \n",
       "...       ...  \n",
       "111235      0  \n",
       "111236      0  \n",
       "111237      0  \n",
       "111238      0  \n",
       "111239      0  \n",
       "\n",
       "[111240 rows x 49 columns]"
      ]
     },
     "execution_count": 4,
     "metadata": {},
     "output_type": "execute_result"
    }
   ],
   "source": [
    "data"
   ]
  },
  {
   "cell_type": "code",
   "execution_count": 5,
   "metadata": {},
   "outputs": [
    {
     "data": {
      "text/plain": [
       "<matplotlib.axes._subplots.AxesSubplot at 0x1adaeb71f08>"
      ]
     },
     "execution_count": 5,
     "metadata": {},
     "output_type": "execute_result"
    },
    {
     "data": {
      "image/png": "[encoded data removed]",
      "text/plain": [
       "<Figure size 432x288 with 1 Axes>"
      ]
     },
     "metadata": {
      "needs_background": "light"
     },
     "output_type": "display_data"
    }
   ],
   "source": [
    "sns.countplot(x = 'label', data=data)"
   ]
  },
  {
   "cell_type": "markdown",
   "metadata": {},
   "source": [
    "## Обучение"
   ]
  },
  {
   "cell_type": "code",
   "execution_count": 6,
   "metadata": {},
   "outputs": [],
   "source": [
    "train_X, test_X, train_Y, test_Y = model_selection.train_test_split(data.iloc[:,0:-1],data.iloc[:,-1],test_size=0.3, random_state=1)"
   ]
  },
  {
   "cell_type": "code",
   "execution_count": 7,
   "metadata": {},
   "outputs": [
    {
     "name": "stdout",
     "output_type": "stream",
     "text": [
      "RandomForestClassifier(bootstrap=True, ccp_alpha=0.0, class_weight=None,\n",
      "                       criterion='gini', max_depth=None, max_features='auto',\n",
      "                       max_leaf_nodes=None, max_samples=None,\n",
      "                       min_impurity_decrease=0.0, min_impurity_split=None,\n",
      "                       min_samples_leaf=1, min_samples_split=2,\n",
      "                       min_weight_fraction_leaf=0.0, n_estimators=100,\n",
      "                       n_jobs=None, oob_score=False, random_state=None,\n",
      "                       verbose=0, warm_start=False)\n"
     ]
    }
   ],
   "source": [
    "clf = RandomForestClassifier(n_estimators=100)\n",
    "print(clf)"
   ]
  },
  {
   "cell_type": "code",
   "execution_count": 8,
   "metadata": {},
   "outputs": [
    {
     "data": {
      "text/plain": [
       "RandomForestClassifier(bootstrap=True, ccp_alpha=0.0, class_weight=None,\n",
       "                       criterion='gini', max_depth=None, max_features='auto',\n",
       "                       max_leaf_nodes=None, max_samples=None,\n",
       "                       min_impurity_decrease=0.0, min_impurity_split=None,\n",
       "                       min_samples_leaf=1, min_samples_split=2,\n",
       "                       min_weight_fraction_leaf=0.0, n_estimators=100,\n",
       "                       n_jobs=None, oob_score=False, random_state=None,\n",
       "                       verbose=0, warm_start=False)"
      ]
     },
     "execution_count": 8,
     "metadata": {},
     "output_type": "execute_result"
    }
   ],
   "source": [
    "clf.fit(train_X, train_Y)"
   ]
  },
  {
   "cell_type": "markdown",
   "metadata": {},
   "source": [
    "## Тест на синтезированных данных (другой выборке)"
   ]
  },
  {
   "cell_type": "code",
   "execution_count": 9,
   "metadata": {},
   "outputs": [],
   "source": [
    "ypred = clf.predict_proba(test_X)"
   ]
  },
  {
   "cell_type": "code",
   "execution_count": 10,
   "metadata": {},
   "outputs": [],
   "source": [
    "fpr, tpr, thresholds = metrics.roc_curve(test_Y, ypred[:, 1])"
   ]
  },
  {
   "cell_type": "code",
   "execution_count": 15,
   "metadata": {},
   "outputs": [],
   "source": [
    "thrs =0.5"
   ]
  },
  {
   "cell_type": "code",
   "execution_count": 17,
   "metadata": {},
   "outputs": [],
   "source": [
    "ypred2 = (ypred[:, 1]>=thrs)"
   ]
  },
  {
   "cell_type": "code",
   "execution_count": 18,
   "metadata": {},
   "outputs": [
    {
     "name": "stdout",
     "output_type": "stream",
     "text": [
      "accuracy = 0.789673978185305\n"
     ]
    }
   ],
   "source": [
    "print ('accuracy = ' + str(metrics.accuracy_score(test_Y, ypred2)))"
   ]
  },
  {
   "cell_type": "code",
   "execution_count": 19,
   "metadata": {},
   "outputs": [
    {
     "name": "stdout",
     "output_type": "stream",
     "text": [
      "roc_auc = 0.7895214929196408\n"
     ]
    },
    {
     "data": {
      "image/png": "[encoded data removed]",
      "text/plain": [
       "<Figure size 432x288 with 1 Axes>"
      ]
     },
     "metadata": {
      "needs_background": "light"
     },
     "output_type": "display_data"
    }
   ],
   "source": [
    "plt.plot( tpr,  np.abs(1-fpr), label = 'linear model')\n",
    "plt.xlabel('Signal acceptance')\n",
    "plt.ylabel('Background rejection')\n",
    "plt.title('Simulated pulses')\n",
    "plt.grid()\n",
    "plt.legend()\n",
    "print('roc_auc = '+ str(metrics.roc_auc_score(test_Y, ypred2)))"
   ]
  },
  {
   "cell_type": "code",
   "execution_count": 20,
   "metadata": {},
   "outputs": [
    {
     "name": "stderr",
     "output_type": "stream",
     "text": [
      "C:\\Users\\zaret\\anaconda3\\lib\\site-packages\\ipykernel_launcher.py:10: FutureWarning: Using a non-tuple sequence for multidimensional indexing is deprecated; use `arr[tuple(seq)]` instead of `arr[seq]`. In the future this will be interpreted as an array index, `arr[np.array(seq)]`, which will result either in an error or a different result.\n",
      "  # Remove the CWD from sys.path while we load stuff.\n",
      "C:\\Users\\zaret\\anaconda3\\lib\\site-packages\\ipykernel_launcher.py:11: FutureWarning: Using a non-tuple sequence for multidimensional indexing is deprecated; use `arr[tuple(seq)]` instead of `arr[seq]`. In the future this will be interpreted as an array index, `arr[np.array(seq)]`, which will result either in an error or a different result.\n",
      "  # This is added back by InteractiveShellApp.init_path()\n"
     ]
    },
    {
     "data": {
      "text/plain": [
       "Text(0.5, 1.0, 'Simulated pulses')"
      ]
     },
     "execution_count": 20,
     "metadata": {},
     "output_type": "execute_result"
    },
    {
     "data": {
      "text/plain": [
       "<Figure size 2880x2160 with 0 Axes>"
      ]
     },
     "metadata": {},
     "output_type": "display_data"
    },
    {
     "data": {
      "image/png": "[encoded data removed]",
      "text/plain": [
       "<Figure size 432x288 with 1 Axes>"
      ]
     },
     "metadata": {
      "needs_background": "light"
     },
     "output_type": "display_data"
    }
   ],
   "source": [
    "A = np.array(ypred[:,1])\n",
    "idx_sig = np.where(test_Y == 1)[0] #signal\n",
    "idx_bkg = np.where(test_Y == 0)[0]# выдает номера \n",
    "\n",
    "\n",
    "# Histogram predictions without error bars: #количес\n",
    "bins = 50\n",
    "fig14 = plt.figure(figsize=(40,30))\n",
    "fig14, ax = plt.subplots()\n",
    "n1, bins1, patches1 = ax.hist(A[[idx_sig]], histtype='step', label='sig', bins = bins)\n",
    "n2, bins2, patches2 = ax.hist(A[[idx_bkg]], histtype='step', label='bkg', bins = bins)\n",
    "ax.set_xlabel('Prediction', {'fontsize': 14})\n",
    "ax.set_ylabel('Number of events', {'fontsize': 14})\n",
    "plt.yticks((10**0, 10**1, 10**2, 10**3), color='k', size=14)\n",
    "plt.xticks((0.0, 0.2, 0.4, 0.6, 0.8, 1.0), color='k', size=14)\n",
    "plt.yscale('log')\n",
    "plt.legend(loc=\"upper right\")\n",
    "#fig14.savefig(\"predictions.pdf\", bbox_inches='tight')\n",
    "plt.title('Simulated pulses')"
   ]
  },
  {
   "cell_type": "code",
   "execution_count": 21,
   "metadata": {},
   "outputs": [
    {
     "name": "stdout",
     "output_type": "stream",
     "text": [
      "f1= 0.7970155296567281\n"
     ]
    }
   ],
   "source": [
    "print ('f1= ' +str(metrics.f1_score(test_Y, ypred2)))"
   ]
  },
  {
   "cell_type": "code",
   "execution_count": 22,
   "metadata": {},
   "outputs": [
    {
     "data": {
      "text/plain": [
       "array([[12573,  3427],\n",
       "       [ 3592, 13780]], dtype=int64)"
      ]
     },
     "execution_count": 22,
     "metadata": {},
     "output_type": "execute_result"
    }
   ],
   "source": [
    "sklearn.metrics.confusion_matrix(test_Y, ypred2)"
   ]
  },
  {
   "cell_type": "code",
   "execution_count": 23,
   "metadata": {},
   "outputs": [],
   "source": [
    "# tn, fp, \n",
    "# fn, tp"
   ]
  },
  {
   "cell_type": "markdown",
   "metadata": {},
   "source": [
    "## Тест на реальных данных "
   ]
  },
  {
   "cell_type": "code",
   "execution_count": 24,
   "metadata": {},
   "outputs": [],
   "source": [
    "test_X = pd.read_csv('/Users/zaret/Desktop/gerda/ANG5_cal.csv')# загрузка реальных данных и удаление лишних столбцов\n",
    "test_X.drop(test_X.columns[[0]], axis  =1, inplace = True)\n",
    "test_Y = test_X['label']\n",
    "test_X = test_X.drop('label', axis  =1)\n",
    "\n",
    "test_X = test_X.drop('integral', axis = 1)\n",
    "\n",
    "for i in range (1,49):\n",
    "    test_X.drop('integral'+str(i), axis = 1, inplace = True)\n",
    "    \n",
    "test_X.drop('derivative49', axis = 1, inplace = True)\n",
    "\n",
    "\n",
    "for i in range(1, 49):\n",
    "    test_X.drop('derivative'+str(i), axis = 1, inplace = True)"
   ]
  },
  {
   "cell_type": "code",
   "execution_count": 25,
   "metadata": {},
   "outputs": [],
   "source": [
    "ypred = clf.predict_proba(test_X)"
   ]
  },
  {
   "cell_type": "code",
   "execution_count": 26,
   "metadata": {},
   "outputs": [
    {
     "data": {
      "text/plain": [
       "array([[0.98, 0.02],\n",
       "       [0.77, 0.23],\n",
       "       [0.24, 0.76],\n",
       "       ...,\n",
       "       [0.11, 0.89],\n",
       "       [0.31, 0.69],\n",
       "       [0.95, 0.05]])"
      ]
     },
     "execution_count": 26,
     "metadata": {},
     "output_type": "execute_result"
    }
   ],
   "source": [
    "ypred"
   ]
  },
  {
   "cell_type": "code",
   "execution_count": 27,
   "metadata": {},
   "outputs": [],
   "source": [
    "fpr, tpr, thresholds = metrics.roc_curve(test_Y, ypred[:, 1])"
   ]
  },
  {
   "cell_type": "code",
   "execution_count": 32,
   "metadata": {},
   "outputs": [],
   "source": [
    "thrs = 0.5"
   ]
  },
  {
   "cell_type": "code",
   "execution_count": 34,
   "metadata": {},
   "outputs": [],
   "source": [
    "ypred2 = (ypred[:, 1]>=thrs)"
   ]
  },
  {
   "cell_type": "code",
   "execution_count": 35,
   "metadata": {},
   "outputs": [
    {
     "name": "stdout",
     "output_type": "stream",
     "text": [
      "accuracy = 0.6465405259675008\n"
     ]
    }
   ],
   "source": [
    "print ('accuracy = ' + str(metrics.accuracy_score(test_Y, ypred2)))"
   ]
  },
  {
   "cell_type": "code",
   "execution_count": 36,
   "metadata": {},
   "outputs": [
    {
     "name": "stdout",
     "output_type": "stream",
     "text": [
      "roc_auc = 0.6465405259675008\n"
     ]
    },
    {
     "data": {
      "image/png": "[encoded data removed]",
      "text/plain": [
       "<Figure size 432x288 with 1 Axes>"
      ]
     },
     "metadata": {
      "needs_background": "light"
     },
     "output_type": "display_data"
    }
   ],
   "source": [
    "plt.plot( tpr,  np.abs(1-fpr), label = 'linear model')\n",
    "plt.xlabel('Signal acceptance')\n",
    "plt.ylabel('Background rejection')\n",
    "plt.title('Random Forest')\n",
    "plt.grid()\n",
    "plt.legend()\n",
    "print('roc_auc = '+ str(metrics.roc_auc_score(test_Y, ypred2)))"
   ]
  },
  {
   "cell_type": "code",
   "execution_count": 37,
   "metadata": {},
   "outputs": [
    {
     "name": "stderr",
     "output_type": "stream",
     "text": [
      "C:\\Users\\zaret\\anaconda3\\lib\\site-packages\\ipykernel_launcher.py:10: FutureWarning: Using a non-tuple sequence for multidimensional indexing is deprecated; use `arr[tuple(seq)]` instead of `arr[seq]`. In the future this will be interpreted as an array index, `arr[np.array(seq)]`, which will result either in an error or a different result.\n",
      "  # Remove the CWD from sys.path while we load stuff.\n",
      "C:\\Users\\zaret\\anaconda3\\lib\\site-packages\\ipykernel_launcher.py:11: FutureWarning: Using a non-tuple sequence for multidimensional indexing is deprecated; use `arr[tuple(seq)]` instead of `arr[seq]`. In the future this will be interpreted as an array index, `arr[np.array(seq)]`, which will result either in an error or a different result.\n",
      "  # This is added back by InteractiveShellApp.init_path()\n"
     ]
    },
    {
     "data": {
      "text/plain": [
       "Text(0.5, 1.0, 'Random Forest')"
      ]
     },
     "execution_count": 37,
     "metadata": {},
     "output_type": "execute_result"
    },
    {
     "data": {
      "text/plain": [
       "<Figure size 2880x2160 with 0 Axes>"
      ]
     },
     "metadata": {},
     "output_type": "display_data"
    },
    {
     "data": {
      "image/png": "[encoded data removed]",
      "text/plain": [
       "<Figure size 432x288 with 1 Axes>"
      ]
     },
     "metadata": {
      "needs_background": "light"
     },
     "output_type": "display_data"
    }
   ],
   "source": [
    "A = np.array(ypred[:,1])\n",
    "idx_sig = np.where(test_Y == 1)[0] #signal\n",
    "idx_bkg = np.where(test_Y == 0)[0]# выдает номера \n",
    "\n",
    "\n",
    "# Histogram predictions without error bars: #количес\n",
    "bins = 50\n",
    "fig14 = plt.figure(figsize=(40,30))\n",
    "fig14, ax = plt.subplots()\n",
    "n1, bins1, patches1 = ax.hist(A[[idx_sig]], histtype='step', label='sig', bins = bins)\n",
    "n2, bins2, patches2 = ax.hist(A[[idx_bkg]], histtype='step', label='bkg', bins = bins)\n",
    "ax.set_xlabel('Prediction', {'fontsize': 14})\n",
    "ax.set_ylabel('Number of events', {'fontsize': 14})\n",
    "plt.yticks((10**0, 10**1, 10**2, 10**3), color='k', size=14)\n",
    "plt.xticks((0.0, 0.2, 0.4, 0.6, 0.8, 1.0), color='k', size=14)\n",
    "plt.yscale('log')\n",
    "plt.legend(loc=\"upper right\")\n",
    "#fig14.savefig(\"predictions.pdf\", bbox_inches='tight')\n",
    "plt.title('Random Forest')"
   ]
  },
  {
   "cell_type": "code",
   "execution_count": 38,
   "metadata": {},
   "outputs": [
    {
     "name": "stdout",
     "output_type": "stream",
     "text": [
      "f1= 0.6344035592511377\n"
     ]
    }
   ],
   "source": [
    "print ('f1= ' +str(metrics.f1_score(test_Y, ypred2)))"
   ]
  },
  {
   "cell_type": "code",
   "execution_count": 39,
   "metadata": {},
   "outputs": [
    {
     "data": {
      "text/plain": [
       "array([[27734, 13067],\n",
       "       [15776, 25025]], dtype=int64)"
      ]
     },
     "execution_count": 39,
     "metadata": {},
     "output_type": "execute_result"
    }
   ],
   "source": [
    "sklearn.metrics.confusion_matrix(test_Y, ypred2)"
   ]
  },
  {
   "cell_type": "code",
   "execution_count": 40,
   "metadata": {},
   "outputs": [],
   "source": [
    "# tn, fp, \n",
    "# fn, tp"
   ]
  },
  {
   "cell_type": "markdown",
   "metadata": {},
   "source": [
    "## Вывод: по этому критерию синтезированные данные соответствуют реальным"
   ]
  },
  {
   "cell_type": "code",
   "execution_count": null,
   "metadata": {},
   "outputs": [],
   "source": []
  }
 ],
 "metadata": {
  "kernelspec": {
   "display_name": "Python 3",
   "language": "python",
   "name": "python3"
  },
  "language_info": {
   "codemirror_mode": {
    "name": "ipython",
    "version": 3
   },
   "file_extension": ".py",
   "mimetype": "text/x-python",
   "name": "python",
   "nbconvert_exporter": "python",
   "pygments_lexer": "ipython3",
   "version": "3.7.6"
  }
 },
 "nbformat": 4,
 "nbformat_minor": 4
}
