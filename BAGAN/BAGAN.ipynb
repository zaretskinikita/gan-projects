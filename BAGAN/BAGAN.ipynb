{
 "cells": [
  {
   "cell_type": "markdown",
   "metadata": {},
   "source": [
    "# BAGAN MNIST\n",
    "\n",
    "Цель - синтезировать данные из несбалансированной выборки. \n",
    "\n",
    "\n",
    "Другими словами, есть по ~6000 образцов с метками 1,2 .. 9, но всего 148 образцов с меткой 0. Целью является синтез образцов с меткой 0.\n",
    "\n",
    "\n",
    "Если обучать обычную GAN сеть только на 148 образцах, сеть не обучится из-за малости выборки. \n",
    "\n",
    "Если обучать обычную GAN сеть на всех образцах, чтобы она синтезировала данные, похожие на реальные (то есть и 1, и 2, и 3 итд), то в синтезированных данных практически не будет нулей, так как это невыгодно с точки зрения задачи оптимизации. \n",
    "\n",
    "Поэтому  используется алгоритм BAGAN, в который входят автокодировщик; conditionl_latent_generator - генератор псевдослучайных векторов на основе распределений для конкретных классов для подачи на вход модели-генератору. Также изменен сам алгоритм GAN: модель-дискриминатор не является бинарным классификатором, различающим real - fake. Теперь это задача многоклассовой классификации, где модель-дискриминатор определяет между fake и 10 реальными классами. "
   ]
  },
  {
   "cell_type": "code",
   "execution_count": 1,
   "metadata": {},
   "outputs": [],
   "source": [
    "import torch\n",
    "import torch.nn as nn\n",
    "\n",
    "\n",
    "from collections import OrderedDict\n",
    "import numpy as np\n",
    "import torch.utils.data as data\n",
    "import torchvision\n",
    "import torchvision.datasets as datasets\n",
    "import torchvision.transforms as transforms\n",
    "import os\n",
    "import sys\n",
    "import time\n",
    "import math\n",
    "\n",
    "import matplotlib.pyplot as plt\n",
    "import seaborn as sns\n",
    "\n",
    "import scipy.misc\n",
    "import torch.distributions.multivariate_normal as mn\n",
    "\n",
    "import argparse\n",
    "from torch import optim\n",
    "from torch.autograd import Variable\n",
    "import torch.nn.functional as F\n",
    "\n",
    "import torch.utils.data as data_utils\n",
    "\n",
    "random_seed = 99\n",
    "torch.manual_seed(random_seed)\n",
    "DEVICE = torch.device(\"cuda:0\" if torch.cuda.is_available() else \"cpu\")"
   ]
  },
  {
   "cell_type": "markdown",
   "metadata": {},
   "source": [
    "## 1. Directories creation"
   ]
  },
  {
   "cell_type": "code",
   "execution_count": 2,
   "metadata": {},
   "outputs": [],
   "source": [
    "train_dir = 'training'\n",
    "checkpoint_dir = 'checkpoint'\n",
    "distribution_dir = 'distribution'"
   ]
  },
  {
   "cell_type": "code",
   "execution_count": 3,
   "metadata": {},
   "outputs": [],
   "source": [
    "if not os.path.exists(train_dir):\n",
    "    os.mkdir(train_dir)\n",
    "if not os.path.exists(checkpoint_dir):\n",
    "    os.mkdir(checkpoint_dir)\n",
    "if not os.path.exists(distribution_dir):\n",
    "    os.mkdir(distribution_dir)\n"
   ]
  },
  {
   "cell_type": "markdown",
   "metadata": {},
   "source": [
    "## 2. Data loading"
   ]
  },
  {
   "cell_type": "code",
   "execution_count": 4,
   "metadata": {},
   "outputs": [],
   "source": [
    "def plot_results(G, fixed_noise, image_size,  is_gray=True):  # for generated data\n",
    "#     G.eval()\n",
    "    generate_images = G(fixed_noise.to(DEVICE)).cpu().detach().numpy()\n",
    "#     G.train()\n",
    "    \n",
    "    fig = plt.figure()\n",
    "    for i in range(6):\n",
    "        plt.subplot(2,3,i+1)\n",
    "        plt.tight_layout()\n",
    "        plt.imshow(generate_images[i][0], cmap='gray', interpolation='none')\n",
    "        plt.xticks([])\n",
    "        plt.yticks([])\n"
   ]
  },
  {
   "cell_type": "code",
   "execution_count": 5,
   "metadata": {},
   "outputs": [],
   "source": [
    "def load_data():\n",
    "    '''The dataset consists of only 148 \"0\" samples, \n",
    "    which is 2.5% of available \"0\" samples'''\n",
    "    print(load_data.__doc__)\n",
    "    \n",
    "    dataset = torchvision.datasets.MNIST(train_dir, train = True, download=True,\n",
    "                             transform=torchvision.transforms.Compose([\n",
    "                               torchvision.transforms.ToTensor(),\n",
    "                               torchvision.transforms.Normalize(\n",
    "                                 (0.5,), (0.5,))\n",
    "                             ]))\n",
    "    idx = (dataset.targets==0)\n",
    "    dataset.targets = (dataset.train_labels[idx])\n",
    "    dataset.data = dataset.train_data[idx]\n",
    "    \n",
    "    indices = torch.arange(148)\n",
    "    dataset0 = data_utils.Subset(dataset, indices)\n",
    "    \n",
    "    \n",
    "    \n",
    "    dataset = torchvision.datasets.MNIST(train_dir, download=True,\n",
    "                             transform=torchvision.transforms.Compose([\n",
    "                               torchvision.transforms.ToTensor(),\n",
    "                               torchvision.transforms.Normalize(\n",
    "                                 (0.5,), (0.5,))\n",
    "                             ]))\n",
    "\n",
    "\n",
    "    idx = (dataset.targets != 0)\n",
    "    dataset.targets = (dataset.train_labels[idx])\n",
    "    dataset.data = dataset.train_data[idx]\n",
    "    \n",
    "    dataset = dataset0 + dataset\n",
    "    \n",
    "    dataloader = torch.utils.data.DataLoader(dataset, batch_size = batch_size, shuffle = True)\n",
    "    \n",
    "    return dataloader"
   ]
  },
  {
   "cell_type": "code",
   "execution_count": 6,
   "metadata": {},
   "outputs": [],
   "source": [
    "def plot_examples(dataloader):  \n",
    "    examples = enumerate(dataloader)\n",
    "    print('examples: ', examples)\n",
    "\n",
    "    batch_idx, (example_data, example_targets) = next(examples) # is used every time\n",
    "    # index, data, label\n",
    "    print('batch_idx = ', batch_idx)\n",
    "    print('example_data.shape = ', example_data.shape)\n",
    "    print('example_targets.shape = ', example_targets.shape)\n",
    "\n",
    "\n",
    "    fig = plt.figure()\n",
    "    for i in range(6):\n",
    "        plt.subplot(2,3,i+1)\n",
    "        plt.tight_layout()\n",
    "        plt.imshow(example_data[i][0], cmap='gray', interpolation='none')### !!!!!!!\n",
    "        plt.title(\"Real: {}\".format(example_targets[i]))\n",
    "        plt.xticks([])\n",
    "        plt.yticks([])"
   ]
  },
  {
   "cell_type": "code",
   "execution_count": 7,
   "metadata": {},
   "outputs": [],
   "source": [
    "def plot_quantity(dataloader):\n",
    "    Targets = []\n",
    "    for i,(example_data, example_targets) in enumerate(dataloader):\n",
    "        example_targets = list(example_targets.numpy())\n",
    "        for i in example_targets:\n",
    "            Targets.append(i)\n",
    "    \n",
    "    d = dict()\n",
    "    for i in Targets:\n",
    "        if i not in d:\n",
    "            d[i] = 1\n",
    "        else:\n",
    "            d[i] += 1\n",
    "       \n",
    "    d = OrderedDict(sorted(d.items()))\n",
    "    \n",
    "    sns.countplot(x = Targets )\n",
    "    for i, j in d.items():\n",
    "        print(i, j, sep = ' : ', end = '; ')"
   ]
  },
  {
   "cell_type": "code",
   "execution_count": 8,
   "metadata": {},
   "outputs": [
    {
     "name": "stdout",
     "output_type": "stream",
     "text": [
      "The dataset consists of only 148 \"0\" samples, \n",
      "    which is 2.5% of available \"0\" samples\n",
      "Downloading http://yann.lecun.com/exdb/mnist/train-images-idx3-ubyte.gz\n",
      "Downloading http://yann.lecun.com/exdb/mnist/train-images-idx3-ubyte.gz to training\\MNIST\\raw\\train-images-idx3-ubyte.gz\n"
     ]
    },
    {
     "data": {
      "application/vnd.jupyter.widget-view+json": {
       "model_id": "bcadc9ef216549a28c6627594d5b100f",
       "version_major": 2,
       "version_minor": 0
      },
      "text/plain": [
       "HBox(children=(FloatProgress(value=0.0, max=9912422.0), HTML(value='')))"
      ]
     },
     "metadata": {},
     "output_type": "display_data"
    },
    {
     "name": "stdout",
     "output_type": "stream",
     "text": [
      "\n",
      "Extracting training\\MNIST\\raw\\train-images-idx3-ubyte.gz to training\\MNIST\\raw\n",
      "\n",
      "Downloading http://yann.lecun.com/exdb/mnist/train-labels-idx1-ubyte.gz\n",
      "Downloading http://yann.lecun.com/exdb/mnist/train-labels-idx1-ubyte.gz to training\\MNIST\\raw\\train-labels-idx1-ubyte.gz\n"
     ]
    },
    {
     "data": {
      "application/vnd.jupyter.widget-view+json": {
       "model_id": "9b4940faa02a4ad6ac124768b6a5ef61",
       "version_major": 2,
       "version_minor": 0
      },
      "text/plain": [
       "HBox(children=(FloatProgress(value=0.0, max=28881.0), HTML(value='')))"
      ]
     },
     "metadata": {},
     "output_type": "display_data"
    },
    {
     "name": "stdout",
     "output_type": "stream",
     "text": [
      "\n",
      "Extracting training\\MNIST\\raw\\train-labels-idx1-ubyte.gz to training\\MNIST\\raw\n",
      "\n",
      "Downloading http://yann.lecun.com/exdb/mnist/t10k-images-idx3-ubyte.gz\n",
      "Downloading http://yann.lecun.com/exdb/mnist/t10k-images-idx3-ubyte.gz to training\\MNIST\\raw\\t10k-images-idx3-ubyte.gz\n"
     ]
    },
    {
     "data": {
      "application/vnd.jupyter.widget-view+json": {
       "model_id": "03c67b41ef984541b6b7812a22982569",
       "version_major": 2,
       "version_minor": 0
      },
      "text/plain": [
       "HBox(children=(FloatProgress(value=0.0, max=1648877.0), HTML(value='')))"
      ]
     },
     "metadata": {},
     "output_type": "display_data"
    },
    {
     "name": "stdout",
     "output_type": "stream",
     "text": [
      "\n",
      "Extracting training\\MNIST\\raw\\t10k-images-idx3-ubyte.gz to training\\MNIST\\raw\n",
      "\n",
      "Downloading http://yann.lecun.com/exdb/mnist/t10k-labels-idx1-ubyte.gz\n",
      "Downloading http://yann.lecun.com/exdb/mnist/t10k-labels-idx1-ubyte.gz to training\\MNIST\\raw\\t10k-labels-idx1-ubyte.gz\n"
     ]
    },
    {
     "data": {
      "application/vnd.jupyter.widget-view+json": {
       "model_id": "d655a8c68b3b4c5cbc7b7726df22adfc",
       "version_major": 2,
       "version_minor": 0
      },
      "text/plain": [
       "HBox(children=(FloatProgress(value=0.0, max=4542.0), HTML(value='')))"
      ]
     },
     "metadata": {},
     "output_type": "display_data"
    },
    {
     "name": "stdout",
     "output_type": "stream",
     "text": [
      "\n",
      "Extracting training\\MNIST\\raw\\t10k-labels-idx1-ubyte.gz to training\\MNIST\\raw\n",
      "\n"
     ]
    },
    {
     "name": "stderr",
     "output_type": "stream",
     "text": [
      "C:\\Users\\zaret\\anaconda3\\lib\\site-packages\\torchvision\\datasets\\mnist.py:65: UserWarning: train_labels has been renamed targets\n",
      "  warnings.warn(\"train_labels has been renamed targets\")\n",
      "C:\\Users\\zaret\\anaconda3\\lib\\site-packages\\torchvision\\datasets\\mnist.py:75: UserWarning: train_data has been renamed data\n",
      "  warnings.warn(\"train_data has been renamed data\")\n"
     ]
    }
   ],
   "source": [
    "batch_size = 128\n",
    "\n",
    "data_loader = load_data()"
   ]
  },
  {
   "cell_type": "code",
   "execution_count": 9,
   "metadata": {},
   "outputs": [
    {
     "data": {
      "text/plain": [
       "<torch.utils.data.dataloader.DataLoader at 0x20e1d5f97c8>"
      ]
     },
     "execution_count": 9,
     "metadata": {},
     "output_type": "execute_result"
    }
   ],
   "source": [
    "data_loader"
   ]
  },
  {
   "cell_type": "code",
   "execution_count": 10,
   "metadata": {},
   "outputs": [
    {
     "name": "stdout",
     "output_type": "stream",
     "text": [
      "examples:  <enumerate object at 0x0000020E1D609228>\n",
      "batch_idx =  0\n",
      "example_data.shape =  torch.Size([128, 1, 28, 28])\n",
      "example_targets.shape =  torch.Size([128])\n"
     ]
    },
    {
     "data": {
      "image/png": "[encoded data removed]",
      "text/plain": [
       "<Figure size 432x288 with 6 Axes>"
      ]
     },
     "metadata": {},
     "output_type": "display_data"
    }
   ],
   "source": [
    "plot_examples(data_loader)"
   ]
  },
  {
   "cell_type": "code",
   "execution_count": 11,
   "metadata": {},
   "outputs": [
    {
     "name": "stdout",
     "output_type": "stream",
     "text": [
      "0 : 148; 1 : 6742; 2 : 5958; 3 : 6131; 4 : 5842; 5 : 5421; 6 : 5918; 7 : 6265; 8 : 5851; 9 : 5949; "
     ]
    },
    {
     "data": {
      "image/png": "[encoded data removed]",
      "text/plain": [
       "<Figure size 432x288 with 1 Axes>"
      ]
     },
     "metadata": {
      "needs_background": "light"
     },
     "output_type": "display_data"
    }
   ],
   "source": [
    "plot_quantity(data_loader)"
   ]
  },
  {
   "cell_type": "markdown",
   "metadata": {},
   "source": [
    "## 2. Models\n"
   ]
  },
  {
   "cell_type": "code",
   "execution_count": 12,
   "metadata": {},
   "outputs": [],
   "source": [
    "#epochs = 500\n",
    "lr = 1e-3\n",
    "\n",
    "hidden_size = 32 \n",
    "\n",
    "latent_dims = hidden_size * 8\n",
    "class_num = 10"
   ]
  },
  {
   "cell_type": "markdown",
   "metadata": {},
   "source": [
    "## Generate Distributions:"
   ]
  },
  {
   "cell_type": "code",
   "execution_count": 13,
   "metadata": {},
   "outputs": [],
   "source": [
    "# Discriminator\n",
    "class Encoder(nn.Module):   ## changed\n",
    "    def __init__(self, hidden_dim, latent_dims = latent_dims):\n",
    "        super(Encoder, self).__init__()\n",
    "        self.model = nn.Sequential(            \n",
    "            nn.Conv2d(1, hidden_dim, 4, 2, 1, bias=False),\n",
    "            nn.LeakyReLU(0.2, inplace=True),\n",
    "\n",
    "            nn.Conv2d(hidden_dim, hidden_dim * 2, 4, 2, 1, bias=False),\n",
    "            nn.BatchNorm2d(hidden_dim * 2),\n",
    "            nn.LeakyReLU(0.2, inplace=True),\n",
    "\n",
    "            nn.Conv2d(hidden_dim * 2, hidden_dim * 4, 3, 2, 1, bias=False),\n",
    "            nn.BatchNorm2d(hidden_dim * 4),\n",
    "            nn.LeakyReLU(0.2, inplace=True),\n",
    "\n",
    "            nn.Conv2d(hidden_dim * 4, latent_dims, 4, 1, 0, bias=False),\n",
    "        )\n",
    "\n",
    "    def forward(self, x):\n",
    "        output = self.model(x)\n",
    "        return output.squeeze(-1).squeeze(-1)"
   ]
  },
  {
   "cell_type": "code",
   "execution_count": 14,
   "metadata": {},
   "outputs": [],
   "source": [
    "# Generator\n",
    "class Decoder(nn.Module):\n",
    "    def __init__(self, hidden_dim, latent_dims = latent_dims):\n",
    "        super(Decoder, self).__init__()\n",
    "        self.model = nn.Sequential(\n",
    "            nn.ConvTranspose2d(latent_dims, hidden_dim*4, 4, 1, 0, bias=False),\n",
    "            nn.BatchNorm2d(hidden_dim*4),\n",
    "            nn.ReLU(True),\n",
    "\n",
    "            nn.ConvTranspose2d(hidden_dim*4, hidden_dim*2, 3, 2, 1, bias=False),\n",
    "            nn.BatchNorm2d(hidden_dim*2),\n",
    "            nn.ReLU(True),\n",
    "\n",
    "            nn.ConvTranspose2d(hidden_dim*2, hidden_dim, 4, 2, 1, bias=False),\n",
    "            nn.BatchNorm2d(hidden_dim),\n",
    "            nn.ReLU(True),\n",
    "\n",
    "            nn.ConvTranspose2d(hidden_dim, 1, 4, 2, 1, bias=False),\n",
    "      )\n",
    "\n",
    "\n",
    "    def forward(self, z):\n",
    "        z = z.unsqueeze(-1).unsqueeze(-1)\n",
    "        output = self.model(z)\n",
    "        return output"
   ]
  },
  {
   "cell_type": "code",
   "execution_count": 18,
   "metadata": {},
   "outputs": [],
   "source": [
    "class Discriminator(nn.Module):\n",
    "\n",
    "    def __init__(self, hidden_dim, latent_dims = latent_dims, output_size = class_num + 1): #!!!!\n",
    "        super(Discriminator, self).__init__()\n",
    "        \n",
    "        self.model = Encoder(hidden_dim)\n",
    "        self.linear5 = nn.Linear(latent_dims, output_size)\n",
    "        \n",
    "    def forward(self, x):\n",
    "        # flatten image\n",
    "        #x = x.view(-1, 28 * 28)\n",
    "        x = self.model(x)\n",
    "        x = F.leaky_relu(x)\n",
    "        out = self.linear5(x)\n",
    "\n",
    "        return out"
   ]
  },
  {
   "cell_type": "code",
   "execution_count": 19,
   "metadata": {},
   "outputs": [],
   "source": [
    "class PriorDiscriminator(nn.Module):\n",
    "    def __init__(self,latent_dims=latent_dims):\n",
    "        super().__init__()\n",
    "        self.l0 = nn.Linear(latent_dims, 64)\n",
    "        self.l1 = nn.Linear(64, 64//4)\n",
    "        self.l2 = nn.Linear(64//4, 1)\n",
    "        \n",
    "    def forward(self, x):\n",
    "        h = F.leaky_relu(self.l0(x))\n",
    "        h = F.leaky_relu(self.l1(h))\n",
    "        return torch.sigmoid(self.l2(h))\n"
   ]
  },
  {
   "cell_type": "markdown",
   "metadata": {},
   "source": [
    "## 4. Autoencoder\n",
    "Автокодировщик используется для того, чтобы модели генератора и дискриминатора были уже обученные (pretrained) перед началом основного цикла обучения. Это возможно, так как архитектуры сетей кодировщика и декодировщика совпадают с архитектурами дискриминатора и генератора соответственно. \n",
    "\n",
    "Основной причиной использования автокодировщика является получение информации о каждом классе, чтобы генератору (в основном цикле обучения) на вход подавался не просто случайный вектор из latent_space, а \"полуслучайный\" вектор, который бы соответствовал распределению для конкретного класса."
   ]
  },
  {
   "cell_type": "code",
   "execution_count": 20,
   "metadata": {},
   "outputs": [],
   "source": [
    "epochs_autoen = 60"
   ]
  },
  {
   "cell_type": "code",
   "execution_count": 22,
   "metadata": {},
   "outputs": [
    {
     "name": "stdout",
     "output_type": "stream",
     "text": [
      "0 : 148; 1 : 6742; 2 : 5958; 3 : 6131; 4 : 5842; 5 : 5421; 6 : 5918; 7 : 6265; 8 : 5851; 9 : 5949; "
     ]
    },
    {
     "data": {
      "image/png": "[encoded data removed]",
      "text/plain": [
       "<Figure size 432x288 with 1 Axes>"
      ]
     },
     "metadata": {
      "needs_background": "light"
     },
     "output_type": "display_data"
    }
   ],
   "source": [
    "data_loader_autoen = data_loader\n",
    "plot_quantity(data_loader_autoen)"
   ]
  },
  {
   "cell_type": "code",
   "execution_count": 24,
   "metadata": {},
   "outputs": [],
   "source": [
    "encoder = Encoder(hidden_dim = hidden_size).to(DEVICE)\n",
    "decoder = Decoder(hidden_dim = hidden_size).to(DEVICE)\n",
    "disc = PriorDiscriminator().to(DEVICE)\n",
    "recon_loss = nn.MSELoss(reduction = 'sum').to(DEVICE)"
   ]
  },
  {
   "cell_type": "code",
   "execution_count": 25,
   "metadata": {},
   "outputs": [],
   "source": [
    "optim_encoder = torch.optim.Adam(encoder.parameters(), lr=1e-3)\n",
    "optim_decoder = torch.optim.Adam(decoder.parameters(), lr=1e-3)\n",
    "optim_encoder_reg = torch.optim.Adam(encoder.parameters(), lr=1e-3)\n",
    "optim_D = torch.optim.Adam(disc.parameters(), lr=1e-3)"
   ]
  },
  {
   "cell_type": "markdown",
   "metadata": {},
   "source": [
    "## Adversarial auto encoder\n",
    "Испольуется метод, аналогичный алгоритму Wasserstein GAN"
   ]
  },
  {
   "cell_type": "code",
   "execution_count": 26,
   "metadata": {
    "scrolled": true
   },
   "outputs": [
    {
     "name": "stdout",
     "output_type": "stream",
     "text": [
      "---1 epoch: 143.4466037750244 seconds ---\n",
      "Train Epoch: 1 [0/54225 (0%)]\tLoss: 7668.659180\n",
      "Train Epoch: 1 [12800/54225 (24%)]\tLoss: 8618.201172\n",
      "Train Epoch: 1 [25600/54225 (47%)]\tLoss: 7103.363770\n",
      "Train Epoch: 1 [38400/54225 (71%)]\tLoss: 5859.878418\n",
      "Train Epoch: 1 [51200/54225 (94%)]\tLoss: 5136.656250\n",
      "Train Epoch: 2 [0/54225 (0%)]\tLoss: 4905.672852\n",
      "Train Epoch: 2 [12800/54225 (24%)]\tLoss: 4055.909668\n",
      "Train Epoch: 2 [25600/54225 (47%)]\tLoss: 3871.367188\n",
      "Train Epoch: 2 [38400/54225 (71%)]\tLoss: 4086.345215\n",
      "Train Epoch: 2 [51200/54225 (94%)]\tLoss: 3653.574951\n",
      "Train Epoch: 3 [0/54225 (0%)]\tLoss: 3570.591553\n",
      "Train Epoch: 3 [12800/54225 (24%)]\tLoss: 3144.893799\n",
      "Train Epoch: 3 [25600/54225 (47%)]\tLoss: 3239.068359\n",
      "Train Epoch: 3 [38400/54225 (71%)]\tLoss: 2889.739502\n",
      "Train Epoch: 3 [51200/54225 (94%)]\tLoss: 2694.745361\n",
      "Train Epoch: 4 [0/54225 (0%)]\tLoss: 2663.626465\n",
      "Train Epoch: 4 [12800/54225 (24%)]\tLoss: 2598.233398\n",
      "Train Epoch: 4 [25600/54225 (47%)]\tLoss: 2623.581299\n",
      "Train Epoch: 4 [38400/54225 (71%)]\tLoss: 2259.720215\n",
      "Train Epoch: 4 [51200/54225 (94%)]\tLoss: 2286.609131\n",
      "Train Epoch: 5 [0/54225 (0%)]\tLoss: 2478.016602\n",
      "Train Epoch: 5 [12800/54225 (24%)]\tLoss: 2186.442383\n",
      "Train Epoch: 5 [25600/54225 (47%)]\tLoss: 2334.157227\n",
      "Train Epoch: 5 [38400/54225 (71%)]\tLoss: 2230.904053\n",
      "Train Epoch: 5 [51200/54225 (94%)]\tLoss: 2159.703125\n",
      "Train Epoch: 6 [0/54225 (0%)]\tLoss: 2448.052246\n",
      "Train Epoch: 6 [12800/54225 (24%)]\tLoss: 2223.390137\n",
      "Train Epoch: 6 [25600/54225 (47%)]\tLoss: 1942.357178\n",
      "Train Epoch: 6 [38400/54225 (71%)]\tLoss: 1893.510010\n",
      "Train Epoch: 6 [51200/54225 (94%)]\tLoss: 1930.609131\n",
      "Train Epoch: 7 [0/54225 (0%)]\tLoss: 1873.973145\n",
      "Train Epoch: 7 [12800/54225 (24%)]\tLoss: 1843.280884\n",
      "Train Epoch: 7 [25600/54225 (47%)]\tLoss: 1790.059814\n",
      "Train Epoch: 7 [38400/54225 (71%)]\tLoss: 1738.756470\n",
      "Train Epoch: 7 [51200/54225 (94%)]\tLoss: 1512.963989\n",
      "Train Epoch: 8 [0/54225 (0%)]\tLoss: 1572.331421\n",
      "Train Epoch: 8 [12800/54225 (24%)]\tLoss: 1624.077393\n",
      "Train Epoch: 8 [25600/54225 (47%)]\tLoss: 1569.728271\n",
      "Train Epoch: 8 [38400/54225 (71%)]\tLoss: 1607.482178\n",
      "Train Epoch: 8 [51200/54225 (94%)]\tLoss: 1299.907837\n",
      "Train Epoch: 9 [0/54225 (0%)]\tLoss: 1433.901367\n",
      "Train Epoch: 9 [12800/54225 (24%)]\tLoss: 1317.489258\n",
      "Train Epoch: 9 [25600/54225 (47%)]\tLoss: 1485.746216\n",
      "Train Epoch: 9 [38400/54225 (71%)]\tLoss: 1282.944580\n",
      "Train Epoch: 9 [51200/54225 (94%)]\tLoss: 1345.264771\n",
      "Train Epoch: 10 [0/54225 (0%)]\tLoss: 1276.271973\n",
      "Train Epoch: 10 [12800/54225 (24%)]\tLoss: 1294.585571\n",
      "Train Epoch: 10 [25600/54225 (47%)]\tLoss: 1276.338379\n",
      "Train Epoch: 10 [38400/54225 (71%)]\tLoss: 1267.396240\n",
      "Train Epoch: 10 [51200/54225 (94%)]\tLoss: 1310.552612\n",
      "Train Epoch: 11 [0/54225 (0%)]\tLoss: 1359.401367\n",
      "Train Epoch: 11 [12800/54225 (24%)]\tLoss: 1159.899780\n",
      "Train Epoch: 11 [25600/54225 (47%)]\tLoss: 1124.365967\n",
      "Train Epoch: 11 [38400/54225 (71%)]\tLoss: 1023.794617\n",
      "Train Epoch: 11 [51200/54225 (94%)]\tLoss: 1169.949829\n",
      "Train Epoch: 12 [0/54225 (0%)]\tLoss: 1296.809204\n",
      "Train Epoch: 12 [12800/54225 (24%)]\tLoss: 1082.989990\n",
      "Train Epoch: 12 [25600/54225 (47%)]\tLoss: 1070.875366\n",
      "Train Epoch: 12 [38400/54225 (71%)]\tLoss: 1001.973389\n",
      "Train Epoch: 12 [51200/54225 (94%)]\tLoss: 1282.635254\n",
      "Train Epoch: 13 [0/54225 (0%)]\tLoss: 1193.629272\n",
      "Train Epoch: 13 [12800/54225 (24%)]\tLoss: 975.547119\n",
      "Train Epoch: 13 [25600/54225 (47%)]\tLoss: 1055.586426\n",
      "Train Epoch: 13 [38400/54225 (71%)]\tLoss: 1160.732300\n",
      "Train Epoch: 13 [51200/54225 (94%)]\tLoss: 956.311157\n",
      "Train Epoch: 14 [0/54225 (0%)]\tLoss: 1185.875244\n",
      "Train Epoch: 14 [12800/54225 (24%)]\tLoss: 997.684570\n",
      "Train Epoch: 14 [25600/54225 (47%)]\tLoss: 901.520630\n",
      "Train Epoch: 14 [38400/54225 (71%)]\tLoss: 825.662964\n",
      "Train Epoch: 14 [51200/54225 (94%)]\tLoss: 942.586487\n",
      "Train Epoch: 15 [0/54225 (0%)]\tLoss: 895.858032\n",
      "Train Epoch: 15 [12800/54225 (24%)]\tLoss: 980.475098\n",
      "Train Epoch: 15 [25600/54225 (47%)]\tLoss: 829.530884\n",
      "Train Epoch: 15 [38400/54225 (71%)]\tLoss: 892.685791\n",
      "Train Epoch: 15 [51200/54225 (94%)]\tLoss: 839.997925\n",
      "Train Epoch: 16 [0/54225 (0%)]\tLoss: 842.358521\n",
      "Train Epoch: 16 [12800/54225 (24%)]\tLoss: 918.879883\n",
      "Train Epoch: 16 [25600/54225 (47%)]\tLoss: 903.703003\n",
      "Train Epoch: 16 [38400/54225 (71%)]\tLoss: 796.629456\n",
      "Train Epoch: 16 [51200/54225 (94%)]\tLoss: 715.978943\n",
      "Train Epoch: 17 [0/54225 (0%)]\tLoss: 857.186523\n",
      "Train Epoch: 17 [12800/54225 (24%)]\tLoss: 945.230774\n",
      "Train Epoch: 17 [25600/54225 (47%)]\tLoss: 833.502197\n",
      "Train Epoch: 17 [38400/54225 (71%)]\tLoss: 779.881775\n",
      "Train Epoch: 17 [51200/54225 (94%)]\tLoss: 753.281616\n",
      "Train Epoch: 18 [0/54225 (0%)]\tLoss: 856.222168\n",
      "Train Epoch: 18 [12800/54225 (24%)]\tLoss: 756.747192\n",
      "Train Epoch: 18 [25600/54225 (47%)]\tLoss: 686.639038\n",
      "Train Epoch: 18 [38400/54225 (71%)]\tLoss: 692.895691\n",
      "Train Epoch: 18 [51200/54225 (94%)]\tLoss: 706.655151\n",
      "Train Epoch: 19 [0/54225 (0%)]\tLoss: 700.312622\n",
      "Train Epoch: 19 [12800/54225 (24%)]\tLoss: 690.926392\n",
      "Train Epoch: 19 [25600/54225 (47%)]\tLoss: 712.277649\n",
      "Train Epoch: 19 [38400/54225 (71%)]\tLoss: 725.172668\n",
      "Train Epoch: 19 [51200/54225 (94%)]\tLoss: 678.048706\n",
      "Train Epoch: 20 [0/54225 (0%)]\tLoss: 628.630249\n",
      "Train Epoch: 20 [12800/54225 (24%)]\tLoss: 600.135620\n",
      "Train Epoch: 20 [25600/54225 (47%)]\tLoss: 638.177124\n",
      "Train Epoch: 20 [38400/54225 (71%)]\tLoss: 653.199341\n",
      "Train Epoch: 20 [51200/54225 (94%)]\tLoss: 693.119141\n",
      "Train Epoch: 21 [0/54225 (0%)]\tLoss: 641.929077\n",
      "Train Epoch: 21 [12800/54225 (24%)]\tLoss: 776.866577\n",
      "Train Epoch: 21 [25600/54225 (47%)]\tLoss: 618.355835\n",
      "Train Epoch: 21 [38400/54225 (71%)]\tLoss: 651.695984\n",
      "Train Epoch: 21 [51200/54225 (94%)]\tLoss: 623.131775\n",
      "Train Epoch: 22 [0/54225 (0%)]\tLoss: 650.121399\n",
      "Train Epoch: 22 [12800/54225 (24%)]\tLoss: 579.312744\n",
      "Train Epoch: 22 [25600/54225 (47%)]\tLoss: 634.938599\n",
      "Train Epoch: 22 [38400/54225 (71%)]\tLoss: 576.938354\n",
      "Train Epoch: 22 [51200/54225 (94%)]\tLoss: 646.030457\n",
      "Train Epoch: 23 [0/54225 (0%)]\tLoss: 669.196960\n",
      "Train Epoch: 23 [12800/54225 (24%)]\tLoss: 659.997620\n",
      "Train Epoch: 23 [25600/54225 (47%)]\tLoss: 631.113770\n",
      "Train Epoch: 23 [38400/54225 (71%)]\tLoss: 649.722412\n",
      "Train Epoch: 23 [51200/54225 (94%)]\tLoss: 535.925171\n",
      "Train Epoch: 24 [0/54225 (0%)]\tLoss: 561.206909\n",
      "Train Epoch: 24 [12800/54225 (24%)]\tLoss: 524.028748\n",
      "Train Epoch: 24 [25600/54225 (47%)]\tLoss: 575.476501\n",
      "Train Epoch: 24 [38400/54225 (71%)]\tLoss: 573.095215\n",
      "Train Epoch: 24 [51200/54225 (94%)]\tLoss: 552.793213\n",
      "Train Epoch: 25 [0/54225 (0%)]\tLoss: 541.851013\n",
      "Train Epoch: 25 [12800/54225 (24%)]\tLoss: 558.840698\n",
      "Train Epoch: 25 [25600/54225 (47%)]\tLoss: 535.039673\n",
      "Train Epoch: 25 [38400/54225 (71%)]\tLoss: 571.437195\n",
      "Train Epoch: 25 [51200/54225 (94%)]\tLoss: 528.708862\n",
      "Train Epoch: 26 [0/54225 (0%)]\tLoss: 540.342712\n",
      "Train Epoch: 26 [12800/54225 (24%)]\tLoss: 566.459839\n",
      "Train Epoch: 26 [25600/54225 (47%)]\tLoss: 574.526794\n",
      "Train Epoch: 26 [38400/54225 (71%)]\tLoss: 522.565063\n",
      "Train Epoch: 26 [51200/54225 (94%)]\tLoss: 554.027466\n",
      "Train Epoch: 27 [0/54225 (0%)]\tLoss: 571.802002\n",
      "Train Epoch: 27 [12800/54225 (24%)]\tLoss: 508.779419\n",
      "Train Epoch: 27 [25600/54225 (47%)]\tLoss: 495.753510\n",
      "Train Epoch: 27 [38400/54225 (71%)]\tLoss: 554.374512\n",
      "Train Epoch: 27 [51200/54225 (94%)]\tLoss: 574.618896\n",
      "Train Epoch: 28 [0/54225 (0%)]\tLoss: 528.521423\n",
      "Train Epoch: 28 [12800/54225 (24%)]\tLoss: 498.152069\n",
      "Train Epoch: 28 [25600/54225 (47%)]\tLoss: 473.984436\n",
      "Train Epoch: 28 [38400/54225 (71%)]\tLoss: 483.445740\n",
      "Train Epoch: 28 [51200/54225 (94%)]\tLoss: 499.159607\n",
      "Train Epoch: 29 [0/54225 (0%)]\tLoss: 542.781250\n",
      "Train Epoch: 29 [12800/54225 (24%)]\tLoss: 544.129395\n",
      "Train Epoch: 29 [25600/54225 (47%)]\tLoss: 536.151245\n",
      "Train Epoch: 29 [38400/54225 (71%)]\tLoss: 458.484711\n",
      "Train Epoch: 29 [51200/54225 (94%)]\tLoss: 486.864044\n",
      "Train Epoch: 30 [0/54225 (0%)]\tLoss: 455.036896\n",
      "Train Epoch: 30 [12800/54225 (24%)]\tLoss: 467.643616\n",
      "Train Epoch: 30 [25600/54225 (47%)]\tLoss: 480.294189\n",
      "Train Epoch: 30 [38400/54225 (71%)]\tLoss: 493.940613\n",
      "Train Epoch: 30 [51200/54225 (94%)]\tLoss: 492.345673\n",
      "Train Epoch: 31 [0/54225 (0%)]\tLoss: 507.799805\n",
      "Train Epoch: 31 [12800/54225 (24%)]\tLoss: 501.210938\n",
      "Train Epoch: 31 [25600/54225 (47%)]\tLoss: 477.680115\n",
      "Train Epoch: 31 [38400/54225 (71%)]\tLoss: 461.934692\n",
      "Train Epoch: 31 [51200/54225 (94%)]\tLoss: 483.997375\n",
      "Train Epoch: 32 [0/54225 (0%)]\tLoss: 483.520477\n",
      "Train Epoch: 32 [12800/54225 (24%)]\tLoss: 452.028656\n"
     ]
    },
    {
     "name": "stdout",
     "output_type": "stream",
     "text": [
      "Train Epoch: 32 [25600/54225 (47%)]\tLoss: 502.542969\n",
      "Train Epoch: 32 [38400/54225 (71%)]\tLoss: 427.283386\n",
      "Train Epoch: 32 [51200/54225 (94%)]\tLoss: 444.210358\n",
      "Train Epoch: 33 [0/54225 (0%)]\tLoss: 445.793457\n",
      "Train Epoch: 33 [12800/54225 (24%)]\tLoss: 441.993408\n",
      "Train Epoch: 33 [25600/54225 (47%)]\tLoss: 461.576324\n",
      "Train Epoch: 33 [38400/54225 (71%)]\tLoss: 420.202362\n",
      "Train Epoch: 33 [51200/54225 (94%)]\tLoss: 413.835999\n",
      "Train Epoch: 34 [0/54225 (0%)]\tLoss: 398.642487\n",
      "Train Epoch: 34 [12800/54225 (24%)]\tLoss: 422.629150\n",
      "Train Epoch: 34 [25600/54225 (47%)]\tLoss: 410.630280\n",
      "Train Epoch: 34 [38400/54225 (71%)]\tLoss: 430.464294\n",
      "Train Epoch: 34 [51200/54225 (94%)]\tLoss: 423.104004\n",
      "Train Epoch: 35 [0/54225 (0%)]\tLoss: 422.900421\n",
      "Train Epoch: 35 [12800/54225 (24%)]\tLoss: 416.334381\n",
      "Train Epoch: 35 [25600/54225 (47%)]\tLoss: 413.634003\n",
      "Train Epoch: 35 [38400/54225 (71%)]\tLoss: 418.709290\n",
      "Train Epoch: 35 [51200/54225 (94%)]\tLoss: 421.965820\n",
      "Train Epoch: 36 [0/54225 (0%)]\tLoss: 409.511963\n",
      "Train Epoch: 36 [12800/54225 (24%)]\tLoss: 388.896606\n",
      "Train Epoch: 36 [25600/54225 (47%)]\tLoss: 399.876343\n",
      "Train Epoch: 36 [38400/54225 (71%)]\tLoss: 381.212891\n",
      "Train Epoch: 36 [51200/54225 (94%)]\tLoss: 386.416748\n",
      "Train Epoch: 37 [0/54225 (0%)]\tLoss: 402.558777\n",
      "Train Epoch: 37 [12800/54225 (24%)]\tLoss: 397.420898\n",
      "Train Epoch: 37 [25600/54225 (47%)]\tLoss: 390.677277\n",
      "Train Epoch: 37 [38400/54225 (71%)]\tLoss: 388.729370\n",
      "Train Epoch: 37 [51200/54225 (94%)]\tLoss: 390.172913\n",
      "Train Epoch: 38 [0/54225 (0%)]\tLoss: 381.154602\n",
      "Train Epoch: 38 [12800/54225 (24%)]\tLoss: 373.256744\n",
      "Train Epoch: 38 [25600/54225 (47%)]\tLoss: 386.327515\n",
      "Train Epoch: 38 [38400/54225 (71%)]\tLoss: 408.342590\n",
      "Train Epoch: 38 [51200/54225 (94%)]\tLoss: 381.339264\n",
      "Train Epoch: 39 [0/54225 (0%)]\tLoss: 375.816711\n",
      "Train Epoch: 39 [12800/54225 (24%)]\tLoss: 392.963257\n",
      "Train Epoch: 39 [25600/54225 (47%)]\tLoss: 399.290619\n",
      "Train Epoch: 39 [38400/54225 (71%)]\tLoss: 366.881348\n",
      "Train Epoch: 39 [51200/54225 (94%)]\tLoss: 374.033997\n",
      "Train Epoch: 40 [0/54225 (0%)]\tLoss: 362.162048\n",
      "Train Epoch: 40 [12800/54225 (24%)]\tLoss: 360.120087\n",
      "Train Epoch: 40 [25600/54225 (47%)]\tLoss: 400.675293\n",
      "Train Epoch: 40 [38400/54225 (71%)]\tLoss: 405.933533\n",
      "Train Epoch: 40 [51200/54225 (94%)]\tLoss: 351.889252\n",
      "Train Epoch: 41 [0/54225 (0%)]\tLoss: 383.857697\n",
      "Train Epoch: 41 [12800/54225 (24%)]\tLoss: 361.367950\n",
      "Train Epoch: 41 [25600/54225 (47%)]\tLoss: 373.297455\n",
      "Train Epoch: 41 [38400/54225 (71%)]\tLoss: 361.377502\n",
      "Train Epoch: 41 [51200/54225 (94%)]\tLoss: 416.749817\n",
      "Train Epoch: 42 [0/54225 (0%)]\tLoss: 380.044403\n",
      "Train Epoch: 42 [12800/54225 (24%)]\tLoss: 339.874756\n",
      "Train Epoch: 42 [25600/54225 (47%)]\tLoss: 363.499756\n",
      "Train Epoch: 42 [38400/54225 (71%)]\tLoss: 337.746460\n",
      "Train Epoch: 42 [51200/54225 (94%)]\tLoss: 364.355011\n",
      "Train Epoch: 43 [0/54225 (0%)]\tLoss: 355.294403\n",
      "Train Epoch: 43 [12800/54225 (24%)]\tLoss: 352.585052\n",
      "Train Epoch: 43 [25600/54225 (47%)]\tLoss: 342.758301\n",
      "Train Epoch: 43 [38400/54225 (71%)]\tLoss: 359.957062\n",
      "Train Epoch: 43 [51200/54225 (94%)]\tLoss: 400.724792\n",
      "Train Epoch: 44 [0/54225 (0%)]\tLoss: 365.615479\n",
      "Train Epoch: 44 [12800/54225 (24%)]\tLoss: 330.897034\n",
      "Train Epoch: 44 [25600/54225 (47%)]\tLoss: 341.092957\n",
      "Train Epoch: 44 [38400/54225 (71%)]\tLoss: 340.524689\n",
      "Train Epoch: 44 [51200/54225 (94%)]\tLoss: 331.755676\n",
      "Train Epoch: 45 [0/54225 (0%)]\tLoss: 348.980469\n",
      "Train Epoch: 45 [12800/54225 (24%)]\tLoss: 325.199921\n",
      "Train Epoch: 45 [25600/54225 (47%)]\tLoss: 340.887207\n",
      "Train Epoch: 45 [38400/54225 (71%)]\tLoss: 333.261322\n",
      "Train Epoch: 45 [51200/54225 (94%)]\tLoss: 320.208984\n",
      "Train Epoch: 46 [0/54225 (0%)]\tLoss: 338.137756\n",
      "Train Epoch: 46 [12800/54225 (24%)]\tLoss: 325.621277\n",
      "Train Epoch: 46 [25600/54225 (47%)]\tLoss: 306.645691\n",
      "Train Epoch: 46 [38400/54225 (71%)]\tLoss: 352.837616\n",
      "Train Epoch: 46 [51200/54225 (94%)]\tLoss: 348.723755\n",
      "Train Epoch: 47 [0/54225 (0%)]\tLoss: 322.576172\n",
      "Train Epoch: 47 [12800/54225 (24%)]\tLoss: 297.855530\n",
      "Train Epoch: 47 [25600/54225 (47%)]\tLoss: 300.743652\n",
      "Train Epoch: 47 [38400/54225 (71%)]\tLoss: 321.939148\n",
      "Train Epoch: 47 [51200/54225 (94%)]\tLoss: 317.982513\n",
      "Train Epoch: 48 [0/54225 (0%)]\tLoss: 318.391846\n",
      "Train Epoch: 48 [12800/54225 (24%)]\tLoss: 300.442108\n",
      "Train Epoch: 48 [25600/54225 (47%)]\tLoss: 318.901947\n",
      "Train Epoch: 48 [38400/54225 (71%)]\tLoss: 322.376984\n",
      "Train Epoch: 48 [51200/54225 (94%)]\tLoss: 331.029541\n",
      "Train Epoch: 49 [0/54225 (0%)]\tLoss: 297.787903\n",
      "Train Epoch: 49 [12800/54225 (24%)]\tLoss: 298.517883\n",
      "Train Epoch: 49 [25600/54225 (47%)]\tLoss: 340.388794\n",
      "Train Epoch: 49 [38400/54225 (71%)]\tLoss: 325.662811\n",
      "Train Epoch: 49 [51200/54225 (94%)]\tLoss: 305.588654\n",
      "Train Epoch: 50 [0/54225 (0%)]\tLoss: 335.705872\n",
      "Train Epoch: 50 [12800/54225 (24%)]\tLoss: 308.250244\n",
      "Train Epoch: 50 [25600/54225 (47%)]\tLoss: 304.255676\n",
      "Train Epoch: 50 [38400/54225 (71%)]\tLoss: 325.640625\n",
      "Train Epoch: 50 [51200/54225 (94%)]\tLoss: 289.723511\n",
      "Train Epoch: 51 [0/54225 (0%)]\tLoss: 316.346985\n",
      "Train Epoch: 51 [12800/54225 (24%)]\tLoss: 286.958832\n",
      "Train Epoch: 51 [25600/54225 (47%)]\tLoss: 339.996582\n",
      "Train Epoch: 51 [38400/54225 (71%)]\tLoss: 300.329407\n",
      "Train Epoch: 51 [51200/54225 (94%)]\tLoss: 319.638824\n",
      "Train Epoch: 52 [0/54225 (0%)]\tLoss: 297.176941\n",
      "Train Epoch: 52 [12800/54225 (24%)]\tLoss: 281.502625\n",
      "Train Epoch: 52 [25600/54225 (47%)]\tLoss: 328.611145\n",
      "Train Epoch: 52 [38400/54225 (71%)]\tLoss: 360.671661\n",
      "Train Epoch: 52 [51200/54225 (94%)]\tLoss: 304.033264\n",
      "Train Epoch: 53 [0/54225 (0%)]\tLoss: 335.423889\n",
      "Train Epoch: 53 [12800/54225 (24%)]\tLoss: 320.822937\n",
      "Train Epoch: 53 [25600/54225 (47%)]\tLoss: 304.477997\n",
      "Train Epoch: 53 [38400/54225 (71%)]\tLoss: 272.574677\n",
      "Train Epoch: 53 [51200/54225 (94%)]\tLoss: 272.192627\n",
      "Train Epoch: 54 [0/54225 (0%)]\tLoss: 291.665344\n",
      "Train Epoch: 54 [12800/54225 (24%)]\tLoss: 290.561340\n",
      "Train Epoch: 54 [25600/54225 (47%)]\tLoss: 277.000977\n",
      "Train Epoch: 54 [38400/54225 (71%)]\tLoss: 313.886963\n",
      "Train Epoch: 54 [51200/54225 (94%)]\tLoss: 299.879028\n",
      "Train Epoch: 55 [0/54225 (0%)]\tLoss: 286.914459\n",
      "Train Epoch: 55 [12800/54225 (24%)]\tLoss: 282.136047\n",
      "Train Epoch: 55 [25600/54225 (47%)]\tLoss: 281.877411\n",
      "Train Epoch: 55 [38400/54225 (71%)]\tLoss: 256.633728\n",
      "Train Epoch: 55 [51200/54225 (94%)]\tLoss: 267.883148\n",
      "Train Epoch: 56 [0/54225 (0%)]\tLoss: 289.694092\n",
      "Train Epoch: 56 [12800/54225 (24%)]\tLoss: 265.288361\n",
      "Train Epoch: 56 [25600/54225 (47%)]\tLoss: 289.167480\n",
      "Train Epoch: 56 [38400/54225 (71%)]\tLoss: 258.040985\n",
      "Train Epoch: 56 [51200/54225 (94%)]\tLoss: 275.914825\n",
      "Train Epoch: 57 [0/54225 (0%)]\tLoss: 272.610260\n",
      "Train Epoch: 57 [12800/54225 (24%)]\tLoss: 284.745483\n",
      "Train Epoch: 57 [25600/54225 (47%)]\tLoss: 259.014771\n",
      "Train Epoch: 57 [38400/54225 (71%)]\tLoss: 275.342407\n",
      "Train Epoch: 57 [51200/54225 (94%)]\tLoss: 258.523499\n",
      "Train Epoch: 58 [0/54225 (0%)]\tLoss: 248.401077\n",
      "Train Epoch: 58 [12800/54225 (24%)]\tLoss: 256.939575\n",
      "Train Epoch: 58 [25600/54225 (47%)]\tLoss: 296.759705\n",
      "Train Epoch: 58 [38400/54225 (71%)]\tLoss: 271.174835\n",
      "Train Epoch: 58 [51200/54225 (94%)]\tLoss: 277.271820\n",
      "Train Epoch: 59 [0/54225 (0%)]\tLoss: 267.086182\n",
      "Train Epoch: 59 [12800/54225 (24%)]\tLoss: 263.580170\n",
      "Train Epoch: 59 [25600/54225 (47%)]\tLoss: 275.029724\n",
      "Train Epoch: 59 [38400/54225 (71%)]\tLoss: 248.523972\n",
      "Train Epoch: 59 [51200/54225 (94%)]\tLoss: 263.811676\n"
     ]
    }
   ],
   "source": [
    "import torch.autograd as autograd\n",
    "DEVICE = torch.device(\"cuda:0\" if torch.cuda.is_available() else \"cpu\")\n",
    "loss_ep = []\n",
    "losses = []\n",
    "start_time = time.time()\n",
    "EPS = 1e-15\n",
    "one = torch.FloatTensor([1])\n",
    "mone = one * -1\n",
    "one = one.to(DEVICE)\n",
    "mone = mone.to(DEVICE)\n",
    "for epoch in range(epochs_autoen):\n",
    "    for i, (x, y) in enumerate(data_loader_autoen):\n",
    "        x = x.to(DEVICE)\n",
    "        y = y.to(DEVICE)\n",
    "        batch = x.size(0)\n",
    "        \n",
    "        encoder.train()\n",
    "        decoder.train()\n",
    "        disc.train()\n",
    "        \n",
    "        encoder.zero_grad()\n",
    "        decoder.zero_grad()\n",
    "        disc.zero_grad()\n",
    "        \n",
    "        \"\"\" Reconstruction phase \"\"\"\n",
    "        z = encoder(x)\n",
    "        x_hat = decoder(z)\n",
    "        loss = recon_loss(x_hat,x)\n",
    "        loss.backward()\n",
    "        optim_encoder.step()\n",
    "        optim_decoder.step()\n",
    "\n",
    "\n",
    "        \"\"\" Discriminator phase \"\"\"\n",
    "        encoder.zero_grad()\n",
    "        decoder.zero_grad()\n",
    "        disc.zero_grad()\n",
    "        encoder.eval()\n",
    "        \n",
    "        z_real_gauss = autograd.Variable(torch.randn(z.size())*10).to(DEVICE)\n",
    "        z_fake_gauss = encoder(x)\n",
    "        \n",
    "        D_real_gauss, D_fake_gauss = disc(z_real_gauss), disc(z_fake_gauss.detach())\n",
    "        \n",
    "        real_outputs = D_real_gauss.mean(dim=0)\n",
    "        real_outputs.backward(mone)\n",
    "        fake_outputs = D_fake_gauss.mean(dim=0)\n",
    "        fake_outputs.backward(one)\n",
    "        optim_D.step()\n",
    "        \n",
    "        \"\"\" Regularization phase \"\"\"\n",
    "        encoder.zero_grad()\n",
    "        decoder.zero_grad()\n",
    "        disc.zero_grad()\n",
    "\n",
    "        encoder.train()   # Back to use dropout\n",
    "        z = encoder(x)\n",
    "        D_fake_gauss = disc(z)\n",
    "        fake_outputs = D_fake_gauss.mean(dim=0)\n",
    "        fake_outputs.backward(mone)\n",
    "        optim_encoder_reg.step()\n",
    "        \n",
    "        if epoch > 0 and i % 100 == 0:\n",
    "            print('Train Epoch: {} [{}/{} ({:.0f}%)]\\tLoss: {:.6f}'.format(\n",
    "                epoch, i * len(x), len(data_loader_autoen.dataset),\n",
    "                100. * i / len(data_loader_autoen), loss.item()))\n",
    "            \n",
    "        if (i == len(data_loader_autoen) - 1): # per epoch \n",
    "            loss_ep.append(loss.item())\n",
    "        \n",
    "        \n",
    "        losses.append(loss.item())        \n",
    "\n",
    "\n",
    "    if epoch == 0:\n",
    "        print(\"---1 epoch: %s seconds ---\" % (time.time() - start_time))\n",
    "\n",
    "torch.save({'epoch': epoch, 'state_dict': encoder.state_dict(),}, \n",
    "           checkpoint_dir + '/encoder.pth')\n",
    "torch.save({'epoch': epoch, 'state_dict': decoder.state_dict(),}, \n",
    "           checkpoint_dir +'/decoder.pth' )"
   ]
  },
  {
   "cell_type": "code",
   "execution_count": 27,
   "metadata": {},
   "outputs": [
    {
     "data": {
      "text/plain": [
       "Text(0.5, 1.0, 'Autoencoder')"
      ]
     },
     "execution_count": 27,
     "metadata": {},
     "output_type": "execute_result"
    },
    {
     "data": {
      "image/png": "[encoded data removed]",
      "text/plain": [
       "<Figure size 432x288 with 1 Axes>"
      ]
     },
     "metadata": {
      "needs_background": "light"
     },
     "output_type": "display_data"
    }
   ],
   "source": [
    "plt.plot(losses, '.')\n",
    "plt.xlabel('Iterations')\n",
    "plt.ylabel('Loss')\n",
    "plt.title(\"Autoencoder\")"
   ]
  },
  {
   "cell_type": "code",
   "execution_count": 28,
   "metadata": {},
   "outputs": [
    {
     "data": {
      "text/plain": [
       "Text(0.5, 1.0, 'Autoencoder')"
      ]
     },
     "execution_count": 28,
     "metadata": {},
     "output_type": "execute_result"
    },
    {
     "data": {
      "image/png": "[encoded data removed]",
      "text/plain": [
       "<Figure size 432x288 with 1 Axes>"
      ]
     },
     "metadata": {
      "needs_background": "light"
     },
     "output_type": "display_data"
    }
   ],
   "source": [
    "plt.plot([i for i in range(epochs_autoen)],  loss_ep, '.')\n",
    "plt.xlabel('Epochs')\n",
    "plt.ylabel('Loss')\n",
    "plt.title(\"Autoencoder\")"
   ]
  },
  {
   "cell_type": "code",
   "execution_count": 29,
   "metadata": {
    "tags": []
   },
   "outputs": [
    {
     "data": {
      "image/png": "[encoded data removed]",
      "text/plain": [
       "<Figure size 432x288 with 6 Axes>"
      ]
     },
     "metadata": {},
     "output_type": "display_data"
    }
   ],
   "source": [
    "fixed_noise = torch.rand_like(z)\n",
    "# fixed_noise = fixed_noise.view(-1, 28 * 28)\n",
    "with torch.no_grad(): #??\n",
    "    fixed_noisev = fixed_noise.to(DEVICE)\n",
    "\n",
    "plot_results(decoder, fixed_noisev, 128, is_gray = True  )"
   ]
  },
  {
   "cell_type": "code",
   "execution_count": 30,
   "metadata": {},
   "outputs": [
    {
     "data": {
      "text/plain": [
       "torch.Size([81, 1, 28, 28])"
      ]
     },
     "execution_count": 30,
     "metadata": {},
     "output_type": "execute_result"
    }
   ],
   "source": [
    "x.shape"
   ]
  },
  {
   "cell_type": "code",
   "execution_count": 31,
   "metadata": {
    "tags": []
   },
   "outputs": [],
   "source": [
    "def plot_latent(autoencoder, data, num_batches=100):\n",
    "    for i, (x, y) in enumerate(data):\n",
    "        z = autoencoder(x.to(DEVICE))\n",
    "        z = z.cpu().detach().numpy()\n",
    "        plt.scatter(z[:, 0], z[:, 1], c=y, cmap='tab10')\n",
    "        if i > num_batches:\n",
    "            plt.colorbar()\n",
    "            break\n",
    "    plt.title('Encoding results')"
   ]
  },
  {
   "cell_type": "code",
   "execution_count": 32,
   "metadata": {
    "tags": []
   },
   "outputs": [
    {
     "data": {
      "image/png": "[encoded data removed]",
      "text/plain": [
       "<Figure size 432x288 with 2 Axes>"
      ]
     },
     "metadata": {
      "needs_background": "light"
     },
     "output_type": "display_data"
    }
   ],
   "source": [
    "plot_latent(encoder, data_loader_autoen)"
   ]
  },
  {
   "cell_type": "markdown",
   "metadata": {},
   "source": [
    "## 5. Distributions\n",
    "### All samples are used"
   ]
  },
  {
   "cell_type": "code",
   "execution_count": 33,
   "metadata": {},
   "outputs": [],
   "source": [
    "decoder = Decoder(hidden_dim = hidden_size).to(DEVICE)\n",
    "encoder = Encoder(hidden_dim = hidden_size).to(DEVICE)"
   ]
  },
  {
   "cell_type": "code",
   "execution_count": 34,
   "metadata": {},
   "outputs": [
    {
     "data": {
      "text/plain": [
       "<All keys matched successfully>"
      ]
     },
     "execution_count": 34,
     "metadata": {},
     "output_type": "execute_result"
    }
   ],
   "source": [
    "decoder.load_state_dict(torch.load(checkpoint_dir + \"/decoder.pth\")['state_dict'])\n",
    "encoder.load_state_dict(torch.load(checkpoint_dir + \"/encoder.pth\")['state_dict'])"
   ]
  },
  {
   "cell_type": "code",
   "execution_count": 35,
   "metadata": {},
   "outputs": [
    {
     "data": {
      "text/plain": [
       "Decoder(\n",
       "  (model): Sequential(\n",
       "    (0): ConvTranspose2d(256, 128, kernel_size=(4, 4), stride=(1, 1), bias=False)\n",
       "    (1): BatchNorm2d(128, eps=1e-05, momentum=0.1, affine=True, track_running_stats=True)\n",
       "    (2): ReLU(inplace=True)\n",
       "    (3): ConvTranspose2d(128, 64, kernel_size=(3, 3), stride=(2, 2), padding=(1, 1), bias=False)\n",
       "    (4): BatchNorm2d(64, eps=1e-05, momentum=0.1, affine=True, track_running_stats=True)\n",
       "    (5): ReLU(inplace=True)\n",
       "    (6): ConvTranspose2d(64, 32, kernel_size=(4, 4), stride=(2, 2), padding=(1, 1), bias=False)\n",
       "    (7): BatchNorm2d(32, eps=1e-05, momentum=0.1, affine=True, track_running_stats=True)\n",
       "    (8): ReLU(inplace=True)\n",
       "    (9): ConvTranspose2d(32, 1, kernel_size=(4, 4), stride=(2, 2), padding=(1, 1), bias=False)\n",
       "  )\n",
       ")"
      ]
     },
     "execution_count": 35,
     "metadata": {},
     "output_type": "execute_result"
    }
   ],
   "source": [
    "encoder.eval()\n",
    "decoder.eval()"
   ]
  },
  {
   "cell_type": "code",
   "execution_count": 36,
   "metadata": {},
   "outputs": [],
   "source": [
    "# @torchsnooper.snoop()\n",
    "def batch2one(Z, y, z):\n",
    "    for i in range(y.shape[0]):\n",
    "        Z[y[i]] = torch.cat((Z[y[i]], z[i]), dim=0) \n",
    "    return Z\n",
    "\n",
    "# Z[0] contains all z samples with label 0, Z[1] contains all z samples with label and so on"
   ]
  },
  {
   "cell_type": "code",
   "execution_count": 37,
   "metadata": {},
   "outputs": [],
   "source": [
    "def removing_line(array):\n",
    "    A = []\n",
    "    for i in range(len(array)):\n",
    "        tmp = array[i]\n",
    "        tmp = tmp[1:, :]\n",
    "        A.append(tmp)\n",
    "    return A\n",
    "# deletes the first line which consists of zeros "
   ]
  },
  {
   "cell_type": "markdown",
   "metadata": {},
   "source": [
    "## Create distribution from randomly sampled events\n",
    "Сохранение распределений для каждого класса. Из этих распределений будут потом генерироваться вектора в соответствии с классами для подачи на вход генератору."
   ]
  },
  {
   "cell_type": "code",
   "execution_count": 38,
   "metadata": {},
   "outputs": [
    {
     "name": "stdout",
     "output_type": "stream",
     "text": [
      "3rd cycle\n"
     ]
    },
    {
     "name": "stderr",
     "output_type": "stream",
     "text": [
      "C:\\Users\\zaret\\anaconda3\\lib\\site-packages\\ipykernel_launcher.py:27: RuntimeWarning: covariance is not positive-semidefinite.\n"
     ]
    }
   ],
   "source": [
    "Z = []\n",
    "from scipy.stats import multivariate_normal\n",
    "from sklearn.covariance import LedoitWolf\n",
    "with torch.no_grad(): #?\n",
    "    for i in range(class_num):\n",
    "        Z.append(torch.zeros((1, latent_dims), dtype=torch.float).to(DEVICE)) \n",
    "    for i, (x, label) in enumerate(data_loader_autoen):\n",
    "        x = x.to(DEVICE)\n",
    "        z =  encoder(x.to(DEVICE))\n",
    "        z = z.unsqueeze(1)\n",
    "        Z = batch2one(Z, label, z)\n",
    "        \n",
    "    Z = removing_line(Z)\n",
    "\n",
    "    N = []\n",
    "    print('3rd cycle')\n",
    "\n",
    "    for i in range(class_num): #############\n",
    "        label_mean = torch.mean(Z[i][0:], dim=0)\n",
    "        label_cov = torch.from_numpy(np.cov(Z[i][0:].cpu().numpy(), rowvar=False))\n",
    "\n",
    "\n",
    "        label_mean = label_mean.to(DEVICE).float()\n",
    "        label_cov = label_cov.to(DEVICE).float()        \n",
    "        \n",
    "        # regularisation\n",
    "        X = np.random.multivariate_normal(mean=label_mean, cov=label_cov, size=25)\n",
    "        cov = LedoitWolf().fit(X)\n",
    "        \n",
    "        label_mean = torch.tensor(cov.location_).float()\n",
    "        label_cov = torch.tensor(cov.covariance_).float()\n",
    "        \n",
    "        #m = multivariate_normal(label_mean, label_cov)\n",
    "        m = mn.MultivariateNormal(label_mean, label_cov)\n",
    "        \n",
    "        N.append(m)\n",
    "\n",
    "torch.save({'distribution': N}, distribution_dir + '/class_distribution.dt')"
   ]
  },
  {
   "cell_type": "code",
   "execution_count": 39,
   "metadata": {},
   "outputs": [],
   "source": [
    "def plotting(fake, image_size, label,  is_gray=True):\n",
    "    generate_images = fake.cpu().detach().numpy()\n",
    "    for i in range(6):\n",
    "        plt.subplot(2,3,i+1)\n",
    "        plt.tight_layout()\n",
    "        plt.imshow(generate_images[i][0], cmap='gray', interpolation='none')### !!!!!!!\n",
    "        plt.xticks([])\n",
    "        plt.yticks([])\n",
    "        plt.title(label)"
   ]
  },
  {
   "cell_type": "code",
   "execution_count": 40,
   "metadata": {
    "tags": []
   },
   "outputs": [
    {
     "name": "stdout",
     "output_type": "stream",
     "text": [
      "MultivariateNormal(loc: torch.Size([256]), covariance_matrix: torch.Size([256, 256]))\n"
     ]
    },
    {
     "data": {
      "image/png": "[encoded data removed]",
      "text/plain": [
       "<Figure size 432x288 with 6 Axes>"
      ]
     },
     "metadata": {},
     "output_type": "display_data"
    },
    {
     "name": "stdout",
     "output_type": "stream",
     "text": [
      "MultivariateNormal(loc: torch.Size([256]), covariance_matrix: torch.Size([256, 256]))\n"
     ]
    },
    {
     "data": {
      "image/png": "[encoded data removed]",
      "text/plain": [
       "<Figure size 432x288 with 6 Axes>"
      ]
     },
     "metadata": {},
     "output_type": "display_data"
    },
    {
     "name": "stdout",
     "output_type": "stream",
     "text": [
      "MultivariateNormal(loc: torch.Size([256]), covariance_matrix: torch.Size([256, 256]))\n"
     ]
    },
    {
     "data": {
      "image/png": "[encoded data removed]",
      "text/plain": [
       "<Figure size 432x288 with 6 Axes>"
      ]
     },
     "metadata": {},
     "output_type": "display_data"
    },
    {
     "name": "stdout",
     "output_type": "stream",
     "text": [
      "MultivariateNormal(loc: torch.Size([256]), covariance_matrix: torch.Size([256, 256]))\n"
     ]
    },
    {
     "data": {
      "image/png": "[encoded data removed]",
      "text/plain": [
       "<Figure size 432x288 with 6 Axes>"
      ]
     },
     "metadata": {},
     "output_type": "display_data"
    },
    {
     "name": "stdout",
     "output_type": "stream",
     "text": [
      "MultivariateNormal(loc: torch.Size([256]), covariance_matrix: torch.Size([256, 256]))\n"
     ]
    },
    {
     "data": {
      "image/png": "[encoded data removed]",
      "text/plain": [
       "<Figure size 432x288 with 6 Axes>"
      ]
     },
     "metadata": {},
     "output_type": "display_data"
    },
    {
     "name": "stdout",
     "output_type": "stream",
     "text": [
      "MultivariateNormal(loc: torch.Size([256]), covariance_matrix: torch.Size([256, 256]))\n"
     ]
    },
    {
     "data": {
      "image/png": "[encoded data removed]",
      "text/plain": [
       "<Figure size 432x288 with 6 Axes>"
      ]
     },
     "metadata": {},
     "output_type": "display_data"
    },
    {
     "name": "stdout",
     "output_type": "stream",
     "text": [
      "MultivariateNormal(loc: torch.Size([256]), covariance_matrix: torch.Size([256, 256]))\n"
     ]
    },
    {
     "data": {
      "image/png": "[encoded data removed]",
      "text/plain": [
       "<Figure size 432x288 with 6 Axes>"
      ]
     },
     "metadata": {},
     "output_type": "display_data"
    },
    {
     "name": "stdout",
     "output_type": "stream",
     "text": [
      "MultivariateNormal(loc: torch.Size([256]), covariance_matrix: torch.Size([256, 256]))\n"
     ]
    },
    {
     "data": {
      "image/png": "[encoded data removed]",
      "text/plain": [
       "<Figure size 432x288 with 6 Axes>"
      ]
     },
     "metadata": {},
     "output_type": "display_data"
    },
    {
     "name": "stdout",
     "output_type": "stream",
     "text": [
      "MultivariateNormal(loc: torch.Size([256]), covariance_matrix: torch.Size([256, 256]))\n"
     ]
    },
    {
     "data": {
      "image/png": "[encoded data removed]",
      "text/plain": [
       "<Figure size 432x288 with 6 Axes>"
      ]
     },
     "metadata": {},
     "output_type": "display_data"
    },
    {
     "name": "stdout",
     "output_type": "stream",
     "text": [
      "MultivariateNormal(loc: torch.Size([256]), covariance_matrix: torch.Size([256, 256]))\n"
     ]
    },
    {
     "data": {
      "image/png": "[encoded data removed]",
      "text/plain": [
       "<Figure size 432x288 with 6 Axes>"
      ]
     },
     "metadata": {},
     "output_type": "display_data"
    }
   ],
   "source": [
    "for i in range(class_num):\n",
    "    print(N[i])\n",
    "    samples = N[i].sample((6,))\n",
    "    fake = decoder(samples.to(DEVICE))\n",
    "    plotting(fake, 128, i)\n",
    "    plt.show()"
   ]
  },
  {
   "cell_type": "code",
   "execution_count": null,
   "metadata": {},
   "outputs": [],
   "source": [
    "#####"
   ]
  },
  {
   "cell_type": "markdown",
   "metadata": {},
   "source": [
    "## 6. GAN\n",
    "### The reduced dataset is used"
   ]
  },
  {
   "cell_type": "code",
   "execution_count": 41,
   "metadata": {},
   "outputs": [],
   "source": [
    "distribution = torch.load(distribution_dir + '/class_distribution.dt')['distribution']"
   ]
  },
  {
   "cell_type": "code",
   "execution_count": 42,
   "metadata": {},
   "outputs": [],
   "source": [
    "G = Decoder(hidden_dim = hidden_size).to(DEVICE)\n",
    "D = Discriminator(hidden_dim = hidden_size).to(DEVICE)"
   ]
  },
  {
   "cell_type": "code",
   "execution_count": 43,
   "metadata": {},
   "outputs": [
    {
     "data": {
      "text/plain": [
       "<All keys matched successfully>"
      ]
     },
     "execution_count": 43,
     "metadata": {},
     "output_type": "execute_result"
    }
   ],
   "source": [
    "G.load_state_dict(torch.load(checkpoint_dir + \"/decoder.pth\")['state_dict'])"
   ]
  },
  {
   "cell_type": "code",
   "execution_count": 44,
   "metadata": {},
   "outputs": [],
   "source": [
    "state_encoder = torch.load(checkpoint_dir + \"/encoder.pth\")['state_dict']"
   ]
  },
  {
   "cell_type": "code",
   "execution_count": 45,
   "metadata": {},
   "outputs": [
    {
     "data": {
      "text/plain": [
       "odict_keys(['model.0.weight', 'model.2.weight', 'model.3.weight', 'model.3.bias', 'model.3.running_mean', 'model.3.running_var', 'model.3.num_batches_tracked', 'model.5.weight', 'model.6.weight', 'model.6.bias', 'model.6.running_mean', 'model.6.running_var', 'model.6.num_batches_tracked', 'model.8.weight'])"
      ]
     },
     "execution_count": 45,
     "metadata": {},
     "output_type": "execute_result"
    }
   ],
   "source": [
    "state_encoder.keys()"
   ]
  },
  {
   "cell_type": "code",
   "execution_count": 46,
   "metadata": {},
   "outputs": [
    {
     "data": {
      "text/plain": [
       "<All keys matched successfully>"
      ]
     },
     "execution_count": 46,
     "metadata": {},
     "output_type": "execute_result"
    }
   ],
   "source": [
    "D.model.load_state_dict(state_encoder)"
   ]
  },
  {
   "cell_type": "code",
   "execution_count": 47,
   "metadata": {},
   "outputs": [],
   "source": [
    "criterion = nn.CrossEntropyLoss().to(DEVICE) # for softmax\n",
    "\n",
    "optimizerD = torch.optim.Adam(D.parameters(), lr=1e-3, betas=(0.5, 0.999))\n",
    "optimizerG = torch.optim.Adam(G.parameters(), lr=1e-3, betas=(0.5, 0.999))\n",
    "\n"
   ]
  },
  {
   "cell_type": "code",
   "execution_count": 48,
   "metadata": {},
   "outputs": [
    {
     "data": {
      "text/plain": [
       "Decoder(\n",
       "  (model): Sequential(\n",
       "    (0): ConvTranspose2d(256, 128, kernel_size=(4, 4), stride=(1, 1), bias=False)\n",
       "    (1): BatchNorm2d(128, eps=1e-05, momentum=0.1, affine=True, track_running_stats=True)\n",
       "    (2): ReLU(inplace=True)\n",
       "    (3): ConvTranspose2d(128, 64, kernel_size=(3, 3), stride=(2, 2), padding=(1, 1), bias=False)\n",
       "    (4): BatchNorm2d(64, eps=1e-05, momentum=0.1, affine=True, track_running_stats=True)\n",
       "    (5): ReLU(inplace=True)\n",
       "    (6): ConvTranspose2d(64, 32, kernel_size=(4, 4), stride=(2, 2), padding=(1, 1), bias=False)\n",
       "    (7): BatchNorm2d(32, eps=1e-05, momentum=0.1, affine=True, track_running_stats=True)\n",
       "    (8): ReLU(inplace=True)\n",
       "    (9): ConvTranspose2d(32, 1, kernel_size=(4, 4), stride=(2, 2), padding=(1, 1), bias=False)\n",
       "  )\n",
       ")"
      ]
     },
     "execution_count": 48,
     "metadata": {},
     "output_type": "execute_result"
    }
   ],
   "source": [
    "D.train()\n",
    "G.train()\n"
   ]
  },
  {
   "cell_type": "code",
   "execution_count": 49,
   "metadata": {},
   "outputs": [],
   "source": [
    "real_label = torch.LongTensor(batch_size)\n",
    "fake_label = torch.LongTensor(batch_size)"
   ]
  },
  {
   "cell_type": "code",
   "execution_count": 50,
   "metadata": {},
   "outputs": [],
   "source": [
    "fixed_noise = torch.FloatTensor(batch_size, 2).normal_(0, 1) \n",
    "with torch.no_grad(): #??\n",
    "    fixed_noisev = fixed_noise"
   ]
  },
  {
   "cell_type": "code",
   "execution_count": 51,
   "metadata": {},
   "outputs": [],
   "source": [
    "## Генерация псевдослучайного вектора из latent-пространства \n",
    "## с использованием распределений для конкретных классов\n",
    "\n",
    "def conditional_latent_generator(distribution, class_num, batch):\n",
    "    class_labels = torch.randint(0, class_num, (batch,), dtype=torch.long)\n",
    "    fake_z = distribution[class_labels[0].item()].sample((1,))\n",
    "    for c in class_labels[1:]:\n",
    "        fake_z = torch.cat((fake_z, distribution[c.item()].sample((1,))), dim=0)\n",
    "    return fake_z, class_labels"
   ]
  },
  {
   "cell_type": "code",
   "execution_count": 56,
   "metadata": {},
   "outputs": [
    {
     "name": "stdout",
     "output_type": "stream",
     "text": [
      "tensor([3, 6, 5, 8, 5, 4])\n"
     ]
    },
    {
     "data": {
      "image/png": "[encoded data removed]",
      "text/plain": [
       "<Figure size 432x288 with 6 Axes>"
      ]
     },
     "metadata": {},
     "output_type": "display_data"
    }
   ],
   "source": [
    "###################################\n",
    "#Проверка работы:\n",
    "decoder = Decoder(hidden_dim = hidden_size).to(DEVICE)\n",
    "decoder.load_state_dict(torch.load(checkpoint_dir + \"/decoder.pth\")['state_dict'])\n",
    "\n",
    "conditional_z, z_label = conditional_latent_generator(\n",
    "    distribution, class_num, batch_size\n",
    ")\n",
    "\n",
    "plot_results(decoder, conditional_z.float(), 128, is_gray = True  )\n",
    "print(z_label[:6])\n",
    "\n",
    "\n",
    "###################################"
   ]
  },
  {
   "cell_type": "code",
   "execution_count": 57,
   "metadata": {
    "scrolled": true,
    "tags": []
   },
   "outputs": [
    {
     "name": "stdout",
     "output_type": "stream",
     "text": [
      "---1 epoch: 61.55221080780029 seconds ---\n",
      "Train Epoch: 1 [0/54225 (0%)]\tLoss_G: 3.137698\n",
      "Train Epoch: 1 [0/54225 (0%)]\tLoss_D: 0.875411\n",
      "Train Epoch: 1 [12800/54225 (24%)]\tLoss_G: 2.128482\n",
      "Train Epoch: 1 [12800/54225 (24%)]\tLoss_D: 0.643521\n",
      "Train Epoch: 1 [25600/54225 (47%)]\tLoss_G: 2.086428\n",
      "Train Epoch: 1 [25600/54225 (47%)]\tLoss_D: 3.008005\n",
      "Train Epoch: 1 [38400/54225 (71%)]\tLoss_G: 4.754034\n",
      "Train Epoch: 1 [38400/54225 (71%)]\tLoss_D: 0.830129\n",
      "Train Epoch: 1 [51200/54225 (94%)]\tLoss_G: 5.528251\n",
      "Train Epoch: 1 [51200/54225 (94%)]\tLoss_D: 0.854630\n",
      "Train Epoch: 2 [0/54225 (0%)]\tLoss_G: 5.550138\n",
      "Train Epoch: 2 [0/54225 (0%)]\tLoss_D: 0.561960\n",
      "Train Epoch: 2 [12800/54225 (24%)]\tLoss_G: 2.720950\n",
      "Train Epoch: 2 [12800/54225 (24%)]\tLoss_D: 0.265406\n",
      "Train Epoch: 2 [25600/54225 (47%)]\tLoss_G: 2.944289\n",
      "Train Epoch: 2 [25600/54225 (47%)]\tLoss_D: 0.474253\n",
      "Train Epoch: 2 [38400/54225 (71%)]\tLoss_G: 2.858160\n",
      "Train Epoch: 2 [38400/54225 (71%)]\tLoss_D: 0.635498\n",
      "Train Epoch: 2 [51200/54225 (94%)]\tLoss_G: 3.221239\n",
      "Train Epoch: 2 [51200/54225 (94%)]\tLoss_D: 0.507497\n",
      "Train Epoch: 3 [0/54225 (0%)]\tLoss_G: 1.504787\n",
      "Train Epoch: 3 [0/54225 (0%)]\tLoss_D: 0.515212\n",
      "Train Epoch: 3 [12800/54225 (24%)]\tLoss_G: 4.250242\n",
      "Train Epoch: 3 [12800/54225 (24%)]\tLoss_D: 0.358742\n",
      "Train Epoch: 3 [25600/54225 (47%)]\tLoss_G: 2.750985\n",
      "Train Epoch: 3 [25600/54225 (47%)]\tLoss_D: 0.631788\n",
      "Train Epoch: 3 [38400/54225 (71%)]\tLoss_G: 2.802662\n",
      "Train Epoch: 3 [38400/54225 (71%)]\tLoss_D: 0.537030\n",
      "Train Epoch: 3 [51200/54225 (94%)]\tLoss_G: 5.332685\n",
      "Train Epoch: 3 [51200/54225 (94%)]\tLoss_D: 0.846861\n",
      "Train Epoch: 4 [0/54225 (0%)]\tLoss_G: 3.177069\n",
      "Train Epoch: 4 [0/54225 (0%)]\tLoss_D: 1.019259\n",
      "Train Epoch: 4 [12800/54225 (24%)]\tLoss_G: 3.965169\n",
      "Train Epoch: 4 [12800/54225 (24%)]\tLoss_D: 0.126195\n",
      "Train Epoch: 4 [25600/54225 (47%)]\tLoss_G: 4.631946\n",
      "Train Epoch: 4 [25600/54225 (47%)]\tLoss_D: 0.204931\n",
      "Train Epoch: 4 [38400/54225 (71%)]\tLoss_G: 4.338717\n",
      "Train Epoch: 4 [38400/54225 (71%)]\tLoss_D: 0.246218\n",
      "Train Epoch: 4 [51200/54225 (94%)]\tLoss_G: 9.811114\n",
      "Train Epoch: 4 [51200/54225 (94%)]\tLoss_D: 0.446895\n",
      "Train Epoch: 5 [0/54225 (0%)]\tLoss_G: 3.554246\n",
      "Train Epoch: 5 [0/54225 (0%)]\tLoss_D: 2.143625\n",
      "Train Epoch: 5 [12800/54225 (24%)]\tLoss_G: 3.167348\n",
      "Train Epoch: 5 [12800/54225 (24%)]\tLoss_D: 0.364775\n",
      "Train Epoch: 5 [25600/54225 (47%)]\tLoss_G: 4.042071\n",
      "Train Epoch: 5 [25600/54225 (47%)]\tLoss_D: 0.316007\n",
      "Train Epoch: 5 [38400/54225 (71%)]\tLoss_G: 6.814903\n",
      "Train Epoch: 5 [38400/54225 (71%)]\tLoss_D: 1.083871\n",
      "Train Epoch: 5 [51200/54225 (94%)]\tLoss_G: 5.818880\n",
      "Train Epoch: 5 [51200/54225 (94%)]\tLoss_D: 0.175599\n",
      "Train Epoch: 6 [0/54225 (0%)]\tLoss_G: 4.199818\n",
      "Train Epoch: 6 [0/54225 (0%)]\tLoss_D: 0.076509\n",
      "Train Epoch: 6 [12800/54225 (24%)]\tLoss_G: 3.806586\n",
      "Train Epoch: 6 [12800/54225 (24%)]\tLoss_D: 0.335829\n",
      "Train Epoch: 6 [25600/54225 (47%)]\tLoss_G: 5.881776\n",
      "Train Epoch: 6 [25600/54225 (47%)]\tLoss_D: 1.045043\n",
      "Train Epoch: 6 [38400/54225 (71%)]\tLoss_G: 5.687209\n",
      "Train Epoch: 6 [38400/54225 (71%)]\tLoss_D: 0.180867\n",
      "Train Epoch: 6 [51200/54225 (94%)]\tLoss_G: 6.783248\n",
      "Train Epoch: 6 [51200/54225 (94%)]\tLoss_D: 0.173715\n",
      "Train Epoch: 7 [0/54225 (0%)]\tLoss_G: 6.816444\n",
      "Train Epoch: 7 [0/54225 (0%)]\tLoss_D: 0.200416\n",
      "Train Epoch: 7 [12800/54225 (24%)]\tLoss_G: 2.408950\n",
      "Train Epoch: 7 [12800/54225 (24%)]\tLoss_D: 0.253361\n",
      "Train Epoch: 7 [25600/54225 (47%)]\tLoss_G: 4.846513\n",
      "Train Epoch: 7 [25600/54225 (47%)]\tLoss_D: 0.177957\n",
      "Train Epoch: 7 [38400/54225 (71%)]\tLoss_G: 3.773934\n",
      "Train Epoch: 7 [38400/54225 (71%)]\tLoss_D: 0.160173\n",
      "Train Epoch: 7 [51200/54225 (94%)]\tLoss_G: 7.232541\n",
      "Train Epoch: 7 [51200/54225 (94%)]\tLoss_D: 0.121013\n",
      "Train Epoch: 8 [0/54225 (0%)]\tLoss_G: 8.998907\n",
      "Train Epoch: 8 [0/54225 (0%)]\tLoss_D: 0.322539\n",
      "Train Epoch: 8 [12800/54225 (24%)]\tLoss_G: 2.909946\n",
      "Train Epoch: 8 [12800/54225 (24%)]\tLoss_D: 0.792863\n",
      "Train Epoch: 8 [25600/54225 (47%)]\tLoss_G: 5.140904\n",
      "Train Epoch: 8 [25600/54225 (47%)]\tLoss_D: 0.340100\n",
      "Train Epoch: 8 [38400/54225 (71%)]\tLoss_G: 0.510587\n",
      "Train Epoch: 8 [38400/54225 (71%)]\tLoss_D: 3.111364\n",
      "Train Epoch: 8 [51200/54225 (94%)]\tLoss_G: 5.586649\n",
      "Train Epoch: 8 [51200/54225 (94%)]\tLoss_D: 0.347041\n",
      "Train Epoch: 9 [0/54225 (0%)]\tLoss_G: 6.188793\n",
      "Train Epoch: 9 [0/54225 (0%)]\tLoss_D: 0.424080\n",
      "Train Epoch: 9 [12800/54225 (24%)]\tLoss_G: 7.472069\n",
      "Train Epoch: 9 [12800/54225 (24%)]\tLoss_D: 0.140919\n",
      "Train Epoch: 9 [25600/54225 (47%)]\tLoss_G: 5.966690\n",
      "Train Epoch: 9 [25600/54225 (47%)]\tLoss_D: 0.185237\n",
      "Train Epoch: 9 [38400/54225 (71%)]\tLoss_G: 4.364270\n",
      "Train Epoch: 9 [38400/54225 (71%)]\tLoss_D: 0.313307\n",
      "Train Epoch: 9 [51200/54225 (94%)]\tLoss_G: 5.917428\n",
      "Train Epoch: 9 [51200/54225 (94%)]\tLoss_D: 1.117002\n",
      "Train Epoch: 10 [0/54225 (0%)]\tLoss_G: 5.313799\n",
      "Train Epoch: 10 [0/54225 (0%)]\tLoss_D: 0.330763\n",
      "Train Epoch: 10 [12800/54225 (24%)]\tLoss_G: 5.459501\n",
      "Train Epoch: 10 [12800/54225 (24%)]\tLoss_D: 0.255660\n",
      "Train Epoch: 10 [25600/54225 (47%)]\tLoss_G: 4.198534\n",
      "Train Epoch: 10 [25600/54225 (47%)]\tLoss_D: 0.713781\n",
      "Train Epoch: 10 [38400/54225 (71%)]\tLoss_G: 9.035277\n",
      "Train Epoch: 10 [38400/54225 (71%)]\tLoss_D: 1.991127\n",
      "Train Epoch: 10 [51200/54225 (94%)]\tLoss_G: 5.924477\n",
      "Train Epoch: 10 [51200/54225 (94%)]\tLoss_D: 0.307119\n",
      "Train Epoch: 11 [0/54225 (0%)]\tLoss_G: 3.219781\n",
      "Train Epoch: 11 [0/54225 (0%)]\tLoss_D: 0.143365\n",
      "Train Epoch: 11 [12800/54225 (24%)]\tLoss_G: 2.953698\n",
      "Train Epoch: 11 [12800/54225 (24%)]\tLoss_D: 0.447204\n",
      "Train Epoch: 11 [25600/54225 (47%)]\tLoss_G: 3.422954\n",
      "Train Epoch: 11 [25600/54225 (47%)]\tLoss_D: 0.049313\n",
      "Train Epoch: 11 [38400/54225 (71%)]\tLoss_G: 6.962453\n",
      "Train Epoch: 11 [38400/54225 (71%)]\tLoss_D: 0.140894\n",
      "Train Epoch: 11 [51200/54225 (94%)]\tLoss_G: 2.916346\n",
      "Train Epoch: 11 [51200/54225 (94%)]\tLoss_D: 0.187756\n",
      "Train Epoch: 12 [0/54225 (0%)]\tLoss_G: 5.487347\n",
      "Train Epoch: 12 [0/54225 (0%)]\tLoss_D: 0.054246\n",
      "Train Epoch: 12 [12800/54225 (24%)]\tLoss_G: 7.613535\n",
      "Train Epoch: 12 [12800/54225 (24%)]\tLoss_D: 0.015955\n",
      "Train Epoch: 12 [25600/54225 (47%)]\tLoss_G: 6.388904\n",
      "Train Epoch: 12 [25600/54225 (47%)]\tLoss_D: 0.512461\n",
      "Train Epoch: 12 [38400/54225 (71%)]\tLoss_G: 3.564011\n",
      "Train Epoch: 12 [38400/54225 (71%)]\tLoss_D: 0.177874\n",
      "Train Epoch: 12 [51200/54225 (94%)]\tLoss_G: 4.583753\n",
      "Train Epoch: 12 [51200/54225 (94%)]\tLoss_D: 0.860364\n",
      "Train Epoch: 13 [0/54225 (0%)]\tLoss_G: 5.687408\n",
      "Train Epoch: 13 [0/54225 (0%)]\tLoss_D: 0.356618\n",
      "Train Epoch: 13 [12800/54225 (24%)]\tLoss_G: 3.559636\n",
      "Train Epoch: 13 [12800/54225 (24%)]\tLoss_D: 0.175641\n",
      "Train Epoch: 13 [25600/54225 (47%)]\tLoss_G: 2.896482\n",
      "Train Epoch: 13 [25600/54225 (47%)]\tLoss_D: 0.287763\n",
      "Train Epoch: 13 [38400/54225 (71%)]\tLoss_G: 2.742270\n",
      "Train Epoch: 13 [38400/54225 (71%)]\tLoss_D: 0.098881\n",
      "Train Epoch: 13 [51200/54225 (94%)]\tLoss_G: 2.994835\n",
      "Train Epoch: 13 [51200/54225 (94%)]\tLoss_D: 0.183807\n",
      "Train Epoch: 14 [0/54225 (0%)]\tLoss_G: 4.496890\n",
      "Train Epoch: 14 [0/54225 (0%)]\tLoss_D: 0.256310\n",
      "Train Epoch: 14 [12800/54225 (24%)]\tLoss_G: 3.813565\n",
      "Train Epoch: 14 [12800/54225 (24%)]\tLoss_D: 0.427083\n",
      "Train Epoch: 14 [25600/54225 (47%)]\tLoss_G: 2.622362\n",
      "Train Epoch: 14 [25600/54225 (47%)]\tLoss_D: 0.263393\n",
      "Train Epoch: 14 [38400/54225 (71%)]\tLoss_G: 2.660182\n",
      "Train Epoch: 14 [38400/54225 (71%)]\tLoss_D: 0.150107\n",
      "Train Epoch: 14 [51200/54225 (94%)]\tLoss_G: 5.130920\n",
      "Train Epoch: 14 [51200/54225 (94%)]\tLoss_D: 0.683121\n",
      "Train Epoch: 15 [0/54225 (0%)]\tLoss_G: 2.340032\n",
      "Train Epoch: 15 [0/54225 (0%)]\tLoss_D: 0.462728\n",
      "Train Epoch: 15 [12800/54225 (24%)]\tLoss_G: 8.701998\n",
      "Train Epoch: 15 [12800/54225 (24%)]\tLoss_D: 0.135214\n",
      "Train Epoch: 15 [25600/54225 (47%)]\tLoss_G: 3.366757\n",
      "Train Epoch: 15 [25600/54225 (47%)]\tLoss_D: 0.379716\n",
      "Train Epoch: 15 [38400/54225 (71%)]\tLoss_G: 5.457482\n",
      "Train Epoch: 15 [38400/54225 (71%)]\tLoss_D: 0.930575\n",
      "Train Epoch: 15 [51200/54225 (94%)]\tLoss_G: 2.675604\n",
      "Train Epoch: 15 [51200/54225 (94%)]\tLoss_D: 0.131097\n",
      "Train Epoch: 16 [0/54225 (0%)]\tLoss_G: 4.319151\n",
      "Train Epoch: 16 [0/54225 (0%)]\tLoss_D: 0.138771\n",
      "Train Epoch: 16 [12800/54225 (24%)]\tLoss_G: 5.802909\n",
      "Train Epoch: 16 [12800/54225 (24%)]\tLoss_D: 0.072941\n",
      "Train Epoch: 16 [25600/54225 (47%)]\tLoss_G: 4.571721\n",
      "Train Epoch: 16 [25600/54225 (47%)]\tLoss_D: 0.339251\n",
      "Train Epoch: 16 [38400/54225 (71%)]\tLoss_G: 6.163267\n",
      "Train Epoch: 16 [38400/54225 (71%)]\tLoss_D: 0.223750\n",
      "Train Epoch: 16 [51200/54225 (94%)]\tLoss_G: 8.160181\n",
      "Train Epoch: 16 [51200/54225 (94%)]\tLoss_D: 0.060084\n"
     ]
    },
    {
     "name": "stdout",
     "output_type": "stream",
     "text": [
      "Train Epoch: 17 [0/54225 (0%)]\tLoss_G: 3.305324\n",
      "Train Epoch: 17 [0/54225 (0%)]\tLoss_D: 0.776793\n",
      "Train Epoch: 17 [12800/54225 (24%)]\tLoss_G: 2.257124\n",
      "Train Epoch: 17 [12800/54225 (24%)]\tLoss_D: 0.528361\n",
      "Train Epoch: 17 [25600/54225 (47%)]\tLoss_G: 2.241587\n",
      "Train Epoch: 17 [25600/54225 (47%)]\tLoss_D: 0.286451\n",
      "Train Epoch: 17 [38400/54225 (71%)]\tLoss_G: 5.344828\n",
      "Train Epoch: 17 [38400/54225 (71%)]\tLoss_D: 0.178629\n",
      "Train Epoch: 17 [51200/54225 (94%)]\tLoss_G: 7.025807\n",
      "Train Epoch: 17 [51200/54225 (94%)]\tLoss_D: 0.074575\n",
      "Train Epoch: 18 [0/54225 (0%)]\tLoss_G: 3.529292\n",
      "Train Epoch: 18 [0/54225 (0%)]\tLoss_D: 0.284685\n",
      "Train Epoch: 18 [12800/54225 (24%)]\tLoss_G: 5.494348\n",
      "Train Epoch: 18 [12800/54225 (24%)]\tLoss_D: 0.282166\n",
      "Train Epoch: 18 [25600/54225 (47%)]\tLoss_G: 4.993096\n",
      "Train Epoch: 18 [25600/54225 (47%)]\tLoss_D: 0.164947\n",
      "Train Epoch: 18 [38400/54225 (71%)]\tLoss_G: 4.875153\n",
      "Train Epoch: 18 [38400/54225 (71%)]\tLoss_D: 0.085921\n",
      "Train Epoch: 18 [51200/54225 (94%)]\tLoss_G: 7.686086\n",
      "Train Epoch: 18 [51200/54225 (94%)]\tLoss_D: 0.163320\n",
      "Train Epoch: 19 [0/54225 (0%)]\tLoss_G: 5.061652\n",
      "Train Epoch: 19 [0/54225 (0%)]\tLoss_D: 0.276094\n",
      "Train Epoch: 19 [12800/54225 (24%)]\tLoss_G: 2.446680\n",
      "Train Epoch: 19 [12800/54225 (24%)]\tLoss_D: 0.710923\n",
      "Train Epoch: 19 [25600/54225 (47%)]\tLoss_G: 2.449446\n",
      "Train Epoch: 19 [25600/54225 (47%)]\tLoss_D: 0.506126\n",
      "Train Epoch: 19 [38400/54225 (71%)]\tLoss_G: 4.541760\n",
      "Train Epoch: 19 [38400/54225 (71%)]\tLoss_D: 0.437802\n",
      "Train Epoch: 19 [51200/54225 (94%)]\tLoss_G: 2.602491\n",
      "Train Epoch: 19 [51200/54225 (94%)]\tLoss_D: 0.604278\n",
      "Train Epoch: 20 [0/54225 (0%)]\tLoss_G: 5.131638\n",
      "Train Epoch: 20 [0/54225 (0%)]\tLoss_D: 0.078353\n",
      "Train Epoch: 20 [12800/54225 (24%)]\tLoss_G: 5.447201\n",
      "Train Epoch: 20 [12800/54225 (24%)]\tLoss_D: 0.060690\n",
      "Train Epoch: 20 [25600/54225 (47%)]\tLoss_G: 2.717874\n",
      "Train Epoch: 20 [25600/54225 (47%)]\tLoss_D: 0.076474\n",
      "Train Epoch: 20 [38400/54225 (71%)]\tLoss_G: 4.685344\n",
      "Train Epoch: 20 [38400/54225 (71%)]\tLoss_D: 0.332583\n",
      "Train Epoch: 20 [51200/54225 (94%)]\tLoss_G: 5.449196\n",
      "Train Epoch: 20 [51200/54225 (94%)]\tLoss_D: 0.099613\n",
      "Train Epoch: 21 [0/54225 (0%)]\tLoss_G: 0.332798\n",
      "Train Epoch: 21 [0/54225 (0%)]\tLoss_D: 1.087187\n",
      "Train Epoch: 21 [12800/54225 (24%)]\tLoss_G: 4.077559\n",
      "Train Epoch: 21 [12800/54225 (24%)]\tLoss_D: 0.435547\n",
      "Train Epoch: 21 [25600/54225 (47%)]\tLoss_G: 8.985512\n",
      "Train Epoch: 21 [25600/54225 (47%)]\tLoss_D: 0.668232\n",
      "Train Epoch: 21 [38400/54225 (71%)]\tLoss_G: 5.626003\n",
      "Train Epoch: 21 [38400/54225 (71%)]\tLoss_D: 0.165351\n",
      "Train Epoch: 21 [51200/54225 (94%)]\tLoss_G: 3.863575\n",
      "Train Epoch: 21 [51200/54225 (94%)]\tLoss_D: 0.224034\n",
      "Train Epoch: 22 [0/54225 (0%)]\tLoss_G: 4.552381\n",
      "Train Epoch: 22 [0/54225 (0%)]\tLoss_D: 0.332033\n",
      "Train Epoch: 22 [12800/54225 (24%)]\tLoss_G: 4.228924\n",
      "Train Epoch: 22 [12800/54225 (24%)]\tLoss_D: 0.065412\n",
      "Train Epoch: 22 [25600/54225 (47%)]\tLoss_G: 5.310698\n",
      "Train Epoch: 22 [25600/54225 (47%)]\tLoss_D: 0.116598\n",
      "Train Epoch: 22 [38400/54225 (71%)]\tLoss_G: 3.040481\n",
      "Train Epoch: 22 [38400/54225 (71%)]\tLoss_D: 0.245368\n",
      "Train Epoch: 22 [51200/54225 (94%)]\tLoss_G: 2.613356\n",
      "Train Epoch: 22 [51200/54225 (94%)]\tLoss_D: 0.230536\n",
      "Train Epoch: 23 [0/54225 (0%)]\tLoss_G: 3.078756\n",
      "Train Epoch: 23 [0/54225 (0%)]\tLoss_D: 0.535255\n",
      "Train Epoch: 23 [12800/54225 (24%)]\tLoss_G: 8.202457\n",
      "Train Epoch: 23 [12800/54225 (24%)]\tLoss_D: 0.049182\n",
      "Train Epoch: 23 [25600/54225 (47%)]\tLoss_G: 4.682663\n",
      "Train Epoch: 23 [25600/54225 (47%)]\tLoss_D: 0.309612\n",
      "Train Epoch: 23 [38400/54225 (71%)]\tLoss_G: 2.216976\n",
      "Train Epoch: 23 [38400/54225 (71%)]\tLoss_D: 2.287062\n",
      "Train Epoch: 23 [51200/54225 (94%)]\tLoss_G: 2.602162\n",
      "Train Epoch: 23 [51200/54225 (94%)]\tLoss_D: 0.174276\n",
      "Train Epoch: 24 [0/54225 (0%)]\tLoss_G: 4.019429\n",
      "Train Epoch: 24 [0/54225 (0%)]\tLoss_D: 0.284452\n",
      "Train Epoch: 24 [12800/54225 (24%)]\tLoss_G: 2.878454\n",
      "Train Epoch: 24 [12800/54225 (24%)]\tLoss_D: 0.135900\n",
      "Train Epoch: 24 [25600/54225 (47%)]\tLoss_G: 4.852632\n",
      "Train Epoch: 24 [25600/54225 (47%)]\tLoss_D: 1.257835\n",
      "Train Epoch: 24 [38400/54225 (71%)]\tLoss_G: 6.994610\n",
      "Train Epoch: 24 [38400/54225 (71%)]\tLoss_D: 0.304922\n",
      "Train Epoch: 24 [51200/54225 (94%)]\tLoss_G: 2.727068\n",
      "Train Epoch: 24 [51200/54225 (94%)]\tLoss_D: 0.386863\n",
      "Train Epoch: 25 [0/54225 (0%)]\tLoss_G: 4.257269\n",
      "Train Epoch: 25 [0/54225 (0%)]\tLoss_D: 0.258949\n",
      "Train Epoch: 25 [12800/54225 (24%)]\tLoss_G: 6.774796\n",
      "Train Epoch: 25 [12800/54225 (24%)]\tLoss_D: 0.041340\n",
      "Train Epoch: 25 [25600/54225 (47%)]\tLoss_G: 3.940929\n",
      "Train Epoch: 25 [25600/54225 (47%)]\tLoss_D: 0.866357\n",
      "Train Epoch: 25 [38400/54225 (71%)]\tLoss_G: 2.399644\n",
      "Train Epoch: 25 [38400/54225 (71%)]\tLoss_D: 0.155552\n",
      "Train Epoch: 25 [51200/54225 (94%)]\tLoss_G: 1.958156\n",
      "Train Epoch: 25 [51200/54225 (94%)]\tLoss_D: 0.223021\n",
      "Train Epoch: 26 [0/54225 (0%)]\tLoss_G: 3.376981\n",
      "Train Epoch: 26 [0/54225 (0%)]\tLoss_D: 0.487471\n",
      "Train Epoch: 26 [12800/54225 (24%)]\tLoss_G: 3.162256\n",
      "Train Epoch: 26 [12800/54225 (24%)]\tLoss_D: 0.058609\n",
      "Train Epoch: 26 [25600/54225 (47%)]\tLoss_G: 6.433875\n",
      "Train Epoch: 26 [25600/54225 (47%)]\tLoss_D: 0.100718\n",
      "Train Epoch: 26 [38400/54225 (71%)]\tLoss_G: 0.741549\n",
      "Train Epoch: 26 [38400/54225 (71%)]\tLoss_D: 4.930319\n",
      "Train Epoch: 26 [51200/54225 (94%)]\tLoss_G: 4.412015\n",
      "Train Epoch: 26 [51200/54225 (94%)]\tLoss_D: 0.133458\n",
      "Train Epoch: 27 [0/54225 (0%)]\tLoss_G: 1.855203\n",
      "Train Epoch: 27 [0/54225 (0%)]\tLoss_D: 0.185245\n",
      "Train Epoch: 27 [12800/54225 (24%)]\tLoss_G: 9.799027\n",
      "Train Epoch: 27 [12800/54225 (24%)]\tLoss_D: 0.009341\n",
      "Train Epoch: 27 [25600/54225 (47%)]\tLoss_G: 2.067076\n",
      "Train Epoch: 27 [25600/54225 (47%)]\tLoss_D: 0.221585\n",
      "Train Epoch: 27 [38400/54225 (71%)]\tLoss_G: 2.776369\n",
      "Train Epoch: 27 [38400/54225 (71%)]\tLoss_D: 0.050886\n",
      "Train Epoch: 27 [51200/54225 (94%)]\tLoss_G: 7.494243\n",
      "Train Epoch: 27 [51200/54225 (94%)]\tLoss_D: 0.285014\n",
      "Train Epoch: 28 [0/54225 (0%)]\tLoss_G: 5.402050\n",
      "Train Epoch: 28 [0/54225 (0%)]\tLoss_D: 0.058483\n",
      "Train Epoch: 28 [12800/54225 (24%)]\tLoss_G: 3.662405\n",
      "Train Epoch: 28 [12800/54225 (24%)]\tLoss_D: 0.126613\n",
      "Train Epoch: 28 [25600/54225 (47%)]\tLoss_G: 8.399283\n",
      "Train Epoch: 28 [25600/54225 (47%)]\tLoss_D: 0.050034\n",
      "Train Epoch: 28 [38400/54225 (71%)]\tLoss_G: 5.496263\n",
      "Train Epoch: 28 [38400/54225 (71%)]\tLoss_D: 0.024720\n",
      "Train Epoch: 28 [51200/54225 (94%)]\tLoss_G: 5.689503\n",
      "Train Epoch: 28 [51200/54225 (94%)]\tLoss_D: 0.098110\n",
      "Train Epoch: 29 [0/54225 (0%)]\tLoss_G: 6.620790\n",
      "Train Epoch: 29 [0/54225 (0%)]\tLoss_D: 0.036118\n",
      "Train Epoch: 29 [12800/54225 (24%)]\tLoss_G: 3.949616\n",
      "Train Epoch: 29 [12800/54225 (24%)]\tLoss_D: 0.165188\n",
      "Train Epoch: 29 [25600/54225 (47%)]\tLoss_G: 3.696775\n",
      "Train Epoch: 29 [25600/54225 (47%)]\tLoss_D: 0.639434\n",
      "Train Epoch: 29 [38400/54225 (71%)]\tLoss_G: 9.770552\n",
      "Train Epoch: 29 [38400/54225 (71%)]\tLoss_D: 0.051884\n",
      "Train Epoch: 29 [51200/54225 (94%)]\tLoss_G: 4.274198\n",
      "Train Epoch: 29 [51200/54225 (94%)]\tLoss_D: 0.413807\n",
      "Train Epoch: 30 [0/54225 (0%)]\tLoss_G: 3.697589\n",
      "Train Epoch: 30 [0/54225 (0%)]\tLoss_D: 0.394364\n",
      "Train Epoch: 30 [12800/54225 (24%)]\tLoss_G: 2.337115\n",
      "Train Epoch: 30 [12800/54225 (24%)]\tLoss_D: 0.138622\n",
      "Train Epoch: 30 [25600/54225 (47%)]\tLoss_G: 9.025015\n",
      "Train Epoch: 30 [25600/54225 (47%)]\tLoss_D: 0.099004\n",
      "Train Epoch: 30 [38400/54225 (71%)]\tLoss_G: 2.656049\n",
      "Train Epoch: 30 [38400/54225 (71%)]\tLoss_D: 0.057796\n",
      "Train Epoch: 30 [51200/54225 (94%)]\tLoss_G: 5.126884\n",
      "Train Epoch: 30 [51200/54225 (94%)]\tLoss_D: 0.222289\n",
      "Train Epoch: 31 [0/54225 (0%)]\tLoss_G: 2.936940\n",
      "Train Epoch: 31 [0/54225 (0%)]\tLoss_D: 0.178444\n",
      "Train Epoch: 31 [12800/54225 (24%)]\tLoss_G: 5.839668\n",
      "Train Epoch: 31 [12800/54225 (24%)]\tLoss_D: 1.084560\n",
      "Train Epoch: 31 [25600/54225 (47%)]\tLoss_G: 2.635538\n",
      "Train Epoch: 31 [25600/54225 (47%)]\tLoss_D: 0.246490\n",
      "Train Epoch: 31 [38400/54225 (71%)]\tLoss_G: 4.058221\n",
      "Train Epoch: 31 [38400/54225 (71%)]\tLoss_D: 0.044078\n",
      "Train Epoch: 31 [51200/54225 (94%)]\tLoss_G: 6.574611\n",
      "Train Epoch: 31 [51200/54225 (94%)]\tLoss_D: 0.207453\n",
      "Train Epoch: 32 [0/54225 (0%)]\tLoss_G: 1.576969\n",
      "Train Epoch: 32 [0/54225 (0%)]\tLoss_D: 1.994100\n",
      "Train Epoch: 32 [12800/54225 (24%)]\tLoss_G: 4.191200\n",
      "Train Epoch: 32 [12800/54225 (24%)]\tLoss_D: 0.356664\n",
      "Train Epoch: 32 [25600/54225 (47%)]\tLoss_G: 2.220150\n",
      "Train Epoch: 32 [25600/54225 (47%)]\tLoss_D: 0.143024\n",
      "Train Epoch: 32 [38400/54225 (71%)]\tLoss_G: 3.644366\n",
      "Train Epoch: 32 [38400/54225 (71%)]\tLoss_D: 0.067411\n"
     ]
    },
    {
     "name": "stdout",
     "output_type": "stream",
     "text": [
      "Train Epoch: 32 [51200/54225 (94%)]\tLoss_G: 4.017696\n",
      "Train Epoch: 32 [51200/54225 (94%)]\tLoss_D: 0.090624\n",
      "Train Epoch: 33 [0/54225 (0%)]\tLoss_G: 2.842272\n",
      "Train Epoch: 33 [0/54225 (0%)]\tLoss_D: 0.031869\n",
      "Train Epoch: 33 [12800/54225 (24%)]\tLoss_G: 3.115104\n",
      "Train Epoch: 33 [12800/54225 (24%)]\tLoss_D: 0.095499\n",
      "Train Epoch: 33 [25600/54225 (47%)]\tLoss_G: 4.032926\n",
      "Train Epoch: 33 [25600/54225 (47%)]\tLoss_D: 0.191447\n",
      "Train Epoch: 33 [38400/54225 (71%)]\tLoss_G: 6.968086\n",
      "Train Epoch: 33 [38400/54225 (71%)]\tLoss_D: 0.197142\n",
      "Train Epoch: 33 [51200/54225 (94%)]\tLoss_G: 2.789473\n",
      "Train Epoch: 33 [51200/54225 (94%)]\tLoss_D: 0.108742\n",
      "Train Epoch: 34 [0/54225 (0%)]\tLoss_G: 2.483595\n",
      "Train Epoch: 34 [0/54225 (0%)]\tLoss_D: 0.109427\n",
      "Train Epoch: 34 [12800/54225 (24%)]\tLoss_G: 5.704276\n",
      "Train Epoch: 34 [12800/54225 (24%)]\tLoss_D: 0.017156\n",
      "Train Epoch: 34 [25600/54225 (47%)]\tLoss_G: 4.922797\n",
      "Train Epoch: 34 [25600/54225 (47%)]\tLoss_D: 0.020453\n",
      "Train Epoch: 34 [38400/54225 (71%)]\tLoss_G: 2.257828\n",
      "Train Epoch: 34 [38400/54225 (71%)]\tLoss_D: 0.161977\n",
      "Train Epoch: 34 [51200/54225 (94%)]\tLoss_G: 3.858189\n",
      "Train Epoch: 34 [51200/54225 (94%)]\tLoss_D: 0.463665\n",
      "Train Epoch: 35 [0/54225 (0%)]\tLoss_G: 2.206294\n",
      "Train Epoch: 35 [0/54225 (0%)]\tLoss_D: 0.798417\n",
      "Train Epoch: 35 [12800/54225 (24%)]\tLoss_G: 2.096558\n",
      "Train Epoch: 35 [12800/54225 (24%)]\tLoss_D: 0.308271\n",
      "Train Epoch: 35 [25600/54225 (47%)]\tLoss_G: 3.926545\n",
      "Train Epoch: 35 [25600/54225 (47%)]\tLoss_D: 0.084064\n",
      "Train Epoch: 35 [38400/54225 (71%)]\tLoss_G: 5.120864\n",
      "Train Epoch: 35 [38400/54225 (71%)]\tLoss_D: 0.044582\n",
      "Train Epoch: 35 [51200/54225 (94%)]\tLoss_G: 2.271442\n",
      "Train Epoch: 35 [51200/54225 (94%)]\tLoss_D: 0.074032\n",
      "Train Epoch: 36 [0/54225 (0%)]\tLoss_G: 5.189263\n",
      "Train Epoch: 36 [0/54225 (0%)]\tLoss_D: 0.159508\n",
      "Train Epoch: 36 [12800/54225 (24%)]\tLoss_G: 2.663083\n",
      "Train Epoch: 36 [12800/54225 (24%)]\tLoss_D: 0.321990\n",
      "Train Epoch: 36 [25600/54225 (47%)]\tLoss_G: 4.073692\n",
      "Train Epoch: 36 [25600/54225 (47%)]\tLoss_D: 0.715898\n",
      "Train Epoch: 36 [38400/54225 (71%)]\tLoss_G: 5.414751\n",
      "Train Epoch: 36 [38400/54225 (71%)]\tLoss_D: 0.234138\n",
      "Train Epoch: 36 [51200/54225 (94%)]\tLoss_G: 6.163218\n",
      "Train Epoch: 36 [51200/54225 (94%)]\tLoss_D: 0.074139\n",
      "Train Epoch: 37 [0/54225 (0%)]\tLoss_G: 3.703559\n",
      "Train Epoch: 37 [0/54225 (0%)]\tLoss_D: 0.053631\n",
      "Train Epoch: 37 [12800/54225 (24%)]\tLoss_G: 3.841651\n",
      "Train Epoch: 37 [12800/54225 (24%)]\tLoss_D: 0.359364\n",
      "Train Epoch: 37 [25600/54225 (47%)]\tLoss_G: 1.819442\n",
      "Train Epoch: 37 [25600/54225 (47%)]\tLoss_D: 0.079554\n",
      "Train Epoch: 37 [38400/54225 (71%)]\tLoss_G: 6.791671\n",
      "Train Epoch: 37 [38400/54225 (71%)]\tLoss_D: 0.241802\n",
      "Train Epoch: 37 [51200/54225 (94%)]\tLoss_G: 4.306734\n",
      "Train Epoch: 37 [51200/54225 (94%)]\tLoss_D: 0.075554\n",
      "Train Epoch: 38 [0/54225 (0%)]\tLoss_G: 3.574739\n",
      "Train Epoch: 38 [0/54225 (0%)]\tLoss_D: 0.316655\n",
      "Train Epoch: 38 [12800/54225 (24%)]\tLoss_G: 9.441881\n",
      "Train Epoch: 38 [12800/54225 (24%)]\tLoss_D: 1.066438\n",
      "Train Epoch: 38 [25600/54225 (47%)]\tLoss_G: 3.253920\n",
      "Train Epoch: 38 [25600/54225 (47%)]\tLoss_D: 0.576559\n",
      "Train Epoch: 38 [38400/54225 (71%)]\tLoss_G: 2.818202\n",
      "Train Epoch: 38 [38400/54225 (71%)]\tLoss_D: 0.200614\n",
      "Train Epoch: 38 [51200/54225 (94%)]\tLoss_G: 5.145689\n",
      "Train Epoch: 38 [51200/54225 (94%)]\tLoss_D: 0.193818\n",
      "Train Epoch: 39 [0/54225 (0%)]\tLoss_G: 5.922078\n",
      "Train Epoch: 39 [0/54225 (0%)]\tLoss_D: 0.024945\n",
      "Train Epoch: 39 [12800/54225 (24%)]\tLoss_G: 1.571336\n",
      "Train Epoch: 39 [12800/54225 (24%)]\tLoss_D: 0.246027\n",
      "Train Epoch: 39 [25600/54225 (47%)]\tLoss_G: 1.993647\n",
      "Train Epoch: 39 [25600/54225 (47%)]\tLoss_D: 0.059411\n",
      "Train Epoch: 39 [38400/54225 (71%)]\tLoss_G: 3.105682\n",
      "Train Epoch: 39 [38400/54225 (71%)]\tLoss_D: 0.084372\n",
      "Train Epoch: 39 [51200/54225 (94%)]\tLoss_G: 2.960805\n",
      "Train Epoch: 39 [51200/54225 (94%)]\tLoss_D: 0.166013\n",
      "Train Epoch: 40 [0/54225 (0%)]\tLoss_G: 2.898250\n",
      "Train Epoch: 40 [0/54225 (0%)]\tLoss_D: 0.593608\n",
      "Train Epoch: 40 [12800/54225 (24%)]\tLoss_G: 7.158246\n",
      "Train Epoch: 40 [12800/54225 (24%)]\tLoss_D: 0.923505\n",
      "Train Epoch: 40 [25600/54225 (47%)]\tLoss_G: 4.153764\n",
      "Train Epoch: 40 [25600/54225 (47%)]\tLoss_D: 0.210195\n",
      "Train Epoch: 40 [38400/54225 (71%)]\tLoss_G: 3.775516\n",
      "Train Epoch: 40 [38400/54225 (71%)]\tLoss_D: 0.529500\n",
      "Train Epoch: 40 [51200/54225 (94%)]\tLoss_G: 3.204585\n",
      "Train Epoch: 40 [51200/54225 (94%)]\tLoss_D: 0.271522\n",
      "Train Epoch: 41 [0/54225 (0%)]\tLoss_G: 7.708987\n",
      "Train Epoch: 41 [0/54225 (0%)]\tLoss_D: 0.430886\n",
      "Train Epoch: 41 [12800/54225 (24%)]\tLoss_G: 2.452393\n",
      "Train Epoch: 41 [12800/54225 (24%)]\tLoss_D: 0.396735\n",
      "Train Epoch: 41 [25600/54225 (47%)]\tLoss_G: 2.842356\n",
      "Train Epoch: 41 [25600/54225 (47%)]\tLoss_D: 0.024617\n",
      "Train Epoch: 41 [38400/54225 (71%)]\tLoss_G: 3.242020\n",
      "Train Epoch: 41 [38400/54225 (71%)]\tLoss_D: 0.153452\n",
      "Train Epoch: 41 [51200/54225 (94%)]\tLoss_G: 3.387799\n",
      "Train Epoch: 41 [51200/54225 (94%)]\tLoss_D: 0.052151\n",
      "Train Epoch: 42 [0/54225 (0%)]\tLoss_G: 4.937587\n",
      "Train Epoch: 42 [0/54225 (0%)]\tLoss_D: 0.182979\n",
      "Train Epoch: 42 [12800/54225 (24%)]\tLoss_G: 4.066270\n",
      "Train Epoch: 42 [12800/54225 (24%)]\tLoss_D: 0.210573\n",
      "Train Epoch: 42 [25600/54225 (47%)]\tLoss_G: 4.291164\n",
      "Train Epoch: 42 [25600/54225 (47%)]\tLoss_D: 0.060140\n",
      "Train Epoch: 42 [38400/54225 (71%)]\tLoss_G: 2.138016\n",
      "Train Epoch: 42 [38400/54225 (71%)]\tLoss_D: 0.188852\n",
      "Train Epoch: 42 [51200/54225 (94%)]\tLoss_G: 3.952568\n",
      "Train Epoch: 42 [51200/54225 (94%)]\tLoss_D: 0.182167\n",
      "Train Epoch: 43 [0/54225 (0%)]\tLoss_G: 3.733068\n",
      "Train Epoch: 43 [0/54225 (0%)]\tLoss_D: 0.243307\n",
      "Train Epoch: 43 [12800/54225 (24%)]\tLoss_G: 3.946344\n",
      "Train Epoch: 43 [12800/54225 (24%)]\tLoss_D: 0.396627\n",
      "Train Epoch: 43 [25600/54225 (47%)]\tLoss_G: 2.476604\n",
      "Train Epoch: 43 [25600/54225 (47%)]\tLoss_D: 0.037408\n",
      "Train Epoch: 43 [38400/54225 (71%)]\tLoss_G: 3.169583\n",
      "Train Epoch: 43 [38400/54225 (71%)]\tLoss_D: 0.147306\n",
      "Train Epoch: 43 [51200/54225 (94%)]\tLoss_G: 5.500556\n",
      "Train Epoch: 43 [51200/54225 (94%)]\tLoss_D: 0.077255\n",
      "Train Epoch: 44 [0/54225 (0%)]\tLoss_G: 2.951044\n",
      "Train Epoch: 44 [0/54225 (0%)]\tLoss_D: 0.019956\n",
      "Train Epoch: 44 [12800/54225 (24%)]\tLoss_G: 5.415224\n",
      "Train Epoch: 44 [12800/54225 (24%)]\tLoss_D: 0.013875\n",
      "Train Epoch: 44 [25600/54225 (47%)]\tLoss_G: 5.851839\n",
      "Train Epoch: 44 [25600/54225 (47%)]\tLoss_D: 0.174792\n",
      "Train Epoch: 44 [38400/54225 (71%)]\tLoss_G: 3.561637\n",
      "Train Epoch: 44 [38400/54225 (71%)]\tLoss_D: 0.054772\n",
      "Train Epoch: 44 [51200/54225 (94%)]\tLoss_G: 4.292819\n",
      "Train Epoch: 44 [51200/54225 (94%)]\tLoss_D: 0.297081\n",
      "Train Epoch: 45 [0/54225 (0%)]\tLoss_G: 3.960737\n",
      "Train Epoch: 45 [0/54225 (0%)]\tLoss_D: 0.064331\n",
      "Train Epoch: 45 [12800/54225 (24%)]\tLoss_G: 4.108704\n",
      "Train Epoch: 45 [12800/54225 (24%)]\tLoss_D: 0.132143\n",
      "Train Epoch: 45 [25600/54225 (47%)]\tLoss_G: 3.108029\n",
      "Train Epoch: 45 [25600/54225 (47%)]\tLoss_D: 0.016094\n",
      "Train Epoch: 45 [38400/54225 (71%)]\tLoss_G: 1.893376\n",
      "Train Epoch: 45 [38400/54225 (71%)]\tLoss_D: 0.096594\n",
      "Train Epoch: 45 [51200/54225 (94%)]\tLoss_G: 2.396618\n",
      "Train Epoch: 45 [51200/54225 (94%)]\tLoss_D: 0.114167\n",
      "Train Epoch: 46 [0/54225 (0%)]\tLoss_G: 2.502410\n",
      "Train Epoch: 46 [0/54225 (0%)]\tLoss_D: 0.837449\n",
      "Train Epoch: 46 [12800/54225 (24%)]\tLoss_G: 4.324824\n",
      "Train Epoch: 46 [12800/54225 (24%)]\tLoss_D: 0.082017\n",
      "Train Epoch: 46 [25600/54225 (47%)]\tLoss_G: 4.125324\n",
      "Train Epoch: 46 [25600/54225 (47%)]\tLoss_D: 0.037042\n",
      "Train Epoch: 46 [38400/54225 (71%)]\tLoss_G: 1.457509\n",
      "Train Epoch: 46 [38400/54225 (71%)]\tLoss_D: 0.143522\n",
      "Train Epoch: 46 [51200/54225 (94%)]\tLoss_G: 4.150225\n",
      "Train Epoch: 46 [51200/54225 (94%)]\tLoss_D: 0.089121\n",
      "Train Epoch: 47 [0/54225 (0%)]\tLoss_G: 2.324982\n",
      "Train Epoch: 47 [0/54225 (0%)]\tLoss_D: 0.121686\n",
      "Train Epoch: 47 [12800/54225 (24%)]\tLoss_G: 3.651988\n",
      "Train Epoch: 47 [12800/54225 (24%)]\tLoss_D: 0.037905\n",
      "Train Epoch: 47 [25600/54225 (47%)]\tLoss_G: 3.972850\n",
      "Train Epoch: 47 [25600/54225 (47%)]\tLoss_D: 0.008136\n",
      "Train Epoch: 47 [38400/54225 (71%)]\tLoss_G: 4.197858\n",
      "Train Epoch: 47 [38400/54225 (71%)]\tLoss_D: 0.012995\n",
      "Train Epoch: 47 [51200/54225 (94%)]\tLoss_G: 2.407353\n",
      "Train Epoch: 47 [51200/54225 (94%)]\tLoss_D: 0.151641\n",
      "Train Epoch: 48 [0/54225 (0%)]\tLoss_G: 2.241227\n",
      "Train Epoch: 48 [0/54225 (0%)]\tLoss_D: 0.169186\n",
      "Train Epoch: 48 [12800/54225 (24%)]\tLoss_G: 4.905129\n",
      "Train Epoch: 48 [12800/54225 (24%)]\tLoss_D: 0.029558\n",
      "Train Epoch: 48 [25600/54225 (47%)]\tLoss_G: 4.993214\n",
      "Train Epoch: 48 [25600/54225 (47%)]\tLoss_D: 0.472963\n"
     ]
    },
    {
     "name": "stdout",
     "output_type": "stream",
     "text": [
      "Train Epoch: 48 [38400/54225 (71%)]\tLoss_G: 9.308264\n",
      "Train Epoch: 48 [38400/54225 (71%)]\tLoss_D: 1.997836\n",
      "Train Epoch: 48 [51200/54225 (94%)]\tLoss_G: 2.615142\n",
      "Train Epoch: 48 [51200/54225 (94%)]\tLoss_D: 0.053003\n",
      "Train Epoch: 49 [0/54225 (0%)]\tLoss_G: 5.104595\n",
      "Train Epoch: 49 [0/54225 (0%)]\tLoss_D: 0.622630\n",
      "Train Epoch: 49 [12800/54225 (24%)]\tLoss_G: 6.414140\n",
      "Train Epoch: 49 [12800/54225 (24%)]\tLoss_D: 0.706169\n",
      "Train Epoch: 49 [25600/54225 (47%)]\tLoss_G: 6.297383\n",
      "Train Epoch: 49 [25600/54225 (47%)]\tLoss_D: 0.087365\n",
      "Train Epoch: 49 [38400/54225 (71%)]\tLoss_G: 1.640129\n",
      "Train Epoch: 49 [38400/54225 (71%)]\tLoss_D: 0.047194\n",
      "Train Epoch: 49 [51200/54225 (94%)]\tLoss_G: 2.731375\n",
      "Train Epoch: 49 [51200/54225 (94%)]\tLoss_D: 0.061589\n",
      "Train Epoch: 50 [0/54225 (0%)]\tLoss_G: 3.990324\n",
      "Train Epoch: 50 [0/54225 (0%)]\tLoss_D: 0.025927\n",
      "Train Epoch: 50 [12800/54225 (24%)]\tLoss_G: 5.771862\n",
      "Train Epoch: 50 [12800/54225 (24%)]\tLoss_D: 0.253065\n",
      "Train Epoch: 50 [25600/54225 (47%)]\tLoss_G: 6.348818\n",
      "Train Epoch: 50 [25600/54225 (47%)]\tLoss_D: 0.196745\n",
      "Train Epoch: 50 [38400/54225 (71%)]\tLoss_G: 0.754148\n",
      "Train Epoch: 50 [38400/54225 (71%)]\tLoss_D: 0.232818\n",
      "Train Epoch: 50 [51200/54225 (94%)]\tLoss_G: 1.237221\n",
      "Train Epoch: 50 [51200/54225 (94%)]\tLoss_D: 0.028553\n",
      "Train Epoch: 51 [0/54225 (0%)]\tLoss_G: 1.879837\n",
      "Train Epoch: 51 [0/54225 (0%)]\tLoss_D: 0.040301\n",
      "Train Epoch: 51 [12800/54225 (24%)]\tLoss_G: 3.070404\n",
      "Train Epoch: 51 [12800/54225 (24%)]\tLoss_D: 0.072655\n",
      "Train Epoch: 51 [25600/54225 (47%)]\tLoss_G: 2.788508\n",
      "Train Epoch: 51 [25600/54225 (47%)]\tLoss_D: 0.010122\n",
      "Train Epoch: 51 [38400/54225 (71%)]\tLoss_G: 1.509251\n",
      "Train Epoch: 51 [38400/54225 (71%)]\tLoss_D: 0.180940\n",
      "Train Epoch: 51 [51200/54225 (94%)]\tLoss_G: 3.259689\n",
      "Train Epoch: 51 [51200/54225 (94%)]\tLoss_D: 0.127419\n",
      "Train Epoch: 52 [0/54225 (0%)]\tLoss_G: 2.033949\n",
      "Train Epoch: 52 [0/54225 (0%)]\tLoss_D: 1.411866\n",
      "Train Epoch: 52 [12800/54225 (24%)]\tLoss_G: 1.338221\n",
      "Train Epoch: 52 [12800/54225 (24%)]\tLoss_D: 0.164958\n",
      "Train Epoch: 52 [25600/54225 (47%)]\tLoss_G: 1.343533\n",
      "Train Epoch: 52 [25600/54225 (47%)]\tLoss_D: 0.130190\n",
      "Train Epoch: 52 [38400/54225 (71%)]\tLoss_G: 1.251596\n",
      "Train Epoch: 52 [38400/54225 (71%)]\tLoss_D: 0.028279\n",
      "Train Epoch: 52 [51200/54225 (94%)]\tLoss_G: 3.094692\n",
      "Train Epoch: 52 [51200/54225 (94%)]\tLoss_D: 0.159251\n",
      "Train Epoch: 53 [0/54225 (0%)]\tLoss_G: 2.144131\n",
      "Train Epoch: 53 [0/54225 (0%)]\tLoss_D: 0.022154\n",
      "Train Epoch: 53 [12800/54225 (24%)]\tLoss_G: 3.159326\n",
      "Train Epoch: 53 [12800/54225 (24%)]\tLoss_D: 0.163593\n",
      "Train Epoch: 53 [25600/54225 (47%)]\tLoss_G: 1.953970\n",
      "Train Epoch: 53 [25600/54225 (47%)]\tLoss_D: 0.305238\n",
      "Train Epoch: 53 [38400/54225 (71%)]\tLoss_G: 1.100258\n",
      "Train Epoch: 53 [38400/54225 (71%)]\tLoss_D: 0.015784\n",
      "Train Epoch: 53 [51200/54225 (94%)]\tLoss_G: 9.318681\n",
      "Train Epoch: 53 [51200/54225 (94%)]\tLoss_D: 0.140042\n",
      "Train Epoch: 54 [0/54225 (0%)]\tLoss_G: 4.086885\n",
      "Train Epoch: 54 [0/54225 (0%)]\tLoss_D: 0.053164\n",
      "Train Epoch: 54 [12800/54225 (24%)]\tLoss_G: 5.603568\n",
      "Train Epoch: 54 [12800/54225 (24%)]\tLoss_D: 0.023974\n",
      "Train Epoch: 54 [25600/54225 (47%)]\tLoss_G: 2.968371\n",
      "Train Epoch: 54 [25600/54225 (47%)]\tLoss_D: 0.024094\n",
      "Train Epoch: 54 [38400/54225 (71%)]\tLoss_G: 4.901145\n",
      "Train Epoch: 54 [38400/54225 (71%)]\tLoss_D: 0.010581\n",
      "Train Epoch: 54 [51200/54225 (94%)]\tLoss_G: 2.609213\n",
      "Train Epoch: 54 [51200/54225 (94%)]\tLoss_D: 0.732409\n",
      "Train Epoch: 55 [0/54225 (0%)]\tLoss_G: 4.771053\n",
      "Train Epoch: 55 [0/54225 (0%)]\tLoss_D: 0.046921\n",
      "Train Epoch: 55 [12800/54225 (24%)]\tLoss_G: 2.905269\n",
      "Train Epoch: 55 [12800/54225 (24%)]\tLoss_D: 0.259981\n",
      "Train Epoch: 55 [25600/54225 (47%)]\tLoss_G: 3.231265\n",
      "Train Epoch: 55 [25600/54225 (47%)]\tLoss_D: 0.084296\n",
      "Train Epoch: 55 [38400/54225 (71%)]\tLoss_G: 2.201457\n",
      "Train Epoch: 55 [38400/54225 (71%)]\tLoss_D: 0.035102\n",
      "Train Epoch: 55 [51200/54225 (94%)]\tLoss_G: 2.199712\n",
      "Train Epoch: 55 [51200/54225 (94%)]\tLoss_D: 0.161128\n",
      "Train Epoch: 56 [0/54225 (0%)]\tLoss_G: 2.393485\n",
      "Train Epoch: 56 [0/54225 (0%)]\tLoss_D: 0.115022\n",
      "Train Epoch: 56 [12800/54225 (24%)]\tLoss_G: 4.972615\n",
      "Train Epoch: 56 [12800/54225 (24%)]\tLoss_D: 0.681387\n",
      "Train Epoch: 56 [25600/54225 (47%)]\tLoss_G: 1.886224\n",
      "Train Epoch: 56 [25600/54225 (47%)]\tLoss_D: 0.086099\n",
      "Train Epoch: 56 [38400/54225 (71%)]\tLoss_G: 2.197529\n",
      "Train Epoch: 56 [38400/54225 (71%)]\tLoss_D: 0.091311\n",
      "Train Epoch: 56 [51200/54225 (94%)]\tLoss_G: 1.609068\n",
      "Train Epoch: 56 [51200/54225 (94%)]\tLoss_D: 0.093579\n",
      "Train Epoch: 57 [0/54225 (0%)]\tLoss_G: 5.814315\n",
      "Train Epoch: 57 [0/54225 (0%)]\tLoss_D: 0.480351\n",
      "Train Epoch: 57 [12800/54225 (24%)]\tLoss_G: 3.132859\n",
      "Train Epoch: 57 [12800/54225 (24%)]\tLoss_D: 0.075627\n",
      "Train Epoch: 57 [25600/54225 (47%)]\tLoss_G: 2.521597\n",
      "Train Epoch: 57 [25600/54225 (47%)]\tLoss_D: 0.069264\n",
      "Train Epoch: 57 [38400/54225 (71%)]\tLoss_G: 4.511862\n",
      "Train Epoch: 57 [38400/54225 (71%)]\tLoss_D: 0.335003\n",
      "Train Epoch: 57 [51200/54225 (94%)]\tLoss_G: 2.976422\n",
      "Train Epoch: 57 [51200/54225 (94%)]\tLoss_D: 0.245539\n",
      "Train Epoch: 58 [0/54225 (0%)]\tLoss_G: 3.068392\n",
      "Train Epoch: 58 [0/54225 (0%)]\tLoss_D: 0.080894\n",
      "Train Epoch: 58 [12800/54225 (24%)]\tLoss_G: 2.021448\n",
      "Train Epoch: 58 [12800/54225 (24%)]\tLoss_D: 0.062614\n",
      "Train Epoch: 58 [25600/54225 (47%)]\tLoss_G: 4.700768\n",
      "Train Epoch: 58 [25600/54225 (47%)]\tLoss_D: 0.041509\n",
      "Train Epoch: 58 [38400/54225 (71%)]\tLoss_G: 3.928240\n",
      "Train Epoch: 58 [38400/54225 (71%)]\tLoss_D: 0.050691\n",
      "Train Epoch: 58 [51200/54225 (94%)]\tLoss_G: 0.843509\n",
      "Train Epoch: 58 [51200/54225 (94%)]\tLoss_D: 0.166806\n",
      "Train Epoch: 59 [0/54225 (0%)]\tLoss_G: 3.709391\n",
      "Train Epoch: 59 [0/54225 (0%)]\tLoss_D: 0.245980\n",
      "Train Epoch: 59 [12800/54225 (24%)]\tLoss_G: 2.041420\n",
      "Train Epoch: 59 [12800/54225 (24%)]\tLoss_D: 0.963109\n",
      "Train Epoch: 59 [25600/54225 (47%)]\tLoss_G: 3.343335\n",
      "Train Epoch: 59 [25600/54225 (47%)]\tLoss_D: 0.431453\n",
      "Train Epoch: 59 [38400/54225 (71%)]\tLoss_G: 2.357583\n",
      "Train Epoch: 59 [38400/54225 (71%)]\tLoss_D: 0.029152\n",
      "Train Epoch: 59 [51200/54225 (94%)]\tLoss_G: 1.626876\n",
      "Train Epoch: 59 [51200/54225 (94%)]\tLoss_D: 0.064701\n"
     ]
    }
   ],
   "source": [
    "loss_D = []\n",
    "loss_G = []\n",
    "\n",
    "epochs = 60\n",
    "\n",
    "\n",
    "D_losses = []\n",
    "G_losses = []\n",
    "start_time = time.time()\n",
    "for epoch in range(epochs):    \n",
    "    for i, (x, label) in enumerate(data_loader): # reduced!\n",
    "\n",
    "        x = x.to(DEVICE)\n",
    "        label = label.to(DEVICE)\n",
    "        \n",
    "        for p in D.parameters():  \n",
    "            p.requires_grad = True  \n",
    "            \n",
    "        # Update 'D' : max log(D(x)) + log(1-D(G(z)))\n",
    "        batch_size = x.size(0)\n",
    "        D.zero_grad()\n",
    "        conditional_latent_generator\n",
    "        \n",
    "        # Training D with the real batch    \n",
    "        D_real = D(x)\n",
    "        real_label.resize_(batch_size).copy_(label)  #!\n",
    "        D_loss_real = criterion(D_real, real_label.to(DEVICE))\n",
    "        D_loss_real.backward()\n",
    "        # Training D with the fake batch\n",
    "        fake_num = math.ceil(batch_size/10)\n",
    "        \n",
    "        conditional_z, z_label = conditional_latent_generator(\n",
    "            distribution, class_num, batch_size\n",
    "        )\n",
    "        \n",
    "        noise = conditional_z[0:fake_num]\n",
    "        fake_label.resize_(noise.shape[0]).fill_(10) # метка 10 для fake\n",
    "        fake = G(noise.float())\n",
    "        D_fake = D(fake.detach())        \n",
    "        D_loss_fake = criterion(D_fake, fake_label.to(DEVICE))\n",
    "        D_loss_fake.backward()\n",
    "        # Computing\n",
    "        D_loss = D_loss_real + D_loss_fake\n",
    "        # Updating\n",
    "        optimizerD.step()\n",
    "        \n",
    "        \n",
    "        if i%5 == 0 and i!=0:\n",
    "            for p in D.parameters():  \n",
    "                p.requires_grad = False \n",
    "            G.zero_grad()\n",
    "            ##\n",
    "            conditional_z, z_label = conditional_latent_generator(\n",
    "                distribution, class_num, batch_size\n",
    "            )\n",
    "            ##\n",
    "            noise = conditional_z\n",
    "            fake = G(noise.float())\n",
    "            D_fake = D(fake)\n",
    "            G_loss = criterion(D_fake, z_label.to(DEVICE)) \n",
    "            G_loss.backward()\n",
    "            # Updating\n",
    "            optimizerG.step()\n",
    "\n",
    "            G_losses.append(G_loss.item())\n",
    "            D_losses.append(D_loss.item())\n",
    "        \n",
    "        if (i == len(data_loader_autoen) - 1): # per epoch \n",
    "            loss_D.append(D_loss.item())\n",
    "            loss_G.append(G_loss.item())\n",
    "        \n",
    "        if epoch > 0 and i % 100 == 0:\n",
    "            print('Train Epoch: {} [{}/{} ({:.0f}%)]\\tLoss_G: {:.6f}'.format(\n",
    "                epoch, i * len(x), len(data_loader.dataset),\n",
    "                100. * i / len(data_loader), G_loss.item()))\n",
    "            \n",
    "        if epoch > 0 and i % 100 == 0:\n",
    "            print('Train Epoch: {} [{}/{} ({:.0f}%)]\\tLoss_D: {:.6f}'.format(\n",
    "                epoch, i * len(x), len(data_loader.dataset),\n",
    "                100. * i / len(data_loader), D_loss.item()))\n",
    "\n",
    "            \n",
    "            \n",
    "    if epoch == 0:\n",
    "        print(\"---1 epoch: %s seconds ---\" % (time.time() - start_time))\n",
    "        \n",
    "        \n",
    "torch.save({'epoch': epoch, 'state_dict': G.state_dict(),}, \n",
    "           checkpoint_dir +'/G.pth' )\n",
    "torch.save({'epoch': epoch, 'state_dict': D.state_dict(),}, \n",
    "           checkpoint_dir +'/D.pth' )"
   ]
  },
  {
   "cell_type": "code",
   "execution_count": 58,
   "metadata": {},
   "outputs": [
    {
     "data": {
      "image/png": "[encoded data removed]",
      "text/plain": [
       "<Figure size 432x288 with 1 Axes>"
      ]
     },
     "metadata": {
      "needs_background": "light"
     },
     "output_type": "display_data"
    }
   ],
   "source": [
    "plt.plot([i for i in range(epochs)], loss_G, '.', label = 'G')\n",
    "plt.plot([i for i in range(epochs)], loss_D, label = 'D')\n",
    "plt.legend()\n",
    "plt.xlabel('Epochs')\n",
    "plt.ylabel('Loss')\n",
    "plt.title(\"BAGAN\")\n",
    "plt.show()"
   ]
  },
  {
   "cell_type": "code",
   "execution_count": 59,
   "metadata": {},
   "outputs": [
    {
     "data": {
      "image/png": "[encoded data removed]",
      "text/plain": [
       "<Figure size 432x288 with 1 Axes>"
      ]
     },
     "metadata": {
      "needs_background": "light"
     },
     "output_type": "display_data"
    }
   ],
   "source": [
    "plt.plot(G_losses, '.', label='G')\n",
    "plt.plot(D_losses,  label='D')\n",
    "plt.legend()\n",
    "plt.xlabel('Iterations')\n",
    "plt.ylabel('Loss')\n",
    "plt.title(\"BAGAN\")\n",
    "plt.show()"
   ]
  },
  {
   "cell_type": "code",
   "execution_count": 60,
   "metadata": {},
   "outputs": [],
   "source": [
    "fixed_noise = torch.FloatTensor(batch_size, latent_dims).normal_(0, 1).to(DEVICE)"
   ]
  },
  {
   "cell_type": "code",
   "execution_count": 62,
   "metadata": {},
   "outputs": [],
   "source": [
    "A, B = conditional_latent_generator(distribution, 1, batch_size)\n",
    "A = A.float()"
   ]
  },
  {
   "cell_type": "code",
   "execution_count": 63,
   "metadata": {},
   "outputs": [
    {
     "data": {
      "image/png": "[encoded data removed]",
      "text/plain": [
       "<Figure size 432x288 with 6 Axes>"
      ]
     },
     "metadata": {},
     "output_type": "display_data"
    }
   ],
   "source": [
    "plot_results(G, A, 128, is_gray = True )\n",
    "## синтезируются нули"
   ]
  },
  {
   "cell_type": "code",
   "execution_count": null,
   "metadata": {},
   "outputs": [],
   "source": []
  },
  {
   "cell_type": "code",
   "execution_count": null,
   "metadata": {},
   "outputs": [],
   "source": []
  },
  {
   "cell_type": "code",
   "execution_count": null,
   "metadata": {},
   "outputs": [],
   "source": []
  }
 ],
 "metadata": {
  "kernelspec": {
   "display_name": "Python 3",
   "language": "python",
   "name": "python3"
  },
  "language_info": {
   "codemirror_mode": {
    "name": "ipython",
    "version": 3
   },
   "file_extension": ".py",
   "mimetype": "text/x-python",
   "name": "python",
   "nbconvert_exporter": "python",
   "pygments_lexer": "ipython3",
   "version": "3.7.6"
  }
 },
 "nbformat": 4,
 "nbformat_minor": 4
}
